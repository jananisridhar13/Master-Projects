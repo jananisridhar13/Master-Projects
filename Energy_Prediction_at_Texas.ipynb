{
  "nbformat": 4,
  "nbformat_minor": 0,
  "metadata": {
    "colab": {
      "name": "Energy Prediction at Texas.ipynb",
      "provenance": [],
      "collapsed_sections": [],
      "toc_visible": true
    },
    "kernelspec": {
      "name": "python3",
      "display_name": "Python 3"
    }
  },
  "cells": [
    {
      "cell_type": "markdown",
      "metadata": {
        "id": "F6HXxbmNV2QA"
      },
      "source": [
        "#Project 3: Energy Prediction\n",
        "\n",
        "Team 9: Aman Chaturvedi (2888825),\n",
        "Janani Sridhar (2892366)"
      ]
    },
    {
      "cell_type": "markdown",
      "metadata": {
        "id": "gLvR8_bkWYBB"
      },
      "source": [
        "# Introduction"
      ]
    },
    {
      "cell_type": "markdown",
      "metadata": {
        "id": "lJ7xaXJqWAZN"
      },
      "source": [
        "A historic cold snap that has left millions of Texans without electricity, water, and heat for days, claims that the state’s use of renewable energy sources, specifically wind energy. The winter storm that began on 13 February, which brought some of the coldest weather the state has experienced since 1989.\n",
        "\n",
        "As USA Today reported here , Texas has emerged in recent years as not just a national but a global leader in building renewable energy. Wind generates 20% of total electricity in Texas, where natural gas supplies 47.4%, coal supplies 20.3% and solar supplies 1.1%. The storm has knocked about a third of the state’s generating capacity offline. Natural gas wells and pipelines in Texas, the country’s biggest energy-producing state, did not undergo the winterization of those farther.\n",
        "While Texas leads the U.S. in the production of natural gas, that gas couldn't be used to provide electrical power and to heat homes in Texas because of the way natural gas is stored. It is stored in underground chambers, and to bring it to the surface, a pump is required. Due to natural gas wells and pipes that are ill-equipped for cold weather, “liquid inside wells, pipes, and valves froze solid. \n",
        "\n",
        "With the advent of machine learning, accurately predicting future energy consumption becomes increasingly possible. Forecasts provide a benchmark to single out anomalously high/low energy consumption and alert people.\n",
        "The prediction and scheduling are two of the main pillars of efficient Energy Management Systems (EMS). Advances in machine learning studies have a tremendous impact on the field of smart building energy management as it is crucial to reduce energy consumption of various types of building from residential buildings to industrial buildings.\n",
        "\n",
        "Our task is to predict demand for energy in 2015 using historic energy data and based on weather variables. We are given with two datasets - Demand data and weather data.\n"
      ]
    },
    {
      "cell_type": "markdown",
      "metadata": {
        "id": "aND9jJjpn17Q"
      },
      "source": [
        "## Citation\n",
        "\n",
        "1. https://en.wikipedia.org/wiki/2021_Texas_power_crisis\n",
        "\n",
        "2. https://www.texastribune.org/series/winter-storm-power-outage/\n",
        "\n",
        "3. https://www.texastribune.org/2021/03/29/texas-power-outage-ERCOT/\n",
        "\n",
        "4. https://www.usatoday.com/in-depth/news/nation/2021/02/16/texas-weather-power-outage-rolling-blackouts-leave-millions-dark/6764764002/\n",
        "\n",
        "5. https://towardsdatascience.com/forecasting-energy-consumption-using-neural-networks-xgboost-2032b6e6f7e2\n",
        "\n",
        "6. https://www.cnbc.com/2021/03/26/how-texas-tough-winter-exposed-us-power-grid-problems-.html\n"
      ]
    },
    {
      "cell_type": "markdown",
      "metadata": {
        "id": "8CMxzNP7Wf88"
      },
      "source": [
        "Importing Libraries"
      ]
    },
    {
      "cell_type": "code",
      "metadata": {
        "id": "_XTRS-r--X9T"
      },
      "source": [
        "import matplotlib.pyplot as plt\n",
        "import calendar\n",
        "from datetime import datetime\n",
        "\n",
        "# RNN-specific modules\n",
        "import pandas as pd\n",
        "import numpy as np\n",
        "import seaborn as sns\n",
        "import matplotlib.pyplot as plt\n",
        "from sklearn.preprocessing import MinMaxScaler\n",
        "from sklearn.metrics import classification_report,accuracy_score\n",
        "from tensorflow.keras import layers, Sequential\n",
        "from tensorflow.keras.layers import Conv1D, MaxPooling1D\n",
        "from tensorflow.keras.layers import Dense, Dropout, SimpleRNN, GRU, LSTM, Bidirectional\n",
        "from tensorflow.keras.callbacks import EarlyStopping"
      ],
      "execution_count": null,
      "outputs": []
    },
    {
      "cell_type": "markdown",
      "metadata": {
        "id": "cAT-0QxlAW70"
      },
      "source": [
        "# Demand Data"
      ]
    },
    {
      "cell_type": "markdown",
      "metadata": {
        "id": "jPSNmGJV-bKV"
      },
      "source": [
        "## Reading the demand data"
      ]
    },
    {
      "cell_type": "code",
      "metadata": {
        "colab": {
          "base_uri": "https://localhost:8080/"
        },
        "id": "ypqlIwFF-dib",
        "outputId": "3e16234b-ace8-4fe5-f03d-57d33576dde2"
      },
      "source": [
        "# https://drive.google.com/file/d/1M7-XiHcfboUzKZ-tmflDomy_IuRAvnw9/view?usp=sharing\n",
        "!gdown --id 1M7-XiHcfboUzKZ-tmflDomy_IuRAvnw9"
      ],
      "execution_count": null,
      "outputs": [
        {
          "output_type": "stream",
          "text": [
            "Downloading...\n",
            "From: https://drive.google.com/uc?id=1M7-XiHcfboUzKZ-tmflDomy_IuRAvnw9\n",
            "To: /content/Ercot_2011_2021_feb.csv\n",
            "\r0.00B [00:00, ?B/s]\r524kB [00:00, 3.35MB/s]\r3.52MB [00:00, 13.3MB/s]\n"
          ],
          "name": "stdout"
        }
      ]
    },
    {
      "cell_type": "code",
      "metadata": {
        "colab": {
          "base_uri": "https://localhost:8080/",
          "height": 191
        },
        "id": "CGKF4xBr-nl4",
        "outputId": "ba6ec63c-adb2-4c69-a59f-acaba87aaf73"
      },
      "source": [
        "energy = pd.read_csv('Ercot_2011_2021_feb.csv') # it just downloaded locally to your workspace!\n",
        "energy.head()"
      ],
      "execution_count": null,
      "outputs": [
        {
          "output_type": "execute_result",
          "data": {
            "text/html": [
              "<div>\n",
              "<style scoped>\n",
              "    .dataframe tbody tr th:only-of-type {\n",
              "        vertical-align: middle;\n",
              "    }\n",
              "\n",
              "    .dataframe tbody tr th {\n",
              "        vertical-align: top;\n",
              "    }\n",
              "\n",
              "    .dataframe thead th {\n",
              "        text-align: right;\n",
              "    }\n",
              "</style>\n",
              "<table border=\"1\" class=\"dataframe\">\n",
              "  <thead>\n",
              "    <tr style=\"text-align: right;\">\n",
              "      <th></th>\n",
              "      <th>Unnamed: 0</th>\n",
              "      <th>Date</th>\n",
              "      <th>HE</th>\n",
              "      <th>MWh</th>\n",
              "    </tr>\n",
              "  </thead>\n",
              "  <tbody>\n",
              "    <tr>\n",
              "      <th>0</th>\n",
              "      <td>0</td>\n",
              "      <td>2010-01-01</td>\n",
              "      <td>1</td>\n",
              "      <td>32094.064435</td>\n",
              "    </tr>\n",
              "    <tr>\n",
              "      <th>1</th>\n",
              "      <td>1</td>\n",
              "      <td>2010-01-01</td>\n",
              "      <td>2</td>\n",
              "      <td>32171.322546</td>\n",
              "    </tr>\n",
              "    <tr>\n",
              "      <th>2</th>\n",
              "      <td>2</td>\n",
              "      <td>2010-01-01</td>\n",
              "      <td>3</td>\n",
              "      <td>32241.752463</td>\n",
              "    </tr>\n",
              "    <tr>\n",
              "      <th>3</th>\n",
              "      <td>3</td>\n",
              "      <td>2010-01-01</td>\n",
              "      <td>4</td>\n",
              "      <td>32459.193227</td>\n",
              "    </tr>\n",
              "    <tr>\n",
              "      <th>4</th>\n",
              "      <td>4</td>\n",
              "      <td>2010-01-01</td>\n",
              "      <td>5</td>\n",
              "      <td>33123.751047</td>\n",
              "    </tr>\n",
              "  </tbody>\n",
              "</table>\n",
              "</div>"
            ],
            "text/plain": [
              "   Unnamed: 0        Date  HE           MWh\n",
              "0           0  2010-01-01   1  32094.064435\n",
              "1           1  2010-01-01   2  32171.322546\n",
              "2           2  2010-01-01   3  32241.752463\n",
              "3           3  2010-01-01   4  32459.193227\n",
              "4           4  2010-01-01   5  33123.751047"
            ]
          },
          "metadata": {
            "tags": []
          },
          "execution_count": 3
        }
      ]
    },
    {
      "cell_type": "code",
      "metadata": {
        "colab": {
          "base_uri": "https://localhost:8080/",
          "height": 281
        },
        "id": "FENkg7yv-vEK",
        "outputId": "0acc8fec-a481-4037-a01e-700a67846d24"
      },
      "source": [
        "# this is your target variable\n",
        "energy['MWh'].plot()"
      ],
      "execution_count": null,
      "outputs": [
        {
          "output_type": "execute_result",
          "data": {
            "text/plain": [
              "<matplotlib.axes._subplots.AxesSubplot at 0x7ff1f041d590>"
            ]
          },
          "metadata": {
            "tags": []
          },
          "execution_count": 4
        },
        {
          "output_type": "display_data",
          "data": {
            "image/png": "[encoded data removed]",
            "text/plain": [
              "<Figure size 432x288 with 1 Axes>"
            ]
          },
          "metadata": {
            "tags": [],
            "needs_background": "light"
          }
        }
      ]
    },
    {
      "cell_type": "code",
      "metadata": {
        "colab": {
          "base_uri": "https://localhost:8080/"
        },
        "id": "IrvPmk3MC2XR",
        "outputId": "9c0d4b88-689c-4bef-cfa6-7812737348a7"
      },
      "source": [
        "print(energy['Date'].min())\n",
        "print(energy['Date'].max())"
      ],
      "execution_count": null,
      "outputs": [
        {
          "output_type": "stream",
          "text": [
            "2010-01-01\n",
            "2021-03-01\n"
          ],
          "name": "stdout"
        }
      ]
    },
    {
      "cell_type": "markdown",
      "metadata": {
        "id": "3gc8A_bHDAWP"
      },
      "source": [
        "## Data Cleaning : Demand Data"
      ]
    },
    {
      "cell_type": "code",
      "metadata": {
        "id": "44KtF6rR6o44"
      },
      "source": [
        "energy['HE'] = energy['HE'].astype(str)"
      ],
      "execution_count": null,
      "outputs": []
    },
    {
      "cell_type": "code",
      "metadata": {
        "id": "tq_Evo9d6tcP"
      },
      "source": [
        "energy['valid_date'] = energy['Date'] + ' ' + energy['HE'] + ':' + '00:00'"
      ],
      "execution_count": null,
      "outputs": []
    },
    {
      "cell_type": "code",
      "metadata": {
        "id": "cUKM4tIj6x9M"
      },
      "source": [
        "energy['valid_date'] = pd.to_datetime(energy['valid_date'])"
      ],
      "execution_count": null,
      "outputs": []
    },
    {
      "cell_type": "code",
      "metadata": {
        "id": "ecFWK4or60U0"
      },
      "source": [
        "energy = energy.drop([\"Date\", \"HE\"], axis = 1)"
      ],
      "execution_count": null,
      "outputs": []
    },
    {
      "cell_type": "code",
      "metadata": {
        "id": "TO-jjn3d6-Xo"
      },
      "source": [
        "#Extract the dates from 2011 to 2014\n",
        "\n",
        "from datetime import datetime\n",
        "\n",
        "start_date = \"2011-01-01 00:00:00\" \n",
        "end_date = \"2015-12-31 00:23:00\" \n",
        "\n",
        "start_date_obj = datetime.strptime(start_date, '%Y-%m-%d %H:%M:%S')\n",
        "end_date_obj = datetime.strptime(end_date, '%Y-%m-%d %H:%M:%S')\n",
        "\n",
        "after_start_date = energy[\"valid_date\"] >= start_date_obj\n",
        "before_end_date = energy[\"valid_date\"] <= end_date_obj\n",
        "between_two_dates = after_start_date & before_end_date\n",
        "energy_final = energy.loc[between_two_dates]"
      ],
      "execution_count": null,
      "outputs": []
    },
    {
      "cell_type": "code",
      "metadata": {
        "colab": {
          "base_uri": "https://localhost:8080/"
        },
        "id": "zDO7mibP2PZK",
        "outputId": "349e6025-3347-471d-fb73-0d9f43082f96"
      },
      "source": [
        "energy_final.isnull().sum()"
      ],
      "execution_count": null,
      "outputs": [
        {
          "output_type": "execute_result",
          "data": {
            "text/plain": [
              "Unnamed: 0    0\n",
              "MWh           0\n",
              "valid_date    0\n",
              "dtype: int64"
            ]
          },
          "metadata": {
            "tags": []
          },
          "execution_count": 11
        }
      ]
    },
    {
      "cell_type": "code",
      "metadata": {
        "colab": {
          "base_uri": "https://localhost:8080/",
          "height": 191
        },
        "id": "_Df24ivU8fiK",
        "outputId": "bb8d4d4e-c9fb-4eda-e2fd-fa7a2f460253"
      },
      "source": [
        "energy_final.head()"
      ],
      "execution_count": null,
      "outputs": [
        {
          "output_type": "execute_result",
          "data": {
            "text/html": [
              "<div>\n",
              "<style scoped>\n",
              "    .dataframe tbody tr th:only-of-type {\n",
              "        vertical-align: middle;\n",
              "    }\n",
              "\n",
              "    .dataframe tbody tr th {\n",
              "        vertical-align: top;\n",
              "    }\n",
              "\n",
              "    .dataframe thead th {\n",
              "        text-align: right;\n",
              "    }\n",
              "</style>\n",
              "<table border=\"1\" class=\"dataframe\">\n",
              "  <thead>\n",
              "    <tr style=\"text-align: right;\">\n",
              "      <th></th>\n",
              "      <th>Unnamed: 0</th>\n",
              "      <th>MWh</th>\n",
              "      <th>valid_date</th>\n",
              "    </tr>\n",
              "  </thead>\n",
              "  <tbody>\n",
              "    <tr>\n",
              "      <th>8759</th>\n",
              "      <td>8759</td>\n",
              "      <td>28496.388850</td>\n",
              "      <td>2011-01-01 00:00:00</td>\n",
              "    </tr>\n",
              "    <tr>\n",
              "      <th>8760</th>\n",
              "      <td>8760</td>\n",
              "      <td>27662.443480</td>\n",
              "      <td>2011-01-01 01:00:00</td>\n",
              "    </tr>\n",
              "    <tr>\n",
              "      <th>8761</th>\n",
              "      <td>8761</td>\n",
              "      <td>27250.044715</td>\n",
              "      <td>2011-01-01 02:00:00</td>\n",
              "    </tr>\n",
              "    <tr>\n",
              "      <th>8762</th>\n",
              "      <td>8762</td>\n",
              "      <td>26783.226081</td>\n",
              "      <td>2011-01-01 03:00:00</td>\n",
              "    </tr>\n",
              "    <tr>\n",
              "      <th>8763</th>\n",
              "      <td>8763</td>\n",
              "      <td>26676.468490</td>\n",
              "      <td>2011-01-01 04:00:00</td>\n",
              "    </tr>\n",
              "  </tbody>\n",
              "</table>\n",
              "</div>"
            ],
            "text/plain": [
              "      Unnamed: 0           MWh          valid_date\n",
              "8759        8759  28496.388850 2011-01-01 00:00:00\n",
              "8760        8760  27662.443480 2011-01-01 01:00:00\n",
              "8761        8761  27250.044715 2011-01-01 02:00:00\n",
              "8762        8762  26783.226081 2011-01-01 03:00:00\n",
              "8763        8763  26676.468490 2011-01-01 04:00:00"
            ]
          },
          "metadata": {
            "tags": []
          },
          "execution_count": 12
        }
      ]
    },
    {
      "cell_type": "code",
      "metadata": {
        "id": "4v_OlLpv8qzq"
      },
      "source": [
        "energy_final = energy_final.drop([\"Unnamed: 0\"], axis = 1)"
      ],
      "execution_count": null,
      "outputs": []
    },
    {
      "cell_type": "code",
      "metadata": {
        "colab": {
          "base_uri": "https://localhost:8080/",
          "height": 391
        },
        "id": "T-3W-V2GpSqs",
        "outputId": "01ea1f4b-e1c0-43ba-f0c7-4d99a26d32d4"
      },
      "source": [
        "energy_final"
      ],
      "execution_count": null,
      "outputs": [
        {
          "output_type": "execute_result",
          "data": {
            "text/html": [
              "<div>\n",
              "<style scoped>\n",
              "    .dataframe tbody tr th:only-of-type {\n",
              "        vertical-align: middle;\n",
              "    }\n",
              "\n",
              "    .dataframe tbody tr th {\n",
              "        vertical-align: top;\n",
              "    }\n",
              "\n",
              "    .dataframe thead th {\n",
              "        text-align: right;\n",
              "    }\n",
              "</style>\n",
              "<table border=\"1\" class=\"dataframe\">\n",
              "  <thead>\n",
              "    <tr style=\"text-align: right;\">\n",
              "      <th></th>\n",
              "      <th>MWh</th>\n",
              "      <th>valid_date</th>\n",
              "    </tr>\n",
              "  </thead>\n",
              "  <tbody>\n",
              "    <tr>\n",
              "      <th>8759</th>\n",
              "      <td>28496.388850</td>\n",
              "      <td>2011-01-01 00:00:00</td>\n",
              "    </tr>\n",
              "    <tr>\n",
              "      <th>8760</th>\n",
              "      <td>27662.443480</td>\n",
              "      <td>2011-01-01 01:00:00</td>\n",
              "    </tr>\n",
              "    <tr>\n",
              "      <th>8761</th>\n",
              "      <td>27250.044715</td>\n",
              "      <td>2011-01-01 02:00:00</td>\n",
              "    </tr>\n",
              "    <tr>\n",
              "      <th>8762</th>\n",
              "      <td>26783.226081</td>\n",
              "      <td>2011-01-01 03:00:00</td>\n",
              "    </tr>\n",
              "    <tr>\n",
              "      <th>8763</th>\n",
              "      <td>26676.468490</td>\n",
              "      <td>2011-01-01 04:00:00</td>\n",
              "    </tr>\n",
              "    <tr>\n",
              "      <th>...</th>\n",
              "      <td>...</td>\n",
              "      <td>...</td>\n",
              "    </tr>\n",
              "    <tr>\n",
              "      <th>52555</th>\n",
              "      <td>39674.167296</td>\n",
              "      <td>2015-12-30 20:00:00</td>\n",
              "    </tr>\n",
              "    <tr>\n",
              "      <th>52556</th>\n",
              "      <td>39485.829257</td>\n",
              "      <td>2015-12-30 21:00:00</td>\n",
              "    </tr>\n",
              "    <tr>\n",
              "      <th>52557</th>\n",
              "      <td>38711.458864</td>\n",
              "      <td>2015-12-30 22:00:00</td>\n",
              "    </tr>\n",
              "    <tr>\n",
              "      <th>52558</th>\n",
              "      <td>37254.930151</td>\n",
              "      <td>2015-12-30 23:00:00</td>\n",
              "    </tr>\n",
              "    <tr>\n",
              "      <th>52559</th>\n",
              "      <td>35517.364870</td>\n",
              "      <td>2015-12-31 00:00:00</td>\n",
              "    </tr>\n",
              "  </tbody>\n",
              "</table>\n",
              "<p>43801 rows × 2 columns</p>\n",
              "</div>"
            ],
            "text/plain": [
              "                MWh          valid_date\n",
              "8759   28496.388850 2011-01-01 00:00:00\n",
              "8760   27662.443480 2011-01-01 01:00:00\n",
              "8761   27250.044715 2011-01-01 02:00:00\n",
              "8762   26783.226081 2011-01-01 03:00:00\n",
              "8763   26676.468490 2011-01-01 04:00:00\n",
              "...             ...                 ...\n",
              "52555  39674.167296 2015-12-30 20:00:00\n",
              "52556  39485.829257 2015-12-30 21:00:00\n",
              "52557  38711.458864 2015-12-30 22:00:00\n",
              "52558  37254.930151 2015-12-30 23:00:00\n",
              "52559  35517.364870 2015-12-31 00:00:00\n",
              "\n",
              "[43801 rows x 2 columns]"
            ]
          },
          "metadata": {
            "tags": []
          },
          "execution_count": 14
        }
      ]
    },
    {
      "cell_type": "code",
      "metadata": {
        "colab": {
          "base_uri": "https://localhost:8080/"
        },
        "id": "-AfyYcdSik62",
        "outputId": "85c1bd0e-f9bb-4f2c-9a8e-f0bb119dce85"
      },
      "source": [
        "print(energy_final['MWh'].min())\n",
        "print(energy_final['MWh'].max())"
      ],
      "execution_count": null,
      "outputs": [
        {
          "output_type": "stream",
          "text": [
            "22366.014253999994\n",
            "69620.40761393859\n"
          ],
          "name": "stdout"
        }
      ]
    },
    {
      "cell_type": "markdown",
      "metadata": {
        "id": "ty9kJXB3AY8e"
      },
      "source": [
        "# Weather Data"
      ]
    },
    {
      "cell_type": "markdown",
      "metadata": {
        "id": "YqRajGc0-cWz"
      },
      "source": [
        "## Reading the weather data"
      ]
    },
    {
      "cell_type": "code",
      "metadata": {
        "colab": {
          "base_uri": "https://localhost:8080/"
        },
        "id": "b5EcIdIH-eGE",
        "outputId": "6483dc9c-47b4-462c-c508-bef1c72bf20a"
      },
      "source": [
        "# https://drive.google.com/file/d/1vl2RKquLYS1QRyYE7ySIj24jPnXFp2od/view?usp=sharing\n",
        "!gdown --id 1vl2RKquLYS1QRyYE7ySIj24jPnXFp2od"
      ],
      "execution_count": null,
      "outputs": [
        {
          "output_type": "stream",
          "text": [
            "Downloading...\n",
            "From: https://drive.google.com/uc?id=1vl2RKquLYS1QRyYE7ySIj24jPnXFp2od\n",
            "To: /content/FST.csv\n",
            "97.2MB [00:01, 76.7MB/s]\n"
          ],
          "name": "stdout"
        }
      ]
    },
    {
      "cell_type": "code",
      "metadata": {
        "colab": {
          "base_uri": "https://localhost:8080/",
          "height": 812
        },
        "id": "YRKp_Xkw_Av_",
        "outputId": "d8091bcd-c402-4e45-9704-66f6c8897ef9"
      },
      "source": [
        "weather = pd.read_csv('FST.csv')\n",
        "weather.head()"
      ],
      "execution_count": null,
      "outputs": [
        {
          "output_type": "stream",
          "text": [
            "/usr/local/lib/python3.7/dist-packages/IPython/core/interactiveshell.py:2718: DtypeWarning: Columns (8) have mixed types.Specify dtype option on import or set low_memory=False.\n",
            "  interactivity=interactivity, compiler=compiler, result=result)\n"
          ],
          "name": "stderr"
        },
        {
          "output_type": "execute_result",
          "data": {
            "text/html": [
              "<div>\n",
              "<style scoped>\n",
              "    .dataframe tbody tr th:only-of-type {\n",
              "        vertical-align: middle;\n",
              "    }\n",
              "\n",
              "    .dataframe tbody tr th {\n",
              "        vertical-align: top;\n",
              "    }\n",
              "\n",
              "    .dataframe thead th {\n",
              "        text-align: right;\n",
              "    }\n",
              "</style>\n",
              "<table border=\"1\" class=\"dataframe\">\n",
              "  <thead>\n",
              "    <tr style=\"text-align: right;\">\n",
              "      <th></th>\n",
              "      <th>station</th>\n",
              "      <th>valid</th>\n",
              "      <th>tmpf</th>\n",
              "      <th>dwpf</th>\n",
              "      <th>relh</th>\n",
              "      <th>drct</th>\n",
              "      <th>sknt</th>\n",
              "      <th>p01i</th>\n",
              "      <th>alti</th>\n",
              "      <th>mslp</th>\n",
              "      <th>vsby</th>\n",
              "      <th>gust</th>\n",
              "      <th>skyc1</th>\n",
              "      <th>skyc2</th>\n",
              "      <th>skyc3</th>\n",
              "      <th>skyc4</th>\n",
              "      <th>skyl1</th>\n",
              "      <th>skyl2</th>\n",
              "      <th>skyl3</th>\n",
              "      <th>skyl4</th>\n",
              "      <th>wxcodes</th>\n",
              "      <th>ice_accretion_1hr</th>\n",
              "      <th>ice_accretion_3hr</th>\n",
              "      <th>ice_accretion_6hr</th>\n",
              "      <th>peak_wind_gust</th>\n",
              "      <th>peak_wind_drct</th>\n",
              "      <th>peak_wind_time</th>\n",
              "      <th>feel</th>\n",
              "      <th>metar</th>\n",
              "    </tr>\n",
              "  </thead>\n",
              "  <tbody>\n",
              "    <tr>\n",
              "      <th>0</th>\n",
              "      <td>FST</td>\n",
              "      <td>2010-01-01 00:53</td>\n",
              "      <td>30.02</td>\n",
              "      <td>24.98</td>\n",
              "      <td>81.27</td>\n",
              "      <td>180.00</td>\n",
              "      <td>5.00</td>\n",
              "      <td>M</td>\n",
              "      <td>30.50</td>\n",
              "      <td>1031.80</td>\n",
              "      <td>10.00</td>\n",
              "      <td>M</td>\n",
              "      <td>CLR</td>\n",
              "      <td></td>\n",
              "      <td></td>\n",
              "      <td>M</td>\n",
              "      <td>M</td>\n",
              "      <td>M</td>\n",
              "      <td>M</td>\n",
              "      <td>M</td>\n",
              "      <td>M</td>\n",
              "      <td>M</td>\n",
              "      <td>M</td>\n",
              "      <td>M</td>\n",
              "      <td>M</td>\n",
              "      <td>M</td>\n",
              "      <td>M</td>\n",
              "      <td>24.04</td>\n",
              "      <td>METAR KFST 010553Z AUTO 18005KT 10SM CLR M01/M...</td>\n",
              "    </tr>\n",
              "    <tr>\n",
              "      <th>1</th>\n",
              "      <td>FST</td>\n",
              "      <td>2010-01-01 01:53</td>\n",
              "      <td>28.04</td>\n",
              "      <td>24.08</td>\n",
              "      <td>84.87</td>\n",
              "      <td>190.00</td>\n",
              "      <td>5.00</td>\n",
              "      <td>M</td>\n",
              "      <td>30.49</td>\n",
              "      <td>1031.30</td>\n",
              "      <td>10.00</td>\n",
              "      <td>M</td>\n",
              "      <td>CLR</td>\n",
              "      <td></td>\n",
              "      <td></td>\n",
              "      <td>M</td>\n",
              "      <td>M</td>\n",
              "      <td>M</td>\n",
              "      <td>M</td>\n",
              "      <td>M</td>\n",
              "      <td>M</td>\n",
              "      <td>M</td>\n",
              "      <td>M</td>\n",
              "      <td>M</td>\n",
              "      <td>M</td>\n",
              "      <td>M</td>\n",
              "      <td>M</td>\n",
              "      <td>21.69</td>\n",
              "      <td>METAR KFST 010653Z AUTO 19005KT 10SM CLR M02/M...</td>\n",
              "    </tr>\n",
              "    <tr>\n",
              "      <th>2</th>\n",
              "      <td>FST</td>\n",
              "      <td>2010-01-01 02:53</td>\n",
              "      <td>26.96</td>\n",
              "      <td>23.00</td>\n",
              "      <td>84.80</td>\n",
              "      <td>220.00</td>\n",
              "      <td>9.00</td>\n",
              "      <td>M</td>\n",
              "      <td>30.47</td>\n",
              "      <td>1030.90</td>\n",
              "      <td>10.00</td>\n",
              "      <td>M</td>\n",
              "      <td>CLR</td>\n",
              "      <td></td>\n",
              "      <td></td>\n",
              "      <td>M</td>\n",
              "      <td>M</td>\n",
              "      <td>M</td>\n",
              "      <td>M</td>\n",
              "      <td>M</td>\n",
              "      <td>M</td>\n",
              "      <td>M</td>\n",
              "      <td>M</td>\n",
              "      <td>M</td>\n",
              "      <td>M</td>\n",
              "      <td>M</td>\n",
              "      <td>M</td>\n",
              "      <td>17.25</td>\n",
              "      <td>METAR KFST 010753Z AUTO 22009KT 10SM CLR M03/M...</td>\n",
              "    </tr>\n",
              "    <tr>\n",
              "      <th>3</th>\n",
              "      <td>FST</td>\n",
              "      <td>2010-01-01 03:53</td>\n",
              "      <td>26.96</td>\n",
              "      <td>23.00</td>\n",
              "      <td>84.80</td>\n",
              "      <td>210.00</td>\n",
              "      <td>8.00</td>\n",
              "      <td>M</td>\n",
              "      <td>30.46</td>\n",
              "      <td>1030.40</td>\n",
              "      <td>10.00</td>\n",
              "      <td>M</td>\n",
              "      <td>CLR</td>\n",
              "      <td></td>\n",
              "      <td></td>\n",
              "      <td>M</td>\n",
              "      <td>M</td>\n",
              "      <td>M</td>\n",
              "      <td>M</td>\n",
              "      <td>M</td>\n",
              "      <td>M</td>\n",
              "      <td>M</td>\n",
              "      <td>M</td>\n",
              "      <td>M</td>\n",
              "      <td>M</td>\n",
              "      <td>M</td>\n",
              "      <td>M</td>\n",
              "      <td>17.90</td>\n",
              "      <td>METAR KFST 010853Z AUTO 21008KT 10SM CLR M03/M...</td>\n",
              "    </tr>\n",
              "    <tr>\n",
              "      <th>4</th>\n",
              "      <td>FST</td>\n",
              "      <td>2010-01-01 04:53</td>\n",
              "      <td>28.04</td>\n",
              "      <td>23.00</td>\n",
              "      <td>81.11</td>\n",
              "      <td>220.00</td>\n",
              "      <td>12.00</td>\n",
              "      <td>M</td>\n",
              "      <td>30.44</td>\n",
              "      <td>1030.00</td>\n",
              "      <td>10.00</td>\n",
              "      <td>M</td>\n",
              "      <td>CLR</td>\n",
              "      <td></td>\n",
              "      <td></td>\n",
              "      <td>M</td>\n",
              "      <td>M</td>\n",
              "      <td>M</td>\n",
              "      <td>M</td>\n",
              "      <td>M</td>\n",
              "      <td>M</td>\n",
              "      <td>M</td>\n",
              "      <td>M</td>\n",
              "      <td>M</td>\n",
              "      <td>M</td>\n",
              "      <td>M</td>\n",
              "      <td>M</td>\n",
              "      <td>16.96</td>\n",
              "      <td>METAR KFST 010953Z AUTO 22012KT 10SM CLR M02/M...</td>\n",
              "    </tr>\n",
              "  </tbody>\n",
              "</table>\n",
              "</div>"
            ],
            "text/plain": [
              "  station  ...                                              metar\n",
              "0     FST  ...  METAR KFST 010553Z AUTO 18005KT 10SM CLR M01/M...\n",
              "1     FST  ...  METAR KFST 010653Z AUTO 19005KT 10SM CLR M02/M...\n",
              "2     FST  ...  METAR KFST 010753Z AUTO 22009KT 10SM CLR M03/M...\n",
              "3     FST  ...  METAR KFST 010853Z AUTO 21008KT 10SM CLR M03/M...\n",
              "4     FST  ...  METAR KFST 010953Z AUTO 22012KT 10SM CLR M02/M...\n",
              "\n",
              "[5 rows x 29 columns]"
            ]
          },
          "metadata": {
            "tags": []
          },
          "execution_count": 18
        }
      ]
    },
    {
      "cell_type": "markdown",
      "metadata": {
        "id": "2Z7aU5dhXBO1"
      },
      "source": [
        "## Data Cleaning : Weather Data"
      ]
    },
    {
      "cell_type": "code",
      "metadata": {
        "colab": {
          "base_uri": "https://localhost:8080/"
        },
        "id": "2grFch_g_af4",
        "outputId": "995834c1-a3a9-47c8-c2c6-6eb3f3cd8edc"
      },
      "source": [
        "# convert time stamp to datetime for interpolation\n",
        "weather['valid'] = pd.to_datetime(weather['valid'])\n",
        "weather.dtypes"
      ],
      "execution_count": null,
      "outputs": [
        {
          "output_type": "execute_result",
          "data": {
            "text/plain": [
              "station                      object\n",
              "valid                datetime64[ns]\n",
              "tmpf                         object\n",
              "dwpf                         object\n",
              "relh                         object\n",
              "drct                         object\n",
              "sknt                         object\n",
              "p01i                         object\n",
              "alti                         object\n",
              "mslp                         object\n",
              "vsby                         object\n",
              "gust                         object\n",
              "skyc1                        object\n",
              "skyc2                        object\n",
              "skyc3                        object\n",
              "skyc4                        object\n",
              "skyl1                        object\n",
              "skyl2                        object\n",
              "skyl3                        object\n",
              "skyl4                        object\n",
              "wxcodes                      object\n",
              "ice_accretion_1hr            object\n",
              "ice_accretion_3hr            object\n",
              "ice_accretion_6hr            object\n",
              "peak_wind_gust               object\n",
              "peak_wind_drct               object\n",
              "peak_wind_time               object\n",
              "feel                         object\n",
              "metar                        object\n",
              "dtype: object"
            ]
          },
          "metadata": {
            "tags": []
          },
          "execution_count": 19
        }
      ]
    },
    {
      "cell_type": "code",
      "metadata": {
        "colab": {
          "base_uri": "https://localhost:8080/"
        },
        "id": "93Zc1ZzsADlS",
        "outputId": "9ab6520c-6127-40e1-e57f-9f0e5a891d2f"
      },
      "source": [
        "# look at the datetime range\n",
        "print(weather['valid'].min())\n",
        "print(weather['valid'].max())"
      ],
      "execution_count": null,
      "outputs": [
        {
          "output_type": "stream",
          "text": [
            "2010-01-01 00:53:00\n",
            "2021-02-19 23:55:00\n"
          ],
          "name": "stdout"
        }
      ]
    },
    {
      "cell_type": "code",
      "metadata": {
        "colab": {
          "base_uri": "https://localhost:8080/",
          "height": 808
        },
        "id": "gQr4dgGk_n_r",
        "outputId": "80408eb9-a9fa-4f3b-c17d-96a9900d58da"
      },
      "source": [
        "# set the datetime as the index so you can do interpolation later\n",
        "weather.set_index(weather['valid'], inplace=True)\n",
        "weather.head() # see how the valid column is now the index? this will allow\n",
        "                # you to do resampling to hourly resolution"
      ],
      "execution_count": null,
      "outputs": [
        {
          "output_type": "execute_result",
          "data": {
            "text/html": [
              "<div>\n",
              "<style scoped>\n",
              "    .dataframe tbody tr th:only-of-type {\n",
              "        vertical-align: middle;\n",
              "    }\n",
              "\n",
              "    .dataframe tbody tr th {\n",
              "        vertical-align: top;\n",
              "    }\n",
              "\n",
              "    .dataframe thead th {\n",
              "        text-align: right;\n",
              "    }\n",
              "</style>\n",
              "<table border=\"1\" class=\"dataframe\">\n",
              "  <thead>\n",
              "    <tr style=\"text-align: right;\">\n",
              "      <th></th>\n",
              "      <th>station</th>\n",
              "      <th>valid</th>\n",
              "      <th>tmpf</th>\n",
              "      <th>dwpf</th>\n",
              "      <th>relh</th>\n",
              "      <th>drct</th>\n",
              "      <th>sknt</th>\n",
              "      <th>p01i</th>\n",
              "      <th>alti</th>\n",
              "      <th>mslp</th>\n",
              "      <th>vsby</th>\n",
              "      <th>gust</th>\n",
              "      <th>skyc1</th>\n",
              "      <th>skyc2</th>\n",
              "      <th>skyc3</th>\n",
              "      <th>skyc4</th>\n",
              "      <th>skyl1</th>\n",
              "      <th>skyl2</th>\n",
              "      <th>skyl3</th>\n",
              "      <th>skyl4</th>\n",
              "      <th>wxcodes</th>\n",
              "      <th>ice_accretion_1hr</th>\n",
              "      <th>ice_accretion_3hr</th>\n",
              "      <th>ice_accretion_6hr</th>\n",
              "      <th>peak_wind_gust</th>\n",
              "      <th>peak_wind_drct</th>\n",
              "      <th>peak_wind_time</th>\n",
              "      <th>feel</th>\n",
              "      <th>metar</th>\n",
              "    </tr>\n",
              "    <tr>\n",
              "      <th>valid</th>\n",
              "      <th></th>\n",
              "      <th></th>\n",
              "      <th></th>\n",
              "      <th></th>\n",
              "      <th></th>\n",
              "      <th></th>\n",
              "      <th></th>\n",
              "      <th></th>\n",
              "      <th></th>\n",
              "      <th></th>\n",
              "      <th></th>\n",
              "      <th></th>\n",
              "      <th></th>\n",
              "      <th></th>\n",
              "      <th></th>\n",
              "      <th></th>\n",
              "      <th></th>\n",
              "      <th></th>\n",
              "      <th></th>\n",
              "      <th></th>\n",
              "      <th></th>\n",
              "      <th></th>\n",
              "      <th></th>\n",
              "      <th></th>\n",
              "      <th></th>\n",
              "      <th></th>\n",
              "      <th></th>\n",
              "      <th></th>\n",
              "      <th></th>\n",
              "    </tr>\n",
              "  </thead>\n",
              "  <tbody>\n",
              "    <tr>\n",
              "      <th>2010-01-01 00:53:00</th>\n",
              "      <td>FST</td>\n",
              "      <td>2010-01-01 00:53:00</td>\n",
              "      <td>30.02</td>\n",
              "      <td>24.98</td>\n",
              "      <td>81.27</td>\n",
              "      <td>180.00</td>\n",
              "      <td>5.00</td>\n",
              "      <td>M</td>\n",
              "      <td>30.50</td>\n",
              "      <td>1031.80</td>\n",
              "      <td>10.00</td>\n",
              "      <td>M</td>\n",
              "      <td>CLR</td>\n",
              "      <td></td>\n",
              "      <td></td>\n",
              "      <td>M</td>\n",
              "      <td>M</td>\n",
              "      <td>M</td>\n",
              "      <td>M</td>\n",
              "      <td>M</td>\n",
              "      <td>M</td>\n",
              "      <td>M</td>\n",
              "      <td>M</td>\n",
              "      <td>M</td>\n",
              "      <td>M</td>\n",
              "      <td>M</td>\n",
              "      <td>M</td>\n",
              "      <td>24.04</td>\n",
              "      <td>METAR KFST 010553Z AUTO 18005KT 10SM CLR M01/M...</td>\n",
              "    </tr>\n",
              "    <tr>\n",
              "      <th>2010-01-01 01:53:00</th>\n",
              "      <td>FST</td>\n",
              "      <td>2010-01-01 01:53:00</td>\n",
              "      <td>28.04</td>\n",
              "      <td>24.08</td>\n",
              "      <td>84.87</td>\n",
              "      <td>190.00</td>\n",
              "      <td>5.00</td>\n",
              "      <td>M</td>\n",
              "      <td>30.49</td>\n",
              "      <td>1031.30</td>\n",
              "      <td>10.00</td>\n",
              "      <td>M</td>\n",
              "      <td>CLR</td>\n",
              "      <td></td>\n",
              "      <td></td>\n",
              "      <td>M</td>\n",
              "      <td>M</td>\n",
              "      <td>M</td>\n",
              "      <td>M</td>\n",
              "      <td>M</td>\n",
              "      <td>M</td>\n",
              "      <td>M</td>\n",
              "      <td>M</td>\n",
              "      <td>M</td>\n",
              "      <td>M</td>\n",
              "      <td>M</td>\n",
              "      <td>M</td>\n",
              "      <td>21.69</td>\n",
              "      <td>METAR KFST 010653Z AUTO 19005KT 10SM CLR M02/M...</td>\n",
              "    </tr>\n",
              "    <tr>\n",
              "      <th>2010-01-01 02:53:00</th>\n",
              "      <td>FST</td>\n",
              "      <td>2010-01-01 02:53:00</td>\n",
              "      <td>26.96</td>\n",
              "      <td>23.00</td>\n",
              "      <td>84.80</td>\n",
              "      <td>220.00</td>\n",
              "      <td>9.00</td>\n",
              "      <td>M</td>\n",
              "      <td>30.47</td>\n",
              "      <td>1030.90</td>\n",
              "      <td>10.00</td>\n",
              "      <td>M</td>\n",
              "      <td>CLR</td>\n",
              "      <td></td>\n",
              "      <td></td>\n",
              "      <td>M</td>\n",
              "      <td>M</td>\n",
              "      <td>M</td>\n",
              "      <td>M</td>\n",
              "      <td>M</td>\n",
              "      <td>M</td>\n",
              "      <td>M</td>\n",
              "      <td>M</td>\n",
              "      <td>M</td>\n",
              "      <td>M</td>\n",
              "      <td>M</td>\n",
              "      <td>M</td>\n",
              "      <td>17.25</td>\n",
              "      <td>METAR KFST 010753Z AUTO 22009KT 10SM CLR M03/M...</td>\n",
              "    </tr>\n",
              "    <tr>\n",
              "      <th>2010-01-01 03:53:00</th>\n",
              "      <td>FST</td>\n",
              "      <td>2010-01-01 03:53:00</td>\n",
              "      <td>26.96</td>\n",
              "      <td>23.00</td>\n",
              "      <td>84.80</td>\n",
              "      <td>210.00</td>\n",
              "      <td>8.00</td>\n",
              "      <td>M</td>\n",
              "      <td>30.46</td>\n",
              "      <td>1030.40</td>\n",
              "      <td>10.00</td>\n",
              "      <td>M</td>\n",
              "      <td>CLR</td>\n",
              "      <td></td>\n",
              "      <td></td>\n",
              "      <td>M</td>\n",
              "      <td>M</td>\n",
              "      <td>M</td>\n",
              "      <td>M</td>\n",
              "      <td>M</td>\n",
              "      <td>M</td>\n",
              "      <td>M</td>\n",
              "      <td>M</td>\n",
              "      <td>M</td>\n",
              "      <td>M</td>\n",
              "      <td>M</td>\n",
              "      <td>M</td>\n",
              "      <td>17.90</td>\n",
              "      <td>METAR KFST 010853Z AUTO 21008KT 10SM CLR M03/M...</td>\n",
              "    </tr>\n",
              "    <tr>\n",
              "      <th>2010-01-01 04:53:00</th>\n",
              "      <td>FST</td>\n",
              "      <td>2010-01-01 04:53:00</td>\n",
              "      <td>28.04</td>\n",
              "      <td>23.00</td>\n",
              "      <td>81.11</td>\n",
              "      <td>220.00</td>\n",
              "      <td>12.00</td>\n",
              "      <td>M</td>\n",
              "      <td>30.44</td>\n",
              "      <td>1030.00</td>\n",
              "      <td>10.00</td>\n",
              "      <td>M</td>\n",
              "      <td>CLR</td>\n",
              "      <td></td>\n",
              "      <td></td>\n",
              "      <td>M</td>\n",
              "      <td>M</td>\n",
              "      <td>M</td>\n",
              "      <td>M</td>\n",
              "      <td>M</td>\n",
              "      <td>M</td>\n",
              "      <td>M</td>\n",
              "      <td>M</td>\n",
              "      <td>M</td>\n",
              "      <td>M</td>\n",
              "      <td>M</td>\n",
              "      <td>M</td>\n",
              "      <td>16.96</td>\n",
              "      <td>METAR KFST 010953Z AUTO 22012KT 10SM CLR M02/M...</td>\n",
              "    </tr>\n",
              "  </tbody>\n",
              "</table>\n",
              "</div>"
            ],
            "text/plain": [
              "                    station  ...                                              metar\n",
              "valid                        ...                                                   \n",
              "2010-01-01 00:53:00     FST  ...  METAR KFST 010553Z AUTO 18005KT 10SM CLR M01/M...\n",
              "2010-01-01 01:53:00     FST  ...  METAR KFST 010653Z AUTO 19005KT 10SM CLR M02/M...\n",
              "2010-01-01 02:53:00     FST  ...  METAR KFST 010753Z AUTO 22009KT 10SM CLR M03/M...\n",
              "2010-01-01 03:53:00     FST  ...  METAR KFST 010853Z AUTO 21008KT 10SM CLR M03/M...\n",
              "2010-01-01 04:53:00     FST  ...  METAR KFST 010953Z AUTO 22012KT 10SM CLR M02/M...\n",
              "\n",
              "[5 rows x 29 columns]"
            ]
          },
          "metadata": {
            "tags": []
          },
          "execution_count": 21
        }
      ]
    },
    {
      "cell_type": "code",
      "metadata": {
        "id": "vYyZHo1Fwr9b"
      },
      "source": [
        "weather_final=weather.loc['2011-01-01 00:00:00':'2015-12-31 23:59:59']"
      ],
      "execution_count": null,
      "outputs": []
    },
    {
      "cell_type": "code",
      "metadata": {
        "colab": {
          "base_uri": "https://localhost:8080/",
          "height": 808
        },
        "id": "p1-HFzfHxG3U",
        "outputId": "e8540a47-7832-443c-d8ed-828d9f7a5396"
      },
      "source": [
        "weather_final.head()"
      ],
      "execution_count": null,
      "outputs": [
        {
          "output_type": "execute_result",
          "data": {
            "text/html": [
              "<div>\n",
              "<style scoped>\n",
              "    .dataframe tbody tr th:only-of-type {\n",
              "        vertical-align: middle;\n",
              "    }\n",
              "\n",
              "    .dataframe tbody tr th {\n",
              "        vertical-align: top;\n",
              "    }\n",
              "\n",
              "    .dataframe thead th {\n",
              "        text-align: right;\n",
              "    }\n",
              "</style>\n",
              "<table border=\"1\" class=\"dataframe\">\n",
              "  <thead>\n",
              "    <tr style=\"text-align: right;\">\n",
              "      <th></th>\n",
              "      <th>station</th>\n",
              "      <th>valid</th>\n",
              "      <th>tmpf</th>\n",
              "      <th>dwpf</th>\n",
              "      <th>relh</th>\n",
              "      <th>drct</th>\n",
              "      <th>sknt</th>\n",
              "      <th>p01i</th>\n",
              "      <th>alti</th>\n",
              "      <th>mslp</th>\n",
              "      <th>vsby</th>\n",
              "      <th>gust</th>\n",
              "      <th>skyc1</th>\n",
              "      <th>skyc2</th>\n",
              "      <th>skyc3</th>\n",
              "      <th>skyc4</th>\n",
              "      <th>skyl1</th>\n",
              "      <th>skyl2</th>\n",
              "      <th>skyl3</th>\n",
              "      <th>skyl4</th>\n",
              "      <th>wxcodes</th>\n",
              "      <th>ice_accretion_1hr</th>\n",
              "      <th>ice_accretion_3hr</th>\n",
              "      <th>ice_accretion_6hr</th>\n",
              "      <th>peak_wind_gust</th>\n",
              "      <th>peak_wind_drct</th>\n",
              "      <th>peak_wind_time</th>\n",
              "      <th>feel</th>\n",
              "      <th>metar</th>\n",
              "    </tr>\n",
              "    <tr>\n",
              "      <th>valid</th>\n",
              "      <th></th>\n",
              "      <th></th>\n",
              "      <th></th>\n",
              "      <th></th>\n",
              "      <th></th>\n",
              "      <th></th>\n",
              "      <th></th>\n",
              "      <th></th>\n",
              "      <th></th>\n",
              "      <th></th>\n",
              "      <th></th>\n",
              "      <th></th>\n",
              "      <th></th>\n",
              "      <th></th>\n",
              "      <th></th>\n",
              "      <th></th>\n",
              "      <th></th>\n",
              "      <th></th>\n",
              "      <th></th>\n",
              "      <th></th>\n",
              "      <th></th>\n",
              "      <th></th>\n",
              "      <th></th>\n",
              "      <th></th>\n",
              "      <th></th>\n",
              "      <th></th>\n",
              "      <th></th>\n",
              "      <th></th>\n",
              "      <th></th>\n",
              "    </tr>\n",
              "  </thead>\n",
              "  <tbody>\n",
              "    <tr>\n",
              "      <th>2011-01-01 00:53:00</th>\n",
              "      <td>FST</td>\n",
              "      <td>2011-01-01 00:53:00</td>\n",
              "      <td>32.00</td>\n",
              "      <td>17.96</td>\n",
              "      <td>55.72</td>\n",
              "      <td>230.00</td>\n",
              "      <td>8.00</td>\n",
              "      <td>M</td>\n",
              "      <td>30.02</td>\n",
              "      <td>1015.50</td>\n",
              "      <td>10.00</td>\n",
              "      <td>-99.00</td>\n",
              "      <td>CLR</td>\n",
              "      <td></td>\n",
              "      <td></td>\n",
              "      <td></td>\n",
              "      <td>M</td>\n",
              "      <td>M</td>\n",
              "      <td>M</td>\n",
              "      <td>M</td>\n",
              "      <td>M</td>\n",
              "      <td>M</td>\n",
              "      <td>M</td>\n",
              "      <td>M</td>\n",
              "      <td>M</td>\n",
              "      <td>M</td>\n",
              "      <td>M</td>\n",
              "      <td>24.11</td>\n",
              "      <td>KFST 010553Z AUTO 23008KT 10SM CLR 00/M08 A300...</td>\n",
              "    </tr>\n",
              "    <tr>\n",
              "      <th>2011-01-01 01:53:00</th>\n",
              "      <td>FST</td>\n",
              "      <td>2011-01-01 01:53:00</td>\n",
              "      <td>33.08</td>\n",
              "      <td>19.04</td>\n",
              "      <td>55.89</td>\n",
              "      <td>250.00</td>\n",
              "      <td>7.00</td>\n",
              "      <td>M</td>\n",
              "      <td>30.03</td>\n",
              "      <td>1015.60</td>\n",
              "      <td>10.00</td>\n",
              "      <td>-99.00</td>\n",
              "      <td>CLR</td>\n",
              "      <td></td>\n",
              "      <td></td>\n",
              "      <td></td>\n",
              "      <td>M</td>\n",
              "      <td>M</td>\n",
              "      <td>M</td>\n",
              "      <td>M</td>\n",
              "      <td>M</td>\n",
              "      <td>M</td>\n",
              "      <td>M</td>\n",
              "      <td>M</td>\n",
              "      <td>M</td>\n",
              "      <td>M</td>\n",
              "      <td>M</td>\n",
              "      <td>26.10</td>\n",
              "      <td>KFST 010653Z AUTO 25007KT 10SM CLR 01/M07 A300...</td>\n",
              "    </tr>\n",
              "    <tr>\n",
              "      <th>2011-01-01 02:53:00</th>\n",
              "      <td>FST</td>\n",
              "      <td>2011-01-01 02:53:00</td>\n",
              "      <td>33.08</td>\n",
              "      <td>17.96</td>\n",
              "      <td>53.36</td>\n",
              "      <td>270.00</td>\n",
              "      <td>9.00</td>\n",
              "      <td>M</td>\n",
              "      <td>30.05</td>\n",
              "      <td>1016.20</td>\n",
              "      <td>10.00</td>\n",
              "      <td>-99.00</td>\n",
              "      <td>CLR</td>\n",
              "      <td></td>\n",
              "      <td></td>\n",
              "      <td></td>\n",
              "      <td>M</td>\n",
              "      <td>M</td>\n",
              "      <td>M</td>\n",
              "      <td>M</td>\n",
              "      <td>M</td>\n",
              "      <td>M</td>\n",
              "      <td>M</td>\n",
              "      <td>M</td>\n",
              "      <td>M</td>\n",
              "      <td>M</td>\n",
              "      <td>M</td>\n",
              "      <td>24.86</td>\n",
              "      <td>KFST 010753Z AUTO 27009KT 10SM CLR 01/M08 A300...</td>\n",
              "    </tr>\n",
              "    <tr>\n",
              "      <th>2011-01-01 03:53:00</th>\n",
              "      <td>FST</td>\n",
              "      <td>2011-01-01 03:53:00</td>\n",
              "      <td>32.00</td>\n",
              "      <td>19.04</td>\n",
              "      <td>58.37</td>\n",
              "      <td>250.00</td>\n",
              "      <td>7.00</td>\n",
              "      <td>M</td>\n",
              "      <td>30.06</td>\n",
              "      <td>1016.60</td>\n",
              "      <td>10.00</td>\n",
              "      <td>-99.00</td>\n",
              "      <td>CLR</td>\n",
              "      <td></td>\n",
              "      <td></td>\n",
              "      <td></td>\n",
              "      <td>M</td>\n",
              "      <td>M</td>\n",
              "      <td>M</td>\n",
              "      <td>M</td>\n",
              "      <td>M</td>\n",
              "      <td>M</td>\n",
              "      <td>M</td>\n",
              "      <td>M</td>\n",
              "      <td>M</td>\n",
              "      <td>M</td>\n",
              "      <td>M</td>\n",
              "      <td>24.78</td>\n",
              "      <td>KFST 010853Z AUTO 25007KT 10SM CLR 00/M07 A300...</td>\n",
              "    </tr>\n",
              "    <tr>\n",
              "      <th>2011-01-01 04:53:00</th>\n",
              "      <td>FST</td>\n",
              "      <td>2011-01-01 04:53:00</td>\n",
              "      <td>30.02</td>\n",
              "      <td>19.04</td>\n",
              "      <td>63.24</td>\n",
              "      <td>260.00</td>\n",
              "      <td>7.00</td>\n",
              "      <td>M</td>\n",
              "      <td>30.07</td>\n",
              "      <td>1017.20</td>\n",
              "      <td>10.00</td>\n",
              "      <td>-99.00</td>\n",
              "      <td>CLR</td>\n",
              "      <td></td>\n",
              "      <td></td>\n",
              "      <td></td>\n",
              "      <td>M</td>\n",
              "      <td>M</td>\n",
              "      <td>M</td>\n",
              "      <td>M</td>\n",
              "      <td>M</td>\n",
              "      <td>M</td>\n",
              "      <td>M</td>\n",
              "      <td>M</td>\n",
              "      <td>M</td>\n",
              "      <td>M</td>\n",
              "      <td>M</td>\n",
              "      <td>22.37</td>\n",
              "      <td>KFST 010953Z AUTO 26007KT 10SM CLR M01/M07 A30...</td>\n",
              "    </tr>\n",
              "  </tbody>\n",
              "</table>\n",
              "</div>"
            ],
            "text/plain": [
              "                    station  ...                                              metar\n",
              "valid                        ...                                                   \n",
              "2011-01-01 00:53:00     FST  ...  KFST 010553Z AUTO 23008KT 10SM CLR 00/M08 A300...\n",
              "2011-01-01 01:53:00     FST  ...  KFST 010653Z AUTO 25007KT 10SM CLR 01/M07 A300...\n",
              "2011-01-01 02:53:00     FST  ...  KFST 010753Z AUTO 27009KT 10SM CLR 01/M08 A300...\n",
              "2011-01-01 03:53:00     FST  ...  KFST 010853Z AUTO 25007KT 10SM CLR 00/M07 A300...\n",
              "2011-01-01 04:53:00     FST  ...  KFST 010953Z AUTO 26007KT 10SM CLR M01/M07 A30...\n",
              "\n",
              "[5 rows x 29 columns]"
            ]
          },
          "metadata": {
            "tags": []
          },
          "execution_count": 23
        }
      ]
    },
    {
      "cell_type": "markdown",
      "metadata": {
        "id": "yqQs2aNNaamT"
      },
      "source": [
        "Extracting data by hour"
      ]
    },
    {
      "cell_type": "code",
      "metadata": {
        "id": "mZL87n_YxN2-"
      },
      "source": [
        "weather_final = weather_final.resample('60T').max()"
      ],
      "execution_count": null,
      "outputs": []
    },
    {
      "cell_type": "code",
      "metadata": {
        "colab": {
          "base_uri": "https://localhost:8080/",
          "height": 808
        },
        "id": "s9zVHM56yy73",
        "outputId": "9e3300ea-0e27-434c-eb11-384690afaef7"
      },
      "source": [
        "weather_final.head()"
      ],
      "execution_count": null,
      "outputs": [
        {
          "output_type": "execute_result",
          "data": {
            "text/html": [
              "<div>\n",
              "<style scoped>\n",
              "    .dataframe tbody tr th:only-of-type {\n",
              "        vertical-align: middle;\n",
              "    }\n",
              "\n",
              "    .dataframe tbody tr th {\n",
              "        vertical-align: top;\n",
              "    }\n",
              "\n",
              "    .dataframe thead th {\n",
              "        text-align: right;\n",
              "    }\n",
              "</style>\n",
              "<table border=\"1\" class=\"dataframe\">\n",
              "  <thead>\n",
              "    <tr style=\"text-align: right;\">\n",
              "      <th></th>\n",
              "      <th>station</th>\n",
              "      <th>valid</th>\n",
              "      <th>tmpf</th>\n",
              "      <th>dwpf</th>\n",
              "      <th>relh</th>\n",
              "      <th>drct</th>\n",
              "      <th>sknt</th>\n",
              "      <th>p01i</th>\n",
              "      <th>alti</th>\n",
              "      <th>mslp</th>\n",
              "      <th>vsby</th>\n",
              "      <th>gust</th>\n",
              "      <th>skyc1</th>\n",
              "      <th>skyc2</th>\n",
              "      <th>skyc3</th>\n",
              "      <th>skyc4</th>\n",
              "      <th>skyl1</th>\n",
              "      <th>skyl2</th>\n",
              "      <th>skyl3</th>\n",
              "      <th>skyl4</th>\n",
              "      <th>wxcodes</th>\n",
              "      <th>ice_accretion_1hr</th>\n",
              "      <th>ice_accretion_3hr</th>\n",
              "      <th>ice_accretion_6hr</th>\n",
              "      <th>peak_wind_gust</th>\n",
              "      <th>peak_wind_drct</th>\n",
              "      <th>peak_wind_time</th>\n",
              "      <th>feel</th>\n",
              "      <th>metar</th>\n",
              "    </tr>\n",
              "    <tr>\n",
              "      <th>valid</th>\n",
              "      <th></th>\n",
              "      <th></th>\n",
              "      <th></th>\n",
              "      <th></th>\n",
              "      <th></th>\n",
              "      <th></th>\n",
              "      <th></th>\n",
              "      <th></th>\n",
              "      <th></th>\n",
              "      <th></th>\n",
              "      <th></th>\n",
              "      <th></th>\n",
              "      <th></th>\n",
              "      <th></th>\n",
              "      <th></th>\n",
              "      <th></th>\n",
              "      <th></th>\n",
              "      <th></th>\n",
              "      <th></th>\n",
              "      <th></th>\n",
              "      <th></th>\n",
              "      <th></th>\n",
              "      <th></th>\n",
              "      <th></th>\n",
              "      <th></th>\n",
              "      <th></th>\n",
              "      <th></th>\n",
              "      <th></th>\n",
              "      <th></th>\n",
              "    </tr>\n",
              "  </thead>\n",
              "  <tbody>\n",
              "    <tr>\n",
              "      <th>2011-01-01 00:00:00</th>\n",
              "      <td>FST</td>\n",
              "      <td>2011-01-01 00:53:00</td>\n",
              "      <td>32.00</td>\n",
              "      <td>17.96</td>\n",
              "      <td>55.72</td>\n",
              "      <td>230.00</td>\n",
              "      <td>8.00</td>\n",
              "      <td>M</td>\n",
              "      <td>30.02</td>\n",
              "      <td>1015.50</td>\n",
              "      <td>10.00</td>\n",
              "      <td>-99.00</td>\n",
              "      <td>CLR</td>\n",
              "      <td></td>\n",
              "      <td></td>\n",
              "      <td></td>\n",
              "      <td>M</td>\n",
              "      <td>M</td>\n",
              "      <td>M</td>\n",
              "      <td>M</td>\n",
              "      <td>M</td>\n",
              "      <td>M</td>\n",
              "      <td>M</td>\n",
              "      <td>M</td>\n",
              "      <td>M</td>\n",
              "      <td>M</td>\n",
              "      <td>M</td>\n",
              "      <td>24.11</td>\n",
              "      <td>KFST 010553Z AUTO 23008KT 10SM CLR 00/M08 A300...</td>\n",
              "    </tr>\n",
              "    <tr>\n",
              "      <th>2011-01-01 01:00:00</th>\n",
              "      <td>FST</td>\n",
              "      <td>2011-01-01 01:53:00</td>\n",
              "      <td>33.08</td>\n",
              "      <td>19.04</td>\n",
              "      <td>55.89</td>\n",
              "      <td>250.00</td>\n",
              "      <td>7.00</td>\n",
              "      <td>M</td>\n",
              "      <td>30.03</td>\n",
              "      <td>1015.60</td>\n",
              "      <td>10.00</td>\n",
              "      <td>-99.00</td>\n",
              "      <td>CLR</td>\n",
              "      <td></td>\n",
              "      <td></td>\n",
              "      <td></td>\n",
              "      <td>M</td>\n",
              "      <td>M</td>\n",
              "      <td>M</td>\n",
              "      <td>M</td>\n",
              "      <td>M</td>\n",
              "      <td>M</td>\n",
              "      <td>M</td>\n",
              "      <td>M</td>\n",
              "      <td>M</td>\n",
              "      <td>M</td>\n",
              "      <td>M</td>\n",
              "      <td>26.10</td>\n",
              "      <td>KFST 010653Z AUTO 25007KT 10SM CLR 01/M07 A300...</td>\n",
              "    </tr>\n",
              "    <tr>\n",
              "      <th>2011-01-01 02:00:00</th>\n",
              "      <td>FST</td>\n",
              "      <td>2011-01-01 02:53:00</td>\n",
              "      <td>33.08</td>\n",
              "      <td>17.96</td>\n",
              "      <td>53.36</td>\n",
              "      <td>270.00</td>\n",
              "      <td>9.00</td>\n",
              "      <td>M</td>\n",
              "      <td>30.05</td>\n",
              "      <td>1016.20</td>\n",
              "      <td>10.00</td>\n",
              "      <td>-99.00</td>\n",
              "      <td>CLR</td>\n",
              "      <td></td>\n",
              "      <td></td>\n",
              "      <td></td>\n",
              "      <td>M</td>\n",
              "      <td>M</td>\n",
              "      <td>M</td>\n",
              "      <td>M</td>\n",
              "      <td>M</td>\n",
              "      <td>M</td>\n",
              "      <td>M</td>\n",
              "      <td>M</td>\n",
              "      <td>M</td>\n",
              "      <td>M</td>\n",
              "      <td>M</td>\n",
              "      <td>24.86</td>\n",
              "      <td>KFST 010753Z AUTO 27009KT 10SM CLR 01/M08 A300...</td>\n",
              "    </tr>\n",
              "    <tr>\n",
              "      <th>2011-01-01 03:00:00</th>\n",
              "      <td>FST</td>\n",
              "      <td>2011-01-01 03:53:00</td>\n",
              "      <td>32.00</td>\n",
              "      <td>19.04</td>\n",
              "      <td>58.37</td>\n",
              "      <td>250.00</td>\n",
              "      <td>7.00</td>\n",
              "      <td>M</td>\n",
              "      <td>30.06</td>\n",
              "      <td>1016.60</td>\n",
              "      <td>10.00</td>\n",
              "      <td>-99.00</td>\n",
              "      <td>CLR</td>\n",
              "      <td></td>\n",
              "      <td></td>\n",
              "      <td></td>\n",
              "      <td>M</td>\n",
              "      <td>M</td>\n",
              "      <td>M</td>\n",
              "      <td>M</td>\n",
              "      <td>M</td>\n",
              "      <td>M</td>\n",
              "      <td>M</td>\n",
              "      <td>M</td>\n",
              "      <td>M</td>\n",
              "      <td>M</td>\n",
              "      <td>M</td>\n",
              "      <td>24.78</td>\n",
              "      <td>KFST 010853Z AUTO 25007KT 10SM CLR 00/M07 A300...</td>\n",
              "    </tr>\n",
              "    <tr>\n",
              "      <th>2011-01-01 04:00:00</th>\n",
              "      <td>FST</td>\n",
              "      <td>2011-01-01 04:53:00</td>\n",
              "      <td>30.02</td>\n",
              "      <td>19.04</td>\n",
              "      <td>63.24</td>\n",
              "      <td>260.00</td>\n",
              "      <td>7.00</td>\n",
              "      <td>M</td>\n",
              "      <td>30.07</td>\n",
              "      <td>1017.20</td>\n",
              "      <td>10.00</td>\n",
              "      <td>-99.00</td>\n",
              "      <td>CLR</td>\n",
              "      <td></td>\n",
              "      <td></td>\n",
              "      <td></td>\n",
              "      <td>M</td>\n",
              "      <td>M</td>\n",
              "      <td>M</td>\n",
              "      <td>M</td>\n",
              "      <td>M</td>\n",
              "      <td>M</td>\n",
              "      <td>M</td>\n",
              "      <td>M</td>\n",
              "      <td>M</td>\n",
              "      <td>M</td>\n",
              "      <td>M</td>\n",
              "      <td>22.37</td>\n",
              "      <td>KFST 010953Z AUTO 26007KT 10SM CLR M01/M07 A30...</td>\n",
              "    </tr>\n",
              "  </tbody>\n",
              "</table>\n",
              "</div>"
            ],
            "text/plain": [
              "                    station  ...                                              metar\n",
              "valid                        ...                                                   \n",
              "2011-01-01 00:00:00     FST  ...  KFST 010553Z AUTO 23008KT 10SM CLR 00/M08 A300...\n",
              "2011-01-01 01:00:00     FST  ...  KFST 010653Z AUTO 25007KT 10SM CLR 01/M07 A300...\n",
              "2011-01-01 02:00:00     FST  ...  KFST 010753Z AUTO 27009KT 10SM CLR 01/M08 A300...\n",
              "2011-01-01 03:00:00     FST  ...  KFST 010853Z AUTO 25007KT 10SM CLR 00/M07 A300...\n",
              "2011-01-01 04:00:00     FST  ...  KFST 010953Z AUTO 26007KT 10SM CLR M01/M07 A30...\n",
              "\n",
              "[5 rows x 29 columns]"
            ]
          },
          "metadata": {
            "tags": []
          },
          "execution_count": 25
        }
      ]
    },
    {
      "cell_type": "markdown",
      "metadata": {
        "id": "CbzIBXOH_Luo"
      },
      "source": [
        "You are welcome to use all fields if you would like (not recommended), but I recommend you focus on:\n",
        "* tmpf\n",
        "*\tdwpf\n",
        "*\trelh\n",
        "\n",
        "Since these are the three variables that determine who turns on their heat or airconditioner. You should coerce these three variables to numeric (the missing values are currently coded as 'M'), which is why the data type is object right now."
      ]
    },
    {
      "cell_type": "markdown",
      "metadata": {
        "id": "bxGq14Q0Z2Fz"
      },
      "source": [
        "## Preparing the weather data"
      ]
    },
    {
      "cell_type": "code",
      "metadata": {
        "colab": {
          "base_uri": "https://localhost:8080/",
          "height": 295
        },
        "id": "v1EniWloAp3-",
        "outputId": "9d8a1a70-0f0e-4f93-d292-0ea132c35e7a"
      },
      "source": [
        "weather_final['tmpf'] = pd.to_numeric(weather_final['tmpf'], errors='coerce')\n",
        "weather_final['tmpf'].plot()"
      ],
      "execution_count": null,
      "outputs": [
        {
          "output_type": "execute_result",
          "data": {
            "text/plain": [
              "<matplotlib.axes._subplots.AxesSubplot at 0x7ff1e81e6610>"
            ]
          },
          "metadata": {
            "tags": []
          },
          "execution_count": 26
        },
        {
          "output_type": "display_data",
          "data": {
            "image/png": "[encoded data removed]",
            "text/plain": [
              "<Figure size 432x288 with 1 Axes>"
            ]
          },
          "metadata": {
            "tags": [],
            "needs_background": "light"
          }
        }
      ]
    },
    {
      "cell_type": "markdown",
      "metadata": {
        "id": "Ddt7p56eA-wK"
      },
      "source": [
        "Scroll down and you will find the data dictionary on this webpage: https://mesonet.agron.iastate.edu/request/download.phtml"
      ]
    },
    {
      "cell_type": "code",
      "metadata": {
        "colab": {
          "base_uri": "https://localhost:8080/",
          "height": 295
        },
        "id": "n1fdV2SDO5wL",
        "outputId": "6a29f535-f5f6-4c54-daa2-3d2341e4713c"
      },
      "source": [
        "weather_final['dwpf'] = pd.to_numeric(weather_final['dwpf'], errors='coerce')\n",
        "weather_final['dwpf'].plot()"
      ],
      "execution_count": null,
      "outputs": [
        {
          "output_type": "execute_result",
          "data": {
            "text/plain": [
              "<matplotlib.axes._subplots.AxesSubplot at 0x7ff1e7ba2ed0>"
            ]
          },
          "metadata": {
            "tags": []
          },
          "execution_count": 27
        },
        {
          "output_type": "display_data",
          "data": {
            "image/png": "[encoded data removed]",
            "text/plain": [
              "<Figure size 432x288 with 1 Axes>"
            ]
          },
          "metadata": {
            "tags": [],
            "needs_background": "light"
          }
        }
      ]
    },
    {
      "cell_type": "code",
      "metadata": {
        "colab": {
          "base_uri": "https://localhost:8080/",
          "height": 295
        },
        "id": "OqX9geg3PFvW",
        "outputId": "110c5d9d-8943-4d6b-c2e5-62f70c4c5da3"
      },
      "source": [
        "weather_final['relh'] = pd.to_numeric(weather_final['relh'], errors='coerce')\n",
        "weather_final['relh'].plot()"
      ],
      "execution_count": null,
      "outputs": [
        {
          "output_type": "execute_result",
          "data": {
            "text/plain": [
              "<matplotlib.axes._subplots.AxesSubplot at 0x7ff1e75afa10>"
            ]
          },
          "metadata": {
            "tags": []
          },
          "execution_count": 28
        },
        {
          "output_type": "display_data",
          "data": {
            "image/png": "[encoded data removed]",
            "text/plain": [
              "<Figure size 432x288 with 1 Axes>"
            ]
          },
          "metadata": {
            "tags": [],
            "needs_background": "light"
          }
        }
      ]
    },
    {
      "cell_type": "code",
      "metadata": {
        "colab": {
          "base_uri": "https://localhost:8080/",
          "height": 295
        },
        "id": "zYXjw_x8QpLS",
        "outputId": "977716e7-dfc2-402d-fb19-bf7900747d23"
      },
      "source": [
        "\n",
        "weather_final['sknt'] = pd.to_numeric(weather_final['sknt'], errors='coerce')\n",
        "weather_final['sknt'].plot()"
      ],
      "execution_count": null,
      "outputs": [
        {
          "output_type": "execute_result",
          "data": {
            "text/plain": [
              "<matplotlib.axes._subplots.AxesSubplot at 0x7ff1e6fafed0>"
            ]
          },
          "metadata": {
            "tags": []
          },
          "execution_count": 29
        },
        {
          "output_type": "display_data",
          "data": {
            "image/png": "[encoded data removed]",
            "text/plain": [
              "<Figure size 432x288 with 1 Axes>"
            ]
          },
          "metadata": {
            "tags": [],
            "needs_background": "light"
          }
        }
      ]
    },
    {
      "cell_type": "code",
      "metadata": {
        "colab": {
          "base_uri": "https://localhost:8080/",
          "height": 808
        },
        "id": "25ElNDanzTPa",
        "outputId": "29195558-bbb9-4f12-986a-e050c64a3a2c"
      },
      "source": [
        "weather_final.head()"
      ],
      "execution_count": null,
      "outputs": [
        {
          "output_type": "execute_result",
          "data": {
            "text/html": [
              "<div>\n",
              "<style scoped>\n",
              "    .dataframe tbody tr th:only-of-type {\n",
              "        vertical-align: middle;\n",
              "    }\n",
              "\n",
              "    .dataframe tbody tr th {\n",
              "        vertical-align: top;\n",
              "    }\n",
              "\n",
              "    .dataframe thead th {\n",
              "        text-align: right;\n",
              "    }\n",
              "</style>\n",
              "<table border=\"1\" class=\"dataframe\">\n",
              "  <thead>\n",
              "    <tr style=\"text-align: right;\">\n",
              "      <th></th>\n",
              "      <th>station</th>\n",
              "      <th>valid</th>\n",
              "      <th>tmpf</th>\n",
              "      <th>dwpf</th>\n",
              "      <th>relh</th>\n",
              "      <th>drct</th>\n",
              "      <th>sknt</th>\n",
              "      <th>p01i</th>\n",
              "      <th>alti</th>\n",
              "      <th>mslp</th>\n",
              "      <th>vsby</th>\n",
              "      <th>gust</th>\n",
              "      <th>skyc1</th>\n",
              "      <th>skyc2</th>\n",
              "      <th>skyc3</th>\n",
              "      <th>skyc4</th>\n",
              "      <th>skyl1</th>\n",
              "      <th>skyl2</th>\n",
              "      <th>skyl3</th>\n",
              "      <th>skyl4</th>\n",
              "      <th>wxcodes</th>\n",
              "      <th>ice_accretion_1hr</th>\n",
              "      <th>ice_accretion_3hr</th>\n",
              "      <th>ice_accretion_6hr</th>\n",
              "      <th>peak_wind_gust</th>\n",
              "      <th>peak_wind_drct</th>\n",
              "      <th>peak_wind_time</th>\n",
              "      <th>feel</th>\n",
              "      <th>metar</th>\n",
              "    </tr>\n",
              "    <tr>\n",
              "      <th>valid</th>\n",
              "      <th></th>\n",
              "      <th></th>\n",
              "      <th></th>\n",
              "      <th></th>\n",
              "      <th></th>\n",
              "      <th></th>\n",
              "      <th></th>\n",
              "      <th></th>\n",
              "      <th></th>\n",
              "      <th></th>\n",
              "      <th></th>\n",
              "      <th></th>\n",
              "      <th></th>\n",
              "      <th></th>\n",
              "      <th></th>\n",
              "      <th></th>\n",
              "      <th></th>\n",
              "      <th></th>\n",
              "      <th></th>\n",
              "      <th></th>\n",
              "      <th></th>\n",
              "      <th></th>\n",
              "      <th></th>\n",
              "      <th></th>\n",
              "      <th></th>\n",
              "      <th></th>\n",
              "      <th></th>\n",
              "      <th></th>\n",
              "      <th></th>\n",
              "    </tr>\n",
              "  </thead>\n",
              "  <tbody>\n",
              "    <tr>\n",
              "      <th>2011-01-01 00:00:00</th>\n",
              "      <td>FST</td>\n",
              "      <td>2011-01-01 00:53:00</td>\n",
              "      <td>32.00</td>\n",
              "      <td>17.96</td>\n",
              "      <td>55.72</td>\n",
              "      <td>230.00</td>\n",
              "      <td>8.0</td>\n",
              "      <td>M</td>\n",
              "      <td>30.02</td>\n",
              "      <td>1015.50</td>\n",
              "      <td>10.00</td>\n",
              "      <td>-99.00</td>\n",
              "      <td>CLR</td>\n",
              "      <td></td>\n",
              "      <td></td>\n",
              "      <td></td>\n",
              "      <td>M</td>\n",
              "      <td>M</td>\n",
              "      <td>M</td>\n",
              "      <td>M</td>\n",
              "      <td>M</td>\n",
              "      <td>M</td>\n",
              "      <td>M</td>\n",
              "      <td>M</td>\n",
              "      <td>M</td>\n",
              "      <td>M</td>\n",
              "      <td>M</td>\n",
              "      <td>24.11</td>\n",
              "      <td>KFST 010553Z AUTO 23008KT 10SM CLR 00/M08 A300...</td>\n",
              "    </tr>\n",
              "    <tr>\n",
              "      <th>2011-01-01 01:00:00</th>\n",
              "      <td>FST</td>\n",
              "      <td>2011-01-01 01:53:00</td>\n",
              "      <td>33.08</td>\n",
              "      <td>19.04</td>\n",
              "      <td>55.89</td>\n",
              "      <td>250.00</td>\n",
              "      <td>7.0</td>\n",
              "      <td>M</td>\n",
              "      <td>30.03</td>\n",
              "      <td>1015.60</td>\n",
              "      <td>10.00</td>\n",
              "      <td>-99.00</td>\n",
              "      <td>CLR</td>\n",
              "      <td></td>\n",
              "      <td></td>\n",
              "      <td></td>\n",
              "      <td>M</td>\n",
              "      <td>M</td>\n",
              "      <td>M</td>\n",
              "      <td>M</td>\n",
              "      <td>M</td>\n",
              "      <td>M</td>\n",
              "      <td>M</td>\n",
              "      <td>M</td>\n",
              "      <td>M</td>\n",
              "      <td>M</td>\n",
              "      <td>M</td>\n",
              "      <td>26.10</td>\n",
              "      <td>KFST 010653Z AUTO 25007KT 10SM CLR 01/M07 A300...</td>\n",
              "    </tr>\n",
              "    <tr>\n",
              "      <th>2011-01-01 02:00:00</th>\n",
              "      <td>FST</td>\n",
              "      <td>2011-01-01 02:53:00</td>\n",
              "      <td>33.08</td>\n",
              "      <td>17.96</td>\n",
              "      <td>53.36</td>\n",
              "      <td>270.00</td>\n",
              "      <td>9.0</td>\n",
              "      <td>M</td>\n",
              "      <td>30.05</td>\n",
              "      <td>1016.20</td>\n",
              "      <td>10.00</td>\n",
              "      <td>-99.00</td>\n",
              "      <td>CLR</td>\n",
              "      <td></td>\n",
              "      <td></td>\n",
              "      <td></td>\n",
              "      <td>M</td>\n",
              "      <td>M</td>\n",
              "      <td>M</td>\n",
              "      <td>M</td>\n",
              "      <td>M</td>\n",
              "      <td>M</td>\n",
              "      <td>M</td>\n",
              "      <td>M</td>\n",
              "      <td>M</td>\n",
              "      <td>M</td>\n",
              "      <td>M</td>\n",
              "      <td>24.86</td>\n",
              "      <td>KFST 010753Z AUTO 27009KT 10SM CLR 01/M08 A300...</td>\n",
              "    </tr>\n",
              "    <tr>\n",
              "      <th>2011-01-01 03:00:00</th>\n",
              "      <td>FST</td>\n",
              "      <td>2011-01-01 03:53:00</td>\n",
              "      <td>32.00</td>\n",
              "      <td>19.04</td>\n",
              "      <td>58.37</td>\n",
              "      <td>250.00</td>\n",
              "      <td>7.0</td>\n",
              "      <td>M</td>\n",
              "      <td>30.06</td>\n",
              "      <td>1016.60</td>\n",
              "      <td>10.00</td>\n",
              "      <td>-99.00</td>\n",
              "      <td>CLR</td>\n",
              "      <td></td>\n",
              "      <td></td>\n",
              "      <td></td>\n",
              "      <td>M</td>\n",
              "      <td>M</td>\n",
              "      <td>M</td>\n",
              "      <td>M</td>\n",
              "      <td>M</td>\n",
              "      <td>M</td>\n",
              "      <td>M</td>\n",
              "      <td>M</td>\n",
              "      <td>M</td>\n",
              "      <td>M</td>\n",
              "      <td>M</td>\n",
              "      <td>24.78</td>\n",
              "      <td>KFST 010853Z AUTO 25007KT 10SM CLR 00/M07 A300...</td>\n",
              "    </tr>\n",
              "    <tr>\n",
              "      <th>2011-01-01 04:00:00</th>\n",
              "      <td>FST</td>\n",
              "      <td>2011-01-01 04:53:00</td>\n",
              "      <td>30.02</td>\n",
              "      <td>19.04</td>\n",
              "      <td>63.24</td>\n",
              "      <td>260.00</td>\n",
              "      <td>7.0</td>\n",
              "      <td>M</td>\n",
              "      <td>30.07</td>\n",
              "      <td>1017.20</td>\n",
              "      <td>10.00</td>\n",
              "      <td>-99.00</td>\n",
              "      <td>CLR</td>\n",
              "      <td></td>\n",
              "      <td></td>\n",
              "      <td></td>\n",
              "      <td>M</td>\n",
              "      <td>M</td>\n",
              "      <td>M</td>\n",
              "      <td>M</td>\n",
              "      <td>M</td>\n",
              "      <td>M</td>\n",
              "      <td>M</td>\n",
              "      <td>M</td>\n",
              "      <td>M</td>\n",
              "      <td>M</td>\n",
              "      <td>M</td>\n",
              "      <td>22.37</td>\n",
              "      <td>KFST 010953Z AUTO 26007KT 10SM CLR M01/M07 A30...</td>\n",
              "    </tr>\n",
              "  </tbody>\n",
              "</table>\n",
              "</div>"
            ],
            "text/plain": [
              "                    station  ...                                              metar\n",
              "valid                        ...                                                   \n",
              "2011-01-01 00:00:00     FST  ...  KFST 010553Z AUTO 23008KT 10SM CLR 00/M08 A300...\n",
              "2011-01-01 01:00:00     FST  ...  KFST 010653Z AUTO 25007KT 10SM CLR 01/M07 A300...\n",
              "2011-01-01 02:00:00     FST  ...  KFST 010753Z AUTO 27009KT 10SM CLR 01/M08 A300...\n",
              "2011-01-01 03:00:00     FST  ...  KFST 010853Z AUTO 25007KT 10SM CLR 00/M07 A300...\n",
              "2011-01-01 04:00:00     FST  ...  KFST 010953Z AUTO 26007KT 10SM CLR M01/M07 A30...\n",
              "\n",
              "[5 rows x 29 columns]"
            ]
          },
          "metadata": {
            "tags": []
          },
          "execution_count": 30
        }
      ]
    },
    {
      "cell_type": "code",
      "metadata": {
        "id": "zKl_RSWKUCvD"
      },
      "source": [
        "weather_final = weather_final.drop([\"feel\",\"p01i\", \"alti\", \"mslp\", \"vsby\", \"gust\", \"ice_accretion_1hr\", \"wxcodes\",\n",
        "        \"ice_accretion_3hr\", \"ice_accretion_6hr\", \"peak_wind_gust\", \"peak_wind_drct\", \"skyl1\", \"skyl2\", \"skyl3\", \"skyl4\",\"skyc1\",\"skyc2\",\"skyc3\",\"skyc4\"], axis = 1)"
      ],
      "execution_count": null,
      "outputs": []
    },
    {
      "cell_type": "code",
      "metadata": {
        "id": "AfLIe0S908P3"
      },
      "source": [
        "weather_final = weather_final.drop('valid',axis=1)"
      ],
      "execution_count": null,
      "outputs": []
    },
    {
      "cell_type": "code",
      "metadata": {
        "id": "PhoXP0euVUJ2"
      },
      "source": [
        "weather_final = weather_final.drop([\"peak_wind_time\",\"metar\",\"station\",\"drct\"], axis=1)"
      ],
      "execution_count": null,
      "outputs": []
    },
    {
      "cell_type": "code",
      "metadata": {
        "colab": {
          "base_uri": "https://localhost:8080/"
        },
        "id": "RdvDgp0szhN6",
        "outputId": "7f40f104-0ba4-496d-e4be-48fcc5dd7e38"
      },
      "source": [
        "weather_final.isnull().sum()"
      ],
      "execution_count": null,
      "outputs": [
        {
          "output_type": "execute_result",
          "data": {
            "text/plain": [
              "tmpf    518\n",
              "dwpf    525\n",
              "relh    920\n",
              "sknt    799\n",
              "dtype: int64"
            ]
          },
          "metadata": {
            "tags": []
          },
          "execution_count": 34
        }
      ]
    },
    {
      "cell_type": "code",
      "metadata": {
        "id": "60DwEcXiyd3c"
      },
      "source": [
        "weather_final = weather_final.fillna(method='ffill').fillna(method='bfill')"
      ],
      "execution_count": null,
      "outputs": []
    },
    {
      "cell_type": "code",
      "metadata": {
        "id": "dxlwrA6CIbL5"
      },
      "source": [
        "weather_final.reset_index(inplace=True)"
      ],
      "execution_count": null,
      "outputs": []
    },
    {
      "cell_type": "code",
      "metadata": {
        "id": "Xh8PvwPxFW9b"
      },
      "source": [
        "weather_final.rename(columns = {'valid':'valid_date'}, inplace = True)"
      ],
      "execution_count": null,
      "outputs": []
    },
    {
      "cell_type": "markdown",
      "metadata": {
        "id": "_dI_b8rRXN0l"
      },
      "source": [
        "#Feature Engineering"
      ]
    },
    {
      "cell_type": "markdown",
      "metadata": {
        "id": "KX6bMyBLXSQN"
      },
      "source": [
        "## Weekend or Weekday"
      ]
    },
    {
      "cell_type": "code",
      "metadata": {
        "id": "nT5OyyPjPLL9"
      },
      "source": [
        "weather_final['WEEKDAY'] = pd.to_datetime(weather_final['valid_date']).dt.dayofweek  # monday = 0, sunday = 6\n",
        "\n",
        "weather_final['weekend_indi'] = 0          # Initialize the column with default value of 0\n",
        "weather_final.loc[weather_final['WEEKDAY'].isin([5, 6]), 'weekend_indi'] = 1  # 5 and 6 correspond to Sat and Sun"
      ],
      "execution_count": null,
      "outputs": []
    },
    {
      "cell_type": "code",
      "metadata": {
        "colab": {
          "base_uri": "https://localhost:8080/",
          "height": 420
        },
        "id": "rE3nluIuWTKX",
        "outputId": "6fa48a32-57c7-468d-ae5f-c7abe54b9fb1"
      },
      "source": [
        "weather_final.set_index('valid_date')"
      ],
      "execution_count": null,
      "outputs": [
        {
          "output_type": "execute_result",
          "data": {
            "text/html": [
              "<div>\n",
              "<style scoped>\n",
              "    .dataframe tbody tr th:only-of-type {\n",
              "        vertical-align: middle;\n",
              "    }\n",
              "\n",
              "    .dataframe tbody tr th {\n",
              "        vertical-align: top;\n",
              "    }\n",
              "\n",
              "    .dataframe thead th {\n",
              "        text-align: right;\n",
              "    }\n",
              "</style>\n",
              "<table border=\"1\" class=\"dataframe\">\n",
              "  <thead>\n",
              "    <tr style=\"text-align: right;\">\n",
              "      <th></th>\n",
              "      <th>tmpf</th>\n",
              "      <th>dwpf</th>\n",
              "      <th>relh</th>\n",
              "      <th>sknt</th>\n",
              "      <th>weekend_indi</th>\n",
              "      <th>WEEKDAY</th>\n",
              "    </tr>\n",
              "    <tr>\n",
              "      <th>valid_date</th>\n",
              "      <th></th>\n",
              "      <th></th>\n",
              "      <th></th>\n",
              "      <th></th>\n",
              "      <th></th>\n",
              "      <th></th>\n",
              "    </tr>\n",
              "  </thead>\n",
              "  <tbody>\n",
              "    <tr>\n",
              "      <th>2011-01-01 00:00:00</th>\n",
              "      <td>32.00</td>\n",
              "      <td>17.96</td>\n",
              "      <td>55.72</td>\n",
              "      <td>8.0</td>\n",
              "      <td>1</td>\n",
              "      <td>5</td>\n",
              "    </tr>\n",
              "    <tr>\n",
              "      <th>2011-01-01 01:00:00</th>\n",
              "      <td>33.08</td>\n",
              "      <td>19.04</td>\n",
              "      <td>55.89</td>\n",
              "      <td>7.0</td>\n",
              "      <td>1</td>\n",
              "      <td>5</td>\n",
              "    </tr>\n",
              "    <tr>\n",
              "      <th>2011-01-01 02:00:00</th>\n",
              "      <td>33.08</td>\n",
              "      <td>17.96</td>\n",
              "      <td>53.36</td>\n",
              "      <td>9.0</td>\n",
              "      <td>1</td>\n",
              "      <td>5</td>\n",
              "    </tr>\n",
              "    <tr>\n",
              "      <th>2011-01-01 03:00:00</th>\n",
              "      <td>32.00</td>\n",
              "      <td>19.04</td>\n",
              "      <td>58.37</td>\n",
              "      <td>7.0</td>\n",
              "      <td>1</td>\n",
              "      <td>5</td>\n",
              "    </tr>\n",
              "    <tr>\n",
              "      <th>2011-01-01 04:00:00</th>\n",
              "      <td>30.02</td>\n",
              "      <td>19.04</td>\n",
              "      <td>63.24</td>\n",
              "      <td>7.0</td>\n",
              "      <td>1</td>\n",
              "      <td>5</td>\n",
              "    </tr>\n",
              "    <tr>\n",
              "      <th>...</th>\n",
              "      <td>...</td>\n",
              "      <td>...</td>\n",
              "      <td>...</td>\n",
              "      <td>...</td>\n",
              "      <td>...</td>\n",
              "      <td>...</td>\n",
              "    </tr>\n",
              "    <tr>\n",
              "      <th>2015-12-31 19:00:00</th>\n",
              "      <td>46.94</td>\n",
              "      <td>35.96</td>\n",
              "      <td>65.43</td>\n",
              "      <td>6.0</td>\n",
              "      <td>0</td>\n",
              "      <td>3</td>\n",
              "    </tr>\n",
              "    <tr>\n",
              "      <th>2015-12-31 20:00:00</th>\n",
              "      <td>44.96</td>\n",
              "      <td>37.04</td>\n",
              "      <td>73.59</td>\n",
              "      <td>5.0</td>\n",
              "      <td>0</td>\n",
              "      <td>3</td>\n",
              "    </tr>\n",
              "    <tr>\n",
              "      <th>2015-12-31 21:00:00</th>\n",
              "      <td>42.98</td>\n",
              "      <td>37.04</td>\n",
              "      <td>79.38</td>\n",
              "      <td>4.0</td>\n",
              "      <td>0</td>\n",
              "      <td>3</td>\n",
              "    </tr>\n",
              "    <tr>\n",
              "      <th>2015-12-31 22:00:00</th>\n",
              "      <td>39.92</td>\n",
              "      <td>39.02</td>\n",
              "      <td>96.55</td>\n",
              "      <td>6.0</td>\n",
              "      <td>0</td>\n",
              "      <td>3</td>\n",
              "    </tr>\n",
              "    <tr>\n",
              "      <th>2015-12-31 23:00:00</th>\n",
              "      <td>41.00</td>\n",
              "      <td>39.02</td>\n",
              "      <td>92.59</td>\n",
              "      <td>9.0</td>\n",
              "      <td>0</td>\n",
              "      <td>3</td>\n",
              "    </tr>\n",
              "  </tbody>\n",
              "</table>\n",
              "<p>43824 rows × 6 columns</p>\n",
              "</div>"
            ],
            "text/plain": [
              "                      tmpf   dwpf   relh  sknt  weekend_indi  WEEKDAY\n",
              "valid_date                                                           \n",
              "2011-01-01 00:00:00  32.00  17.96  55.72   8.0             1        5\n",
              "2011-01-01 01:00:00  33.08  19.04  55.89   7.0             1        5\n",
              "2011-01-01 02:00:00  33.08  17.96  53.36   9.0             1        5\n",
              "2011-01-01 03:00:00  32.00  19.04  58.37   7.0             1        5\n",
              "2011-01-01 04:00:00  30.02  19.04  63.24   7.0             1        5\n",
              "...                    ...    ...    ...   ...           ...      ...\n",
              "2015-12-31 19:00:00  46.94  35.96  65.43   6.0             0        3\n",
              "2015-12-31 20:00:00  44.96  37.04  73.59   5.0             0        3\n",
              "2015-12-31 21:00:00  42.98  37.04  79.38   4.0             0        3\n",
              "2015-12-31 22:00:00  39.92  39.02  96.55   6.0             0        3\n",
              "2015-12-31 23:00:00  41.00  39.02  92.59   9.0             0        3\n",
              "\n",
              "[43824 rows x 6 columns]"
            ]
          },
          "metadata": {
            "tags": []
          },
          "execution_count": 44
        }
      ]
    },
    {
      "cell_type": "code",
      "metadata": {
        "id": "Pnyf8zbjggxJ"
      },
      "source": [
        "weather_final = weather_final.drop('WEEKDAY',axis=1)"
      ],
      "execution_count": null,
      "outputs": []
    },
    {
      "cell_type": "code",
      "metadata": {
        "id": "uJHgNzsOD-HR"
      },
      "source": [
        "# look at the datetime range\n",
        "print(weather_final['valid_date'].min())\n",
        "print(weather_final['valid_date'].max())"
      ],
      "execution_count": null,
      "outputs": []
    },
    {
      "cell_type": "code",
      "metadata": {
        "colab": {
          "base_uri": "https://localhost:8080/",
          "height": 191
        },
        "id": "DV85CBOcr31M",
        "outputId": "f9ca8802-3e02-47b0-81ee-89ea53170be8"
      },
      "source": [
        "weather_final.head()"
      ],
      "execution_count": null,
      "outputs": [
        {
          "output_type": "execute_result",
          "data": {
            "text/html": [
              "<div>\n",
              "<style scoped>\n",
              "    .dataframe tbody tr th:only-of-type {\n",
              "        vertical-align: middle;\n",
              "    }\n",
              "\n",
              "    .dataframe tbody tr th {\n",
              "        vertical-align: top;\n",
              "    }\n",
              "\n",
              "    .dataframe thead th {\n",
              "        text-align: right;\n",
              "    }\n",
              "</style>\n",
              "<table border=\"1\" class=\"dataframe\">\n",
              "  <thead>\n",
              "    <tr style=\"text-align: right;\">\n",
              "      <th></th>\n",
              "      <th>valid_date</th>\n",
              "      <th>tmpf</th>\n",
              "      <th>dwpf</th>\n",
              "      <th>relh</th>\n",
              "      <th>sknt</th>\n",
              "      <th>weekend_indi</th>\n",
              "    </tr>\n",
              "  </thead>\n",
              "  <tbody>\n",
              "    <tr>\n",
              "      <th>0</th>\n",
              "      <td>2011-01-01 00:00:00</td>\n",
              "      <td>32.00</td>\n",
              "      <td>17.96</td>\n",
              "      <td>55.72</td>\n",
              "      <td>8.0</td>\n",
              "      <td>1</td>\n",
              "    </tr>\n",
              "    <tr>\n",
              "      <th>1</th>\n",
              "      <td>2011-01-01 01:00:00</td>\n",
              "      <td>33.08</td>\n",
              "      <td>19.04</td>\n",
              "      <td>55.89</td>\n",
              "      <td>7.0</td>\n",
              "      <td>1</td>\n",
              "    </tr>\n",
              "    <tr>\n",
              "      <th>2</th>\n",
              "      <td>2011-01-01 02:00:00</td>\n",
              "      <td>33.08</td>\n",
              "      <td>17.96</td>\n",
              "      <td>53.36</td>\n",
              "      <td>9.0</td>\n",
              "      <td>1</td>\n",
              "    </tr>\n",
              "    <tr>\n",
              "      <th>3</th>\n",
              "      <td>2011-01-01 03:00:00</td>\n",
              "      <td>32.00</td>\n",
              "      <td>19.04</td>\n",
              "      <td>58.37</td>\n",
              "      <td>7.0</td>\n",
              "      <td>1</td>\n",
              "    </tr>\n",
              "    <tr>\n",
              "      <th>4</th>\n",
              "      <td>2011-01-01 04:00:00</td>\n",
              "      <td>30.02</td>\n",
              "      <td>19.04</td>\n",
              "      <td>63.24</td>\n",
              "      <td>7.0</td>\n",
              "      <td>1</td>\n",
              "    </tr>\n",
              "  </tbody>\n",
              "</table>\n",
              "</div>"
            ],
            "text/plain": [
              "           valid_date   tmpf   dwpf   relh  sknt  weekend_indi\n",
              "0 2011-01-01 00:00:00  32.00  17.96  55.72   8.0             1\n",
              "1 2011-01-01 01:00:00  33.08  19.04  55.89   7.0             1\n",
              "2 2011-01-01 02:00:00  33.08  17.96  53.36   9.0             1\n",
              "3 2011-01-01 03:00:00  32.00  19.04  58.37   7.0             1\n",
              "4 2011-01-01 04:00:00  30.02  19.04  63.24   7.0             1"
            ]
          },
          "metadata": {
            "tags": []
          },
          "execution_count": 47
        }
      ]
    },
    {
      "cell_type": "markdown",
      "metadata": {
        "id": "FKIK_X0QgEj-"
      },
      "source": [
        "## Month (Month of the record)"
      ]
    },
    {
      "cell_type": "code",
      "metadata": {
        "id": "SMk-toTVflyH"
      },
      "source": [
        "weather_final['month'] = weather_final['valid_date'].dt.month_name()\n",
        "\n",
        "# Changing months to numeric values \n",
        "weather_final[\"month\"].replace(\"January\", value=0, inplace=True)\n",
        "weather_final[\"month\"].replace(\"February\", value=1, inplace=True)\n",
        "weather_final[\"month\"].replace(\"March\", value=2, inplace=True)\n",
        "weather_final[\"month\"].replace(\"April\", value=3, inplace=True)\n",
        "weather_final[\"month\"].replace(\"May\", value=4, inplace=True)\n",
        "weather_final[\"month\"].replace(\"June\", value=5, inplace=True)\n",
        "weather_final[\"month\"].replace(\"July\", value=6, inplace=True)\n",
        "weather_final[\"month\"].replace(\"August\", value=7, inplace=True)\n",
        "weather_final[\"month\"].replace(\"September\", value=8, inplace=True)\n",
        "weather_final[\"month\"].replace(\"October\", value=9, inplace=True)\n",
        "weather_final[\"month\"].replace(\"November\", value=10, inplace=True)\n",
        "weather_final[\"month\"].replace(\"December\", value=11, inplace=True)\n"
      ],
      "execution_count": null,
      "outputs": []
    },
    {
      "cell_type": "code",
      "metadata": {
        "colab": {
          "base_uri": "https://localhost:8080/",
          "height": 191
        },
        "id": "n5d-o5QIfy3s",
        "outputId": "2fea4e4a-0481-40a5-be3a-b791292defc2"
      },
      "source": [
        "weather_final.head()"
      ],
      "execution_count": null,
      "outputs": [
        {
          "output_type": "execute_result",
          "data": {
            "text/html": [
              "<div>\n",
              "<style scoped>\n",
              "    .dataframe tbody tr th:only-of-type {\n",
              "        vertical-align: middle;\n",
              "    }\n",
              "\n",
              "    .dataframe tbody tr th {\n",
              "        vertical-align: top;\n",
              "    }\n",
              "\n",
              "    .dataframe thead th {\n",
              "        text-align: right;\n",
              "    }\n",
              "</style>\n",
              "<table border=\"1\" class=\"dataframe\">\n",
              "  <thead>\n",
              "    <tr style=\"text-align: right;\">\n",
              "      <th></th>\n",
              "      <th>valid_date</th>\n",
              "      <th>tmpf</th>\n",
              "      <th>dwpf</th>\n",
              "      <th>relh</th>\n",
              "      <th>sknt</th>\n",
              "      <th>weekend_indi</th>\n",
              "      <th>month</th>\n",
              "    </tr>\n",
              "  </thead>\n",
              "  <tbody>\n",
              "    <tr>\n",
              "      <th>0</th>\n",
              "      <td>2011-01-01 00:00:00</td>\n",
              "      <td>32.00</td>\n",
              "      <td>17.96</td>\n",
              "      <td>55.72</td>\n",
              "      <td>8.0</td>\n",
              "      <td>1</td>\n",
              "      <td>0</td>\n",
              "    </tr>\n",
              "    <tr>\n",
              "      <th>1</th>\n",
              "      <td>2011-01-01 01:00:00</td>\n",
              "      <td>33.08</td>\n",
              "      <td>19.04</td>\n",
              "      <td>55.89</td>\n",
              "      <td>7.0</td>\n",
              "      <td>1</td>\n",
              "      <td>0</td>\n",
              "    </tr>\n",
              "    <tr>\n",
              "      <th>2</th>\n",
              "      <td>2011-01-01 02:00:00</td>\n",
              "      <td>33.08</td>\n",
              "      <td>17.96</td>\n",
              "      <td>53.36</td>\n",
              "      <td>9.0</td>\n",
              "      <td>1</td>\n",
              "      <td>0</td>\n",
              "    </tr>\n",
              "    <tr>\n",
              "      <th>3</th>\n",
              "      <td>2011-01-01 03:00:00</td>\n",
              "      <td>32.00</td>\n",
              "      <td>19.04</td>\n",
              "      <td>58.37</td>\n",
              "      <td>7.0</td>\n",
              "      <td>1</td>\n",
              "      <td>0</td>\n",
              "    </tr>\n",
              "    <tr>\n",
              "      <th>4</th>\n",
              "      <td>2011-01-01 04:00:00</td>\n",
              "      <td>30.02</td>\n",
              "      <td>19.04</td>\n",
              "      <td>63.24</td>\n",
              "      <td>7.0</td>\n",
              "      <td>1</td>\n",
              "      <td>0</td>\n",
              "    </tr>\n",
              "  </tbody>\n",
              "</table>\n",
              "</div>"
            ],
            "text/plain": [
              "           valid_date   tmpf   dwpf   relh  sknt  weekend_indi  month\n",
              "0 2011-01-01 00:00:00  32.00  17.96  55.72   8.0             1      0\n",
              "1 2011-01-01 01:00:00  33.08  19.04  55.89   7.0             1      0\n",
              "2 2011-01-01 02:00:00  33.08  17.96  53.36   9.0             1      0\n",
              "3 2011-01-01 03:00:00  32.00  19.04  58.37   7.0             1      0\n",
              "4 2011-01-01 04:00:00  30.02  19.04  63.24   7.0             1      0"
            ]
          },
          "metadata": {
            "tags": []
          },
          "execution_count": 49
        }
      ]
    },
    {
      "cell_type": "markdown",
      "metadata": {
        "id": "mQloioKfgLFF"
      },
      "source": [
        "## Hour (24 Hour format)"
      ]
    },
    {
      "cell_type": "code",
      "metadata": {
        "id": "F6dBuI9wgCq-"
      },
      "source": [
        "weather_final['hour'] = weather_final['valid_date'].dt.hour"
      ],
      "execution_count": null,
      "outputs": []
    },
    {
      "cell_type": "code",
      "metadata": {
        "colab": {
          "base_uri": "https://localhost:8080/",
          "height": 191
        },
        "id": "iu1ukQpTgVir",
        "outputId": "d3923e21-daa1-4919-8f37-e714078c1f88"
      },
      "source": [
        "weather_final.head()"
      ],
      "execution_count": null,
      "outputs": [
        {
          "output_type": "execute_result",
          "data": {
            "text/html": [
              "<div>\n",
              "<style scoped>\n",
              "    .dataframe tbody tr th:only-of-type {\n",
              "        vertical-align: middle;\n",
              "    }\n",
              "\n",
              "    .dataframe tbody tr th {\n",
              "        vertical-align: top;\n",
              "    }\n",
              "\n",
              "    .dataframe thead th {\n",
              "        text-align: right;\n",
              "    }\n",
              "</style>\n",
              "<table border=\"1\" class=\"dataframe\">\n",
              "  <thead>\n",
              "    <tr style=\"text-align: right;\">\n",
              "      <th></th>\n",
              "      <th>valid_date</th>\n",
              "      <th>tmpf</th>\n",
              "      <th>dwpf</th>\n",
              "      <th>relh</th>\n",
              "      <th>sknt</th>\n",
              "      <th>weekend_indi</th>\n",
              "      <th>month</th>\n",
              "      <th>hour</th>\n",
              "    </tr>\n",
              "  </thead>\n",
              "  <tbody>\n",
              "    <tr>\n",
              "      <th>0</th>\n",
              "      <td>2011-01-01 00:00:00</td>\n",
              "      <td>32.00</td>\n",
              "      <td>17.96</td>\n",
              "      <td>55.72</td>\n",
              "      <td>8.0</td>\n",
              "      <td>1</td>\n",
              "      <td>0</td>\n",
              "      <td>0</td>\n",
              "    </tr>\n",
              "    <tr>\n",
              "      <th>1</th>\n",
              "      <td>2011-01-01 01:00:00</td>\n",
              "      <td>33.08</td>\n",
              "      <td>19.04</td>\n",
              "      <td>55.89</td>\n",
              "      <td>7.0</td>\n",
              "      <td>1</td>\n",
              "      <td>0</td>\n",
              "      <td>1</td>\n",
              "    </tr>\n",
              "    <tr>\n",
              "      <th>2</th>\n",
              "      <td>2011-01-01 02:00:00</td>\n",
              "      <td>33.08</td>\n",
              "      <td>17.96</td>\n",
              "      <td>53.36</td>\n",
              "      <td>9.0</td>\n",
              "      <td>1</td>\n",
              "      <td>0</td>\n",
              "      <td>2</td>\n",
              "    </tr>\n",
              "    <tr>\n",
              "      <th>3</th>\n",
              "      <td>2011-01-01 03:00:00</td>\n",
              "      <td>32.00</td>\n",
              "      <td>19.04</td>\n",
              "      <td>58.37</td>\n",
              "      <td>7.0</td>\n",
              "      <td>1</td>\n",
              "      <td>0</td>\n",
              "      <td>3</td>\n",
              "    </tr>\n",
              "    <tr>\n",
              "      <th>4</th>\n",
              "      <td>2011-01-01 04:00:00</td>\n",
              "      <td>30.02</td>\n",
              "      <td>19.04</td>\n",
              "      <td>63.24</td>\n",
              "      <td>7.0</td>\n",
              "      <td>1</td>\n",
              "      <td>0</td>\n",
              "      <td>4</td>\n",
              "    </tr>\n",
              "  </tbody>\n",
              "</table>\n",
              "</div>"
            ],
            "text/plain": [
              "           valid_date   tmpf   dwpf   relh  sknt  weekend_indi  month  hour\n",
              "0 2011-01-01 00:00:00  32.00  17.96  55.72   8.0             1      0     0\n",
              "1 2011-01-01 01:00:00  33.08  19.04  55.89   7.0             1      0     1\n",
              "2 2011-01-01 02:00:00  33.08  17.96  53.36   9.0             1      0     2\n",
              "3 2011-01-01 03:00:00  32.00  19.04  58.37   7.0             1      0     3\n",
              "4 2011-01-01 04:00:00  30.02  19.04  63.24   7.0             1      0     4"
            ]
          },
          "metadata": {
            "tags": []
          },
          "execution_count": 51
        }
      ]
    },
    {
      "cell_type": "markdown",
      "metadata": {
        "id": "TyBJ1HcqXkEb"
      },
      "source": [
        "## Rolling averages DWPF, TMPF and RELH"
      ]
    },
    {
      "cell_type": "code",
      "metadata": {
        "id": "7O25UGg2SNt1"
      },
      "source": [
        "#TMPF rolling averages\n",
        "weather_final['tmpf_MA_12'] = weather_final.tmpf.rolling(12).mean()\n",
        "weather_final['tmpf_MA_24'] = weather_final.tmpf.rolling(24).mean()\n",
        "weather_final['tmpf_MA_48'] = weather_final.tmpf.rolling(48).mean()"
      ],
      "execution_count": null,
      "outputs": []
    },
    {
      "cell_type": "code",
      "metadata": {
        "id": "V1vJiHPtSZMn"
      },
      "source": [
        "#DWPF rolling averages\n",
        "weather_final['dwpf_MA_12'] = weather_final.dwpf.rolling(12).mean()\n",
        "weather_final['dwpf_MA_24'] = weather_final.dwpf.rolling(24).mean()\n",
        "weather_final['dwpf_MA_48'] = weather_final.dwpf.rolling(48).mean()"
      ],
      "execution_count": null,
      "outputs": []
    },
    {
      "cell_type": "code",
      "metadata": {
        "id": "Oe3Tdh6HSmDx"
      },
      "source": [
        "#RELH rolling averages\n",
        "weather_final['relh_MA_12'] = weather_final.relh.rolling(12).mean()\n",
        "weather_final['relh_MA_24'] = weather_final.relh.rolling(24).mean()\n",
        "weather_final['relh_MA_48'] = weather_final.relh.rolling(48).mean()"
      ],
      "execution_count": null,
      "outputs": []
    },
    {
      "cell_type": "code",
      "metadata": {
        "id": "CF_2gKGPhBYx"
      },
      "source": [
        "weather_final = weather_final.bfill()"
      ],
      "execution_count": null,
      "outputs": []
    },
    {
      "cell_type": "code",
      "metadata": {
        "colab": {
          "base_uri": "https://localhost:8080/",
          "height": 292
        },
        "id": "wxH8A2VsSu1P",
        "outputId": "d35735ec-4eb4-4a65-a26a-5c88f4e43e41"
      },
      "source": [
        "weather_final.head()"
      ],
      "execution_count": null,
      "outputs": [
        {
          "output_type": "execute_result",
          "data": {
            "text/html": [
              "<div>\n",
              "<style scoped>\n",
              "    .dataframe tbody tr th:only-of-type {\n",
              "        vertical-align: middle;\n",
              "    }\n",
              "\n",
              "    .dataframe tbody tr th {\n",
              "        vertical-align: top;\n",
              "    }\n",
              "\n",
              "    .dataframe thead th {\n",
              "        text-align: right;\n",
              "    }\n",
              "</style>\n",
              "<table border=\"1\" class=\"dataframe\">\n",
              "  <thead>\n",
              "    <tr style=\"text-align: right;\">\n",
              "      <th></th>\n",
              "      <th>valid_date</th>\n",
              "      <th>tmpf</th>\n",
              "      <th>dwpf</th>\n",
              "      <th>relh</th>\n",
              "      <th>sknt</th>\n",
              "      <th>weekend_indi</th>\n",
              "      <th>month</th>\n",
              "      <th>hour</th>\n",
              "      <th>tmpf_MA_12</th>\n",
              "      <th>tmpf_MA_24</th>\n",
              "      <th>tmpf_MA_48</th>\n",
              "      <th>dwpf_MA_12</th>\n",
              "      <th>dwpf_MA_24</th>\n",
              "      <th>dwpf_MA_48</th>\n",
              "      <th>relh_MA_12</th>\n",
              "      <th>relh_MA_24</th>\n",
              "      <th>relh_MA_48</th>\n",
              "    </tr>\n",
              "  </thead>\n",
              "  <tbody>\n",
              "    <tr>\n",
              "      <th>0</th>\n",
              "      <td>2011-01-01 00:00:00</td>\n",
              "      <td>32.00</td>\n",
              "      <td>17.96</td>\n",
              "      <td>55.72</td>\n",
              "      <td>8.0</td>\n",
              "      <td>1</td>\n",
              "      <td>0</td>\n",
              "      <td>0</td>\n",
              "      <td>33.29</td>\n",
              "      <td>37.6775</td>\n",
              "      <td>37.82375</td>\n",
              "      <td>15.08</td>\n",
              "      <td>15.5</td>\n",
              "      <td>15.36875</td>\n",
              "      <td>48.9725</td>\n",
              "      <td>42.097917</td>\n",
              "      <td>41.547083</td>\n",
              "    </tr>\n",
              "    <tr>\n",
              "      <th>1</th>\n",
              "      <td>2011-01-01 01:00:00</td>\n",
              "      <td>33.08</td>\n",
              "      <td>19.04</td>\n",
              "      <td>55.89</td>\n",
              "      <td>7.0</td>\n",
              "      <td>1</td>\n",
              "      <td>0</td>\n",
              "      <td>1</td>\n",
              "      <td>33.29</td>\n",
              "      <td>37.6775</td>\n",
              "      <td>37.82375</td>\n",
              "      <td>15.08</td>\n",
              "      <td>15.5</td>\n",
              "      <td>15.36875</td>\n",
              "      <td>48.9725</td>\n",
              "      <td>42.097917</td>\n",
              "      <td>41.547083</td>\n",
              "    </tr>\n",
              "    <tr>\n",
              "      <th>2</th>\n",
              "      <td>2011-01-01 02:00:00</td>\n",
              "      <td>33.08</td>\n",
              "      <td>17.96</td>\n",
              "      <td>53.36</td>\n",
              "      <td>9.0</td>\n",
              "      <td>1</td>\n",
              "      <td>0</td>\n",
              "      <td>2</td>\n",
              "      <td>33.29</td>\n",
              "      <td>37.6775</td>\n",
              "      <td>37.82375</td>\n",
              "      <td>15.08</td>\n",
              "      <td>15.5</td>\n",
              "      <td>15.36875</td>\n",
              "      <td>48.9725</td>\n",
              "      <td>42.097917</td>\n",
              "      <td>41.547083</td>\n",
              "    </tr>\n",
              "    <tr>\n",
              "      <th>3</th>\n",
              "      <td>2011-01-01 03:00:00</td>\n",
              "      <td>32.00</td>\n",
              "      <td>19.04</td>\n",
              "      <td>58.37</td>\n",
              "      <td>7.0</td>\n",
              "      <td>1</td>\n",
              "      <td>0</td>\n",
              "      <td>3</td>\n",
              "      <td>33.29</td>\n",
              "      <td>37.6775</td>\n",
              "      <td>37.82375</td>\n",
              "      <td>15.08</td>\n",
              "      <td>15.5</td>\n",
              "      <td>15.36875</td>\n",
              "      <td>48.9725</td>\n",
              "      <td>42.097917</td>\n",
              "      <td>41.547083</td>\n",
              "    </tr>\n",
              "    <tr>\n",
              "      <th>4</th>\n",
              "      <td>2011-01-01 04:00:00</td>\n",
              "      <td>30.02</td>\n",
              "      <td>19.04</td>\n",
              "      <td>63.24</td>\n",
              "      <td>7.0</td>\n",
              "      <td>1</td>\n",
              "      <td>0</td>\n",
              "      <td>4</td>\n",
              "      <td>33.29</td>\n",
              "      <td>37.6775</td>\n",
              "      <td>37.82375</td>\n",
              "      <td>15.08</td>\n",
              "      <td>15.5</td>\n",
              "      <td>15.36875</td>\n",
              "      <td>48.9725</td>\n",
              "      <td>42.097917</td>\n",
              "      <td>41.547083</td>\n",
              "    </tr>\n",
              "  </tbody>\n",
              "</table>\n",
              "</div>"
            ],
            "text/plain": [
              "           valid_date   tmpf   dwpf  ...  relh_MA_12  relh_MA_24  relh_MA_48\n",
              "0 2011-01-01 00:00:00  32.00  17.96  ...     48.9725   42.097917   41.547083\n",
              "1 2011-01-01 01:00:00  33.08  19.04  ...     48.9725   42.097917   41.547083\n",
              "2 2011-01-01 02:00:00  33.08  17.96  ...     48.9725   42.097917   41.547083\n",
              "3 2011-01-01 03:00:00  32.00  19.04  ...     48.9725   42.097917   41.547083\n",
              "4 2011-01-01 04:00:00  30.02  19.04  ...     48.9725   42.097917   41.547083\n",
              "\n",
              "[5 rows x 17 columns]"
            ]
          },
          "metadata": {
            "tags": []
          },
          "execution_count": 56
        }
      ]
    },
    {
      "cell_type": "code",
      "metadata": {
        "colab": {
          "base_uri": "https://localhost:8080/",
          "height": 281
        },
        "id": "MufybpEyhDs9",
        "outputId": "02a16379-e619-4431-8c35-d8263e430d76"
      },
      "source": [
        "weather_final['dwpf'].plot()"
      ],
      "execution_count": null,
      "outputs": [
        {
          "output_type": "execute_result",
          "data": {
            "text/plain": [
              "<matplotlib.axes._subplots.AxesSubplot at 0x7ff1ef880450>"
            ]
          },
          "metadata": {
            "tags": []
          },
          "execution_count": 57
        },
        {
          "output_type": "display_data",
          "data": {
            "image/png": "[encoded data removed]",
            "text/plain": [
              "<Figure size 432x288 with 1 Axes>"
            ]
          },
          "metadata": {
            "tags": [],
            "needs_background": "light"
          }
        }
      ]
    },
    {
      "cell_type": "code",
      "metadata": {
        "colab": {
          "base_uri": "https://localhost:8080/",
          "height": 281
        },
        "id": "42lWzIE9giJI",
        "outputId": "ba566d8c-afee-4889-91e0-2132fe9dba9f"
      },
      "source": [
        "weather_final['tmpf'].plot()"
      ],
      "execution_count": null,
      "outputs": [
        {
          "output_type": "execute_result",
          "data": {
            "text/plain": [
              "<matplotlib.axes._subplots.AxesSubplot at 0x7ff1e6954e90>"
            ]
          },
          "metadata": {
            "tags": []
          },
          "execution_count": 58
        },
        {
          "output_type": "display_data",
          "data": {
            "image/png": "[encoded data removed]",
            "text/plain": [
              "<Figure size 432x288 with 1 Axes>"
            ]
          },
          "metadata": {
            "tags": [],
            "needs_background": "light"
          }
        }
      ]
    },
    {
      "cell_type": "markdown",
      "metadata": {
        "id": "kLZcTsB9X2OQ"
      },
      "source": [
        "# Data Merging"
      ]
    },
    {
      "cell_type": "code",
      "metadata": {
        "colab": {
          "base_uri": "https://localhost:8080/",
          "height": 573
        },
        "id": "3Wp4VtduDElo",
        "outputId": "f130235a-9800-4c9c-b103-3a81460213b6"
      },
      "source": [
        "merged_data = weather_final.merge(energy_final, how = 'inner', on = 'valid_date')\n",
        "merged_data"
      ],
      "execution_count": null,
      "outputs": [
        {
          "output_type": "execute_result",
          "data": {
            "text/html": [
              "<div>\n",
              "<style scoped>\n",
              "    .dataframe tbody tr th:only-of-type {\n",
              "        vertical-align: middle;\n",
              "    }\n",
              "\n",
              "    .dataframe tbody tr th {\n",
              "        vertical-align: top;\n",
              "    }\n",
              "\n",
              "    .dataframe thead th {\n",
              "        text-align: right;\n",
              "    }\n",
              "</style>\n",
              "<table border=\"1\" class=\"dataframe\">\n",
              "  <thead>\n",
              "    <tr style=\"text-align: right;\">\n",
              "      <th></th>\n",
              "      <th>valid_date</th>\n",
              "      <th>tmpf</th>\n",
              "      <th>dwpf</th>\n",
              "      <th>relh</th>\n",
              "      <th>sknt</th>\n",
              "      <th>weekend_indi</th>\n",
              "      <th>month</th>\n",
              "      <th>hour</th>\n",
              "      <th>tmpf_MA_12</th>\n",
              "      <th>tmpf_MA_24</th>\n",
              "      <th>tmpf_MA_48</th>\n",
              "      <th>dwpf_MA_12</th>\n",
              "      <th>dwpf_MA_24</th>\n",
              "      <th>dwpf_MA_48</th>\n",
              "      <th>relh_MA_12</th>\n",
              "      <th>relh_MA_24</th>\n",
              "      <th>relh_MA_48</th>\n",
              "      <th>MWh</th>\n",
              "    </tr>\n",
              "  </thead>\n",
              "  <tbody>\n",
              "    <tr>\n",
              "      <th>0</th>\n",
              "      <td>2011-01-01 00:00:00</td>\n",
              "      <td>32.00</td>\n",
              "      <td>17.96</td>\n",
              "      <td>55.72</td>\n",
              "      <td>8.0</td>\n",
              "      <td>1</td>\n",
              "      <td>0</td>\n",
              "      <td>0</td>\n",
              "      <td>33.290</td>\n",
              "      <td>37.6775</td>\n",
              "      <td>37.82375</td>\n",
              "      <td>15.080</td>\n",
              "      <td>15.5000</td>\n",
              "      <td>15.36875</td>\n",
              "      <td>48.972500</td>\n",
              "      <td>42.097917</td>\n",
              "      <td>41.547083</td>\n",
              "      <td>28496.388850</td>\n",
              "    </tr>\n",
              "    <tr>\n",
              "      <th>1</th>\n",
              "      <td>2011-01-01 01:00:00</td>\n",
              "      <td>33.08</td>\n",
              "      <td>19.04</td>\n",
              "      <td>55.89</td>\n",
              "      <td>7.0</td>\n",
              "      <td>1</td>\n",
              "      <td>0</td>\n",
              "      <td>1</td>\n",
              "      <td>33.290</td>\n",
              "      <td>37.6775</td>\n",
              "      <td>37.82375</td>\n",
              "      <td>15.080</td>\n",
              "      <td>15.5000</td>\n",
              "      <td>15.36875</td>\n",
              "      <td>48.972500</td>\n",
              "      <td>42.097917</td>\n",
              "      <td>41.547083</td>\n",
              "      <td>27662.443480</td>\n",
              "    </tr>\n",
              "    <tr>\n",
              "      <th>2</th>\n",
              "      <td>2011-01-01 02:00:00</td>\n",
              "      <td>33.08</td>\n",
              "      <td>17.96</td>\n",
              "      <td>53.36</td>\n",
              "      <td>9.0</td>\n",
              "      <td>1</td>\n",
              "      <td>0</td>\n",
              "      <td>2</td>\n",
              "      <td>33.290</td>\n",
              "      <td>37.6775</td>\n",
              "      <td>37.82375</td>\n",
              "      <td>15.080</td>\n",
              "      <td>15.5000</td>\n",
              "      <td>15.36875</td>\n",
              "      <td>48.972500</td>\n",
              "      <td>42.097917</td>\n",
              "      <td>41.547083</td>\n",
              "      <td>27250.044715</td>\n",
              "    </tr>\n",
              "    <tr>\n",
              "      <th>3</th>\n",
              "      <td>2011-01-01 03:00:00</td>\n",
              "      <td>32.00</td>\n",
              "      <td>19.04</td>\n",
              "      <td>58.37</td>\n",
              "      <td>7.0</td>\n",
              "      <td>1</td>\n",
              "      <td>0</td>\n",
              "      <td>3</td>\n",
              "      <td>33.290</td>\n",
              "      <td>37.6775</td>\n",
              "      <td>37.82375</td>\n",
              "      <td>15.080</td>\n",
              "      <td>15.5000</td>\n",
              "      <td>15.36875</td>\n",
              "      <td>48.972500</td>\n",
              "      <td>42.097917</td>\n",
              "      <td>41.547083</td>\n",
              "      <td>26783.226081</td>\n",
              "    </tr>\n",
              "    <tr>\n",
              "      <th>4</th>\n",
              "      <td>2011-01-01 04:00:00</td>\n",
              "      <td>30.02</td>\n",
              "      <td>19.04</td>\n",
              "      <td>63.24</td>\n",
              "      <td>7.0</td>\n",
              "      <td>1</td>\n",
              "      <td>0</td>\n",
              "      <td>4</td>\n",
              "      <td>33.290</td>\n",
              "      <td>37.6775</td>\n",
              "      <td>37.82375</td>\n",
              "      <td>15.080</td>\n",
              "      <td>15.5000</td>\n",
              "      <td>15.36875</td>\n",
              "      <td>48.972500</td>\n",
              "      <td>42.097917</td>\n",
              "      <td>41.547083</td>\n",
              "      <td>26676.468490</td>\n",
              "    </tr>\n",
              "    <tr>\n",
              "      <th>...</th>\n",
              "      <td>...</td>\n",
              "      <td>...</td>\n",
              "      <td>...</td>\n",
              "      <td>...</td>\n",
              "      <td>...</td>\n",
              "      <td>...</td>\n",
              "      <td>...</td>\n",
              "      <td>...</td>\n",
              "      <td>...</td>\n",
              "      <td>...</td>\n",
              "      <td>...</td>\n",
              "      <td>...</td>\n",
              "      <td>...</td>\n",
              "      <td>...</td>\n",
              "      <td>...</td>\n",
              "      <td>...</td>\n",
              "      <td>...</td>\n",
              "      <td>...</td>\n",
              "    </tr>\n",
              "    <tr>\n",
              "      <th>43796</th>\n",
              "      <td>2015-12-30 20:00:00</td>\n",
              "      <td>44.96</td>\n",
              "      <td>33.98</td>\n",
              "      <td>65.18</td>\n",
              "      <td>4.0</td>\n",
              "      <td>0</td>\n",
              "      <td>11</td>\n",
              "      <td>20</td>\n",
              "      <td>50.675</td>\n",
              "      <td>43.3025</td>\n",
              "      <td>40.63625</td>\n",
              "      <td>32.915</td>\n",
              "      <td>32.0825</td>\n",
              "      <td>31.70375</td>\n",
              "      <td>51.993333</td>\n",
              "      <td>67.491667</td>\n",
              "      <td>72.653958</td>\n",
              "      <td>39674.167296</td>\n",
              "    </tr>\n",
              "    <tr>\n",
              "      <th>43797</th>\n",
              "      <td>2015-12-30 21:00:00</td>\n",
              "      <td>42.98</td>\n",
              "      <td>33.08</td>\n",
              "      <td>67.81</td>\n",
              "      <td>6.0</td>\n",
              "      <td>0</td>\n",
              "      <td>11</td>\n",
              "      <td>21</td>\n",
              "      <td>51.005</td>\n",
              "      <td>43.5950</td>\n",
              "      <td>40.82375</td>\n",
              "      <td>33.170</td>\n",
              "      <td>32.0825</td>\n",
              "      <td>31.76750</td>\n",
              "      <td>51.822500</td>\n",
              "      <td>66.602083</td>\n",
              "      <td>72.290833</td>\n",
              "      <td>39485.829257</td>\n",
              "    </tr>\n",
              "    <tr>\n",
              "      <th>43798</th>\n",
              "      <td>2015-12-30 22:00:00</td>\n",
              "      <td>41.00</td>\n",
              "      <td>33.98</td>\n",
              "      <td>75.88</td>\n",
              "      <td>7.0</td>\n",
              "      <td>0</td>\n",
              "      <td>11</td>\n",
              "      <td>22</td>\n",
              "      <td>50.585</td>\n",
              "      <td>43.7600</td>\n",
              "      <td>40.98875</td>\n",
              "      <td>33.335</td>\n",
              "      <td>32.1200</td>\n",
              "      <td>31.85000</td>\n",
              "      <td>53.330833</td>\n",
              "      <td>66.204167</td>\n",
              "      <td>72.030625</td>\n",
              "      <td>38711.458864</td>\n",
              "    </tr>\n",
              "    <tr>\n",
              "      <th>43799</th>\n",
              "      <td>2015-12-30 23:00:00</td>\n",
              "      <td>41.00</td>\n",
              "      <td>33.98</td>\n",
              "      <td>75.88</td>\n",
              "      <td>8.0</td>\n",
              "      <td>0</td>\n",
              "      <td>11</td>\n",
              "      <td>23</td>\n",
              "      <td>49.745</td>\n",
              "      <td>43.9250</td>\n",
              "      <td>41.15375</td>\n",
              "      <td>33.500</td>\n",
              "      <td>32.1575</td>\n",
              "      <td>31.95500</td>\n",
              "      <td>55.666667</td>\n",
              "      <td>65.806250</td>\n",
              "      <td>71.849792</td>\n",
              "      <td>37254.930151</td>\n",
              "    </tr>\n",
              "    <tr>\n",
              "      <th>43800</th>\n",
              "      <td>2015-12-31 00:00:00</td>\n",
              "      <td>39.92</td>\n",
              "      <td>33.98</td>\n",
              "      <td>79.12</td>\n",
              "      <td>5.0</td>\n",
              "      <td>0</td>\n",
              "      <td>11</td>\n",
              "      <td>0</td>\n",
              "      <td>48.485</td>\n",
              "      <td>44.0075</td>\n",
              "      <td>41.29625</td>\n",
              "      <td>33.830</td>\n",
              "      <td>32.1950</td>\n",
              "      <td>32.06000</td>\n",
              "      <td>59.077500</td>\n",
              "      <td>65.667083</td>\n",
              "      <td>71.736458</td>\n",
              "      <td>35517.364870</td>\n",
              "    </tr>\n",
              "  </tbody>\n",
              "</table>\n",
              "<p>43801 rows × 18 columns</p>\n",
              "</div>"
            ],
            "text/plain": [
              "               valid_date   tmpf   dwpf  ...  relh_MA_24  relh_MA_48           MWh\n",
              "0     2011-01-01 00:00:00  32.00  17.96  ...   42.097917   41.547083  28496.388850\n",
              "1     2011-01-01 01:00:00  33.08  19.04  ...   42.097917   41.547083  27662.443480\n",
              "2     2011-01-01 02:00:00  33.08  17.96  ...   42.097917   41.547083  27250.044715\n",
              "3     2011-01-01 03:00:00  32.00  19.04  ...   42.097917   41.547083  26783.226081\n",
              "4     2011-01-01 04:00:00  30.02  19.04  ...   42.097917   41.547083  26676.468490\n",
              "...                   ...    ...    ...  ...         ...         ...           ...\n",
              "43796 2015-12-30 20:00:00  44.96  33.98  ...   67.491667   72.653958  39674.167296\n",
              "43797 2015-12-30 21:00:00  42.98  33.08  ...   66.602083   72.290833  39485.829257\n",
              "43798 2015-12-30 22:00:00  41.00  33.98  ...   66.204167   72.030625  38711.458864\n",
              "43799 2015-12-30 23:00:00  41.00  33.98  ...   65.806250   71.849792  37254.930151\n",
              "43800 2015-12-31 00:00:00  39.92  33.98  ...   65.667083   71.736458  35517.364870\n",
              "\n",
              "[43801 rows x 18 columns]"
            ]
          },
          "metadata": {
            "tags": []
          },
          "execution_count": 59
        }
      ]
    },
    {
      "cell_type": "code",
      "metadata": {
        "id": "2lpz4vmT_97X"
      },
      "source": [
        "merged_data['valid_date'] = pd.to_datetime(merged_data['valid_date'])\n",
        "merged_data = merged_data.set_index(merged_data['valid_date'])\n",
        "merged_data = merged_data.sort_index()"
      ],
      "execution_count": null,
      "outputs": []
    },
    {
      "cell_type": "code",
      "metadata": {
        "colab": {
          "base_uri": "https://localhost:8080/",
          "height": 602
        },
        "id": "NcliLzyiFmo9",
        "outputId": "96efb5aa-02a7-40bd-eb1a-3153f52774ff"
      },
      "source": [
        "merged_data"
      ],
      "execution_count": null,
      "outputs": [
        {
          "output_type": "execute_result",
          "data": {
            "text/html": [
              "<div>\n",
              "<style scoped>\n",
              "    .dataframe tbody tr th:only-of-type {\n",
              "        vertical-align: middle;\n",
              "    }\n",
              "\n",
              "    .dataframe tbody tr th {\n",
              "        vertical-align: top;\n",
              "    }\n",
              "\n",
              "    .dataframe thead th {\n",
              "        text-align: right;\n",
              "    }\n",
              "</style>\n",
              "<table border=\"1\" class=\"dataframe\">\n",
              "  <thead>\n",
              "    <tr style=\"text-align: right;\">\n",
              "      <th></th>\n",
              "      <th>valid_date</th>\n",
              "      <th>tmpf</th>\n",
              "      <th>dwpf</th>\n",
              "      <th>relh</th>\n",
              "      <th>sknt</th>\n",
              "      <th>weekend_indi</th>\n",
              "      <th>month</th>\n",
              "      <th>hour</th>\n",
              "      <th>tmpf_MA_12</th>\n",
              "      <th>tmpf_MA_24</th>\n",
              "      <th>tmpf_MA_48</th>\n",
              "      <th>dwpf_MA_12</th>\n",
              "      <th>dwpf_MA_24</th>\n",
              "      <th>dwpf_MA_48</th>\n",
              "      <th>relh_MA_12</th>\n",
              "      <th>relh_MA_24</th>\n",
              "      <th>relh_MA_48</th>\n",
              "      <th>MWh</th>\n",
              "    </tr>\n",
              "    <tr>\n",
              "      <th>valid_date</th>\n",
              "      <th></th>\n",
              "      <th></th>\n",
              "      <th></th>\n",
              "      <th></th>\n",
              "      <th></th>\n",
              "      <th></th>\n",
              "      <th></th>\n",
              "      <th></th>\n",
              "      <th></th>\n",
              "      <th></th>\n",
              "      <th></th>\n",
              "      <th></th>\n",
              "      <th></th>\n",
              "      <th></th>\n",
              "      <th></th>\n",
              "      <th></th>\n",
              "      <th></th>\n",
              "      <th></th>\n",
              "    </tr>\n",
              "  </thead>\n",
              "  <tbody>\n",
              "    <tr>\n",
              "      <th>2011-01-01 00:00:00</th>\n",
              "      <td>2011-01-01 00:00:00</td>\n",
              "      <td>32.00</td>\n",
              "      <td>17.96</td>\n",
              "      <td>55.72</td>\n",
              "      <td>8.0</td>\n",
              "      <td>1</td>\n",
              "      <td>0</td>\n",
              "      <td>0</td>\n",
              "      <td>33.290</td>\n",
              "      <td>37.6775</td>\n",
              "      <td>37.82375</td>\n",
              "      <td>15.080</td>\n",
              "      <td>15.5000</td>\n",
              "      <td>15.36875</td>\n",
              "      <td>48.972500</td>\n",
              "      <td>42.097917</td>\n",
              "      <td>41.547083</td>\n",
              "      <td>28496.388850</td>\n",
              "    </tr>\n",
              "    <tr>\n",
              "      <th>2011-01-01 01:00:00</th>\n",
              "      <td>2011-01-01 01:00:00</td>\n",
              "      <td>33.08</td>\n",
              "      <td>19.04</td>\n",
              "      <td>55.89</td>\n",
              "      <td>7.0</td>\n",
              "      <td>1</td>\n",
              "      <td>0</td>\n",
              "      <td>1</td>\n",
              "      <td>33.290</td>\n",
              "      <td>37.6775</td>\n",
              "      <td>37.82375</td>\n",
              "      <td>15.080</td>\n",
              "      <td>15.5000</td>\n",
              "      <td>15.36875</td>\n",
              "      <td>48.972500</td>\n",
              "      <td>42.097917</td>\n",
              "      <td>41.547083</td>\n",
              "      <td>27662.443480</td>\n",
              "    </tr>\n",
              "    <tr>\n",
              "      <th>2011-01-01 02:00:00</th>\n",
              "      <td>2011-01-01 02:00:00</td>\n",
              "      <td>33.08</td>\n",
              "      <td>17.96</td>\n",
              "      <td>53.36</td>\n",
              "      <td>9.0</td>\n",
              "      <td>1</td>\n",
              "      <td>0</td>\n",
              "      <td>2</td>\n",
              "      <td>33.290</td>\n",
              "      <td>37.6775</td>\n",
              "      <td>37.82375</td>\n",
              "      <td>15.080</td>\n",
              "      <td>15.5000</td>\n",
              "      <td>15.36875</td>\n",
              "      <td>48.972500</td>\n",
              "      <td>42.097917</td>\n",
              "      <td>41.547083</td>\n",
              "      <td>27250.044715</td>\n",
              "    </tr>\n",
              "    <tr>\n",
              "      <th>2011-01-01 03:00:00</th>\n",
              "      <td>2011-01-01 03:00:00</td>\n",
              "      <td>32.00</td>\n",
              "      <td>19.04</td>\n",
              "      <td>58.37</td>\n",
              "      <td>7.0</td>\n",
              "      <td>1</td>\n",
              "      <td>0</td>\n",
              "      <td>3</td>\n",
              "      <td>33.290</td>\n",
              "      <td>37.6775</td>\n",
              "      <td>37.82375</td>\n",
              "      <td>15.080</td>\n",
              "      <td>15.5000</td>\n",
              "      <td>15.36875</td>\n",
              "      <td>48.972500</td>\n",
              "      <td>42.097917</td>\n",
              "      <td>41.547083</td>\n",
              "      <td>26783.226081</td>\n",
              "    </tr>\n",
              "    <tr>\n",
              "      <th>2011-01-01 04:00:00</th>\n",
              "      <td>2011-01-01 04:00:00</td>\n",
              "      <td>30.02</td>\n",
              "      <td>19.04</td>\n",
              "      <td>63.24</td>\n",
              "      <td>7.0</td>\n",
              "      <td>1</td>\n",
              "      <td>0</td>\n",
              "      <td>4</td>\n",
              "      <td>33.290</td>\n",
              "      <td>37.6775</td>\n",
              "      <td>37.82375</td>\n",
              "      <td>15.080</td>\n",
              "      <td>15.5000</td>\n",
              "      <td>15.36875</td>\n",
              "      <td>48.972500</td>\n",
              "      <td>42.097917</td>\n",
              "      <td>41.547083</td>\n",
              "      <td>26676.468490</td>\n",
              "    </tr>\n",
              "    <tr>\n",
              "      <th>...</th>\n",
              "      <td>...</td>\n",
              "      <td>...</td>\n",
              "      <td>...</td>\n",
              "      <td>...</td>\n",
              "      <td>...</td>\n",
              "      <td>...</td>\n",
              "      <td>...</td>\n",
              "      <td>...</td>\n",
              "      <td>...</td>\n",
              "      <td>...</td>\n",
              "      <td>...</td>\n",
              "      <td>...</td>\n",
              "      <td>...</td>\n",
              "      <td>...</td>\n",
              "      <td>...</td>\n",
              "      <td>...</td>\n",
              "      <td>...</td>\n",
              "      <td>...</td>\n",
              "    </tr>\n",
              "    <tr>\n",
              "      <th>2015-12-30 20:00:00</th>\n",
              "      <td>2015-12-30 20:00:00</td>\n",
              "      <td>44.96</td>\n",
              "      <td>33.98</td>\n",
              "      <td>65.18</td>\n",
              "      <td>4.0</td>\n",
              "      <td>0</td>\n",
              "      <td>11</td>\n",
              "      <td>20</td>\n",
              "      <td>50.675</td>\n",
              "      <td>43.3025</td>\n",
              "      <td>40.63625</td>\n",
              "      <td>32.915</td>\n",
              "      <td>32.0825</td>\n",
              "      <td>31.70375</td>\n",
              "      <td>51.993333</td>\n",
              "      <td>67.491667</td>\n",
              "      <td>72.653958</td>\n",
              "      <td>39674.167296</td>\n",
              "    </tr>\n",
              "    <tr>\n",
              "      <th>2015-12-30 21:00:00</th>\n",
              "      <td>2015-12-30 21:00:00</td>\n",
              "      <td>42.98</td>\n",
              "      <td>33.08</td>\n",
              "      <td>67.81</td>\n",
              "      <td>6.0</td>\n",
              "      <td>0</td>\n",
              "      <td>11</td>\n",
              "      <td>21</td>\n",
              "      <td>51.005</td>\n",
              "      <td>43.5950</td>\n",
              "      <td>40.82375</td>\n",
              "      <td>33.170</td>\n",
              "      <td>32.0825</td>\n",
              "      <td>31.76750</td>\n",
              "      <td>51.822500</td>\n",
              "      <td>66.602083</td>\n",
              "      <td>72.290833</td>\n",
              "      <td>39485.829257</td>\n",
              "    </tr>\n",
              "    <tr>\n",
              "      <th>2015-12-30 22:00:00</th>\n",
              "      <td>2015-12-30 22:00:00</td>\n",
              "      <td>41.00</td>\n",
              "      <td>33.98</td>\n",
              "      <td>75.88</td>\n",
              "      <td>7.0</td>\n",
              "      <td>0</td>\n",
              "      <td>11</td>\n",
              "      <td>22</td>\n",
              "      <td>50.585</td>\n",
              "      <td>43.7600</td>\n",
              "      <td>40.98875</td>\n",
              "      <td>33.335</td>\n",
              "      <td>32.1200</td>\n",
              "      <td>31.85000</td>\n",
              "      <td>53.330833</td>\n",
              "      <td>66.204167</td>\n",
              "      <td>72.030625</td>\n",
              "      <td>38711.458864</td>\n",
              "    </tr>\n",
              "    <tr>\n",
              "      <th>2015-12-30 23:00:00</th>\n",
              "      <td>2015-12-30 23:00:00</td>\n",
              "      <td>41.00</td>\n",
              "      <td>33.98</td>\n",
              "      <td>75.88</td>\n",
              "      <td>8.0</td>\n",
              "      <td>0</td>\n",
              "      <td>11</td>\n",
              "      <td>23</td>\n",
              "      <td>49.745</td>\n",
              "      <td>43.9250</td>\n",
              "      <td>41.15375</td>\n",
              "      <td>33.500</td>\n",
              "      <td>32.1575</td>\n",
              "      <td>31.95500</td>\n",
              "      <td>55.666667</td>\n",
              "      <td>65.806250</td>\n",
              "      <td>71.849792</td>\n",
              "      <td>37254.930151</td>\n",
              "    </tr>\n",
              "    <tr>\n",
              "      <th>2015-12-31 00:00:00</th>\n",
              "      <td>2015-12-31 00:00:00</td>\n",
              "      <td>39.92</td>\n",
              "      <td>33.98</td>\n",
              "      <td>79.12</td>\n",
              "      <td>5.0</td>\n",
              "      <td>0</td>\n",
              "      <td>11</td>\n",
              "      <td>0</td>\n",
              "      <td>48.485</td>\n",
              "      <td>44.0075</td>\n",
              "      <td>41.29625</td>\n",
              "      <td>33.830</td>\n",
              "      <td>32.1950</td>\n",
              "      <td>32.06000</td>\n",
              "      <td>59.077500</td>\n",
              "      <td>65.667083</td>\n",
              "      <td>71.736458</td>\n",
              "      <td>35517.364870</td>\n",
              "    </tr>\n",
              "  </tbody>\n",
              "</table>\n",
              "<p>43801 rows × 18 columns</p>\n",
              "</div>"
            ],
            "text/plain": [
              "                             valid_date   tmpf  ...  relh_MA_48           MWh\n",
              "valid_date                                      ...                          \n",
              "2011-01-01 00:00:00 2011-01-01 00:00:00  32.00  ...   41.547083  28496.388850\n",
              "2011-01-01 01:00:00 2011-01-01 01:00:00  33.08  ...   41.547083  27662.443480\n",
              "2011-01-01 02:00:00 2011-01-01 02:00:00  33.08  ...   41.547083  27250.044715\n",
              "2011-01-01 03:00:00 2011-01-01 03:00:00  32.00  ...   41.547083  26783.226081\n",
              "2011-01-01 04:00:00 2011-01-01 04:00:00  30.02  ...   41.547083  26676.468490\n",
              "...                                 ...    ...  ...         ...           ...\n",
              "2015-12-30 20:00:00 2015-12-30 20:00:00  44.96  ...   72.653958  39674.167296\n",
              "2015-12-30 21:00:00 2015-12-30 21:00:00  42.98  ...   72.290833  39485.829257\n",
              "2015-12-30 22:00:00 2015-12-30 22:00:00  41.00  ...   72.030625  38711.458864\n",
              "2015-12-30 23:00:00 2015-12-30 23:00:00  41.00  ...   71.849792  37254.930151\n",
              "2015-12-31 00:00:00 2015-12-31 00:00:00  39.92  ...   71.736458  35517.364870\n",
              "\n",
              "[43801 rows x 18 columns]"
            ]
          },
          "metadata": {
            "tags": []
          },
          "execution_count": 61
        }
      ]
    },
    {
      "cell_type": "code",
      "metadata": {
        "id": "-OFtZClXGCIq"
      },
      "source": [
        "merged_data = merged_data.drop([\"valid_date\"], axis = 1)"
      ],
      "execution_count": null,
      "outputs": []
    },
    {
      "cell_type": "code",
      "metadata": {
        "colab": {
          "base_uri": "https://localhost:8080/",
          "height": 321
        },
        "id": "aY0RxNMYrhSC",
        "outputId": "6ff965a8-fe82-433a-9624-251e520e67fc"
      },
      "source": [
        "merged_data.head()"
      ],
      "execution_count": null,
      "outputs": [
        {
          "output_type": "execute_result",
          "data": {
            "text/html": [
              "<div>\n",
              "<style scoped>\n",
              "    .dataframe tbody tr th:only-of-type {\n",
              "        vertical-align: middle;\n",
              "    }\n",
              "\n",
              "    .dataframe tbody tr th {\n",
              "        vertical-align: top;\n",
              "    }\n",
              "\n",
              "    .dataframe thead th {\n",
              "        text-align: right;\n",
              "    }\n",
              "</style>\n",
              "<table border=\"1\" class=\"dataframe\">\n",
              "  <thead>\n",
              "    <tr style=\"text-align: right;\">\n",
              "      <th></th>\n",
              "      <th>tmpf</th>\n",
              "      <th>dwpf</th>\n",
              "      <th>relh</th>\n",
              "      <th>sknt</th>\n",
              "      <th>weekend_indi</th>\n",
              "      <th>month</th>\n",
              "      <th>hour</th>\n",
              "      <th>tmpf_MA_12</th>\n",
              "      <th>tmpf_MA_24</th>\n",
              "      <th>tmpf_MA_48</th>\n",
              "      <th>dwpf_MA_12</th>\n",
              "      <th>dwpf_MA_24</th>\n",
              "      <th>dwpf_MA_48</th>\n",
              "      <th>relh_MA_12</th>\n",
              "      <th>relh_MA_24</th>\n",
              "      <th>relh_MA_48</th>\n",
              "      <th>MWh</th>\n",
              "    </tr>\n",
              "    <tr>\n",
              "      <th>valid_date</th>\n",
              "      <th></th>\n",
              "      <th></th>\n",
              "      <th></th>\n",
              "      <th></th>\n",
              "      <th></th>\n",
              "      <th></th>\n",
              "      <th></th>\n",
              "      <th></th>\n",
              "      <th></th>\n",
              "      <th></th>\n",
              "      <th></th>\n",
              "      <th></th>\n",
              "      <th></th>\n",
              "      <th></th>\n",
              "      <th></th>\n",
              "      <th></th>\n",
              "      <th></th>\n",
              "    </tr>\n",
              "  </thead>\n",
              "  <tbody>\n",
              "    <tr>\n",
              "      <th>2011-01-01 00:00:00</th>\n",
              "      <td>32.00</td>\n",
              "      <td>17.96</td>\n",
              "      <td>55.72</td>\n",
              "      <td>8.0</td>\n",
              "      <td>1</td>\n",
              "      <td>0</td>\n",
              "      <td>0</td>\n",
              "      <td>33.29</td>\n",
              "      <td>37.6775</td>\n",
              "      <td>37.82375</td>\n",
              "      <td>15.08</td>\n",
              "      <td>15.5</td>\n",
              "      <td>15.36875</td>\n",
              "      <td>48.9725</td>\n",
              "      <td>42.097917</td>\n",
              "      <td>41.547083</td>\n",
              "      <td>28496.388850</td>\n",
              "    </tr>\n",
              "    <tr>\n",
              "      <th>2011-01-01 01:00:00</th>\n",
              "      <td>33.08</td>\n",
              "      <td>19.04</td>\n",
              "      <td>55.89</td>\n",
              "      <td>7.0</td>\n",
              "      <td>1</td>\n",
              "      <td>0</td>\n",
              "      <td>1</td>\n",
              "      <td>33.29</td>\n",
              "      <td>37.6775</td>\n",
              "      <td>37.82375</td>\n",
              "      <td>15.08</td>\n",
              "      <td>15.5</td>\n",
              "      <td>15.36875</td>\n",
              "      <td>48.9725</td>\n",
              "      <td>42.097917</td>\n",
              "      <td>41.547083</td>\n",
              "      <td>27662.443480</td>\n",
              "    </tr>\n",
              "    <tr>\n",
              "      <th>2011-01-01 02:00:00</th>\n",
              "      <td>33.08</td>\n",
              "      <td>17.96</td>\n",
              "      <td>53.36</td>\n",
              "      <td>9.0</td>\n",
              "      <td>1</td>\n",
              "      <td>0</td>\n",
              "      <td>2</td>\n",
              "      <td>33.29</td>\n",
              "      <td>37.6775</td>\n",
              "      <td>37.82375</td>\n",
              "      <td>15.08</td>\n",
              "      <td>15.5</td>\n",
              "      <td>15.36875</td>\n",
              "      <td>48.9725</td>\n",
              "      <td>42.097917</td>\n",
              "      <td>41.547083</td>\n",
              "      <td>27250.044715</td>\n",
              "    </tr>\n",
              "    <tr>\n",
              "      <th>2011-01-01 03:00:00</th>\n",
              "      <td>32.00</td>\n",
              "      <td>19.04</td>\n",
              "      <td>58.37</td>\n",
              "      <td>7.0</td>\n",
              "      <td>1</td>\n",
              "      <td>0</td>\n",
              "      <td>3</td>\n",
              "      <td>33.29</td>\n",
              "      <td>37.6775</td>\n",
              "      <td>37.82375</td>\n",
              "      <td>15.08</td>\n",
              "      <td>15.5</td>\n",
              "      <td>15.36875</td>\n",
              "      <td>48.9725</td>\n",
              "      <td>42.097917</td>\n",
              "      <td>41.547083</td>\n",
              "      <td>26783.226081</td>\n",
              "    </tr>\n",
              "    <tr>\n",
              "      <th>2011-01-01 04:00:00</th>\n",
              "      <td>30.02</td>\n",
              "      <td>19.04</td>\n",
              "      <td>63.24</td>\n",
              "      <td>7.0</td>\n",
              "      <td>1</td>\n",
              "      <td>0</td>\n",
              "      <td>4</td>\n",
              "      <td>33.29</td>\n",
              "      <td>37.6775</td>\n",
              "      <td>37.82375</td>\n",
              "      <td>15.08</td>\n",
              "      <td>15.5</td>\n",
              "      <td>15.36875</td>\n",
              "      <td>48.9725</td>\n",
              "      <td>42.097917</td>\n",
              "      <td>41.547083</td>\n",
              "      <td>26676.468490</td>\n",
              "    </tr>\n",
              "  </tbody>\n",
              "</table>\n",
              "</div>"
            ],
            "text/plain": [
              "                      tmpf   dwpf   relh  ...  relh_MA_24  relh_MA_48           MWh\n",
              "valid_date                                ...                                      \n",
              "2011-01-01 00:00:00  32.00  17.96  55.72  ...   42.097917   41.547083  28496.388850\n",
              "2011-01-01 01:00:00  33.08  19.04  55.89  ...   42.097917   41.547083  27662.443480\n",
              "2011-01-01 02:00:00  33.08  17.96  53.36  ...   42.097917   41.547083  27250.044715\n",
              "2011-01-01 03:00:00  32.00  19.04  58.37  ...   42.097917   41.547083  26783.226081\n",
              "2011-01-01 04:00:00  30.02  19.04  63.24  ...   42.097917   41.547083  26676.468490\n",
              "\n",
              "[5 rows x 17 columns]"
            ]
          },
          "metadata": {
            "tags": []
          },
          "execution_count": 63
        }
      ]
    },
    {
      "cell_type": "code",
      "metadata": {
        "colab": {
          "base_uri": "https://localhost:8080/"
        },
        "id": "Tgf3iXF31wH3",
        "outputId": "56f0e714-00d4-4ea7-ebd3-d4da2197e1c3"
      },
      "source": [
        "merged_data.isnull().sum()"
      ],
      "execution_count": null,
      "outputs": [
        {
          "output_type": "execute_result",
          "data": {
            "text/plain": [
              "tmpf            0\n",
              "dwpf            0\n",
              "relh            0\n",
              "sknt            0\n",
              "weekend_indi    0\n",
              "month           0\n",
              "hour            0\n",
              "tmpf_MA_12      0\n",
              "tmpf_MA_24      0\n",
              "tmpf_MA_48      0\n",
              "dwpf_MA_12      0\n",
              "dwpf_MA_24      0\n",
              "dwpf_MA_48      0\n",
              "relh_MA_12      0\n",
              "relh_MA_24      0\n",
              "relh_MA_48      0\n",
              "MWh             0\n",
              "dtype: int64"
            ]
          },
          "metadata": {
            "tags": []
          },
          "execution_count": 64
        }
      ]
    },
    {
      "cell_type": "code",
      "metadata": {
        "colab": {
          "base_uri": "https://localhost:8080/",
          "height": 602
        },
        "id": "MJDWF8YVRmFo",
        "outputId": "0d2bec1a-0cfb-42db-dd3d-af5f48ff4d35"
      },
      "source": [
        "merged_data.loc['2011-01-01 00:00:00':'2014-12-31 23:59:59']"
      ],
      "execution_count": null,
      "outputs": [
        {
          "output_type": "execute_result",
          "data": {
            "text/html": [
              "<div>\n",
              "<style scoped>\n",
              "    .dataframe tbody tr th:only-of-type {\n",
              "        vertical-align: middle;\n",
              "    }\n",
              "\n",
              "    .dataframe tbody tr th {\n",
              "        vertical-align: top;\n",
              "    }\n",
              "\n",
              "    .dataframe thead th {\n",
              "        text-align: right;\n",
              "    }\n",
              "</style>\n",
              "<table border=\"1\" class=\"dataframe\">\n",
              "  <thead>\n",
              "    <tr style=\"text-align: right;\">\n",
              "      <th></th>\n",
              "      <th>tmpf</th>\n",
              "      <th>dwpf</th>\n",
              "      <th>relh</th>\n",
              "      <th>sknt</th>\n",
              "      <th>weekend_indi</th>\n",
              "      <th>month</th>\n",
              "      <th>hour</th>\n",
              "      <th>tmpf_MA_12</th>\n",
              "      <th>tmpf_MA_24</th>\n",
              "      <th>tmpf_MA_48</th>\n",
              "      <th>dwpf_MA_12</th>\n",
              "      <th>dwpf_MA_24</th>\n",
              "      <th>dwpf_MA_48</th>\n",
              "      <th>relh_MA_12</th>\n",
              "      <th>relh_MA_24</th>\n",
              "      <th>relh_MA_48</th>\n",
              "      <th>MWh</th>\n",
              "    </tr>\n",
              "    <tr>\n",
              "      <th>valid_date</th>\n",
              "      <th></th>\n",
              "      <th></th>\n",
              "      <th></th>\n",
              "      <th></th>\n",
              "      <th></th>\n",
              "      <th></th>\n",
              "      <th></th>\n",
              "      <th></th>\n",
              "      <th></th>\n",
              "      <th></th>\n",
              "      <th></th>\n",
              "      <th></th>\n",
              "      <th></th>\n",
              "      <th></th>\n",
              "      <th></th>\n",
              "      <th></th>\n",
              "      <th></th>\n",
              "    </tr>\n",
              "  </thead>\n",
              "  <tbody>\n",
              "    <tr>\n",
              "      <th>2011-01-01 00:00:00</th>\n",
              "      <td>32.00</td>\n",
              "      <td>17.96</td>\n",
              "      <td>55.72</td>\n",
              "      <td>8.0</td>\n",
              "      <td>1</td>\n",
              "      <td>0</td>\n",
              "      <td>0</td>\n",
              "      <td>33.290</td>\n",
              "      <td>37.6775</td>\n",
              "      <td>37.82375</td>\n",
              "      <td>15.080</td>\n",
              "      <td>15.5000</td>\n",
              "      <td>15.36875</td>\n",
              "      <td>48.972500</td>\n",
              "      <td>42.097917</td>\n",
              "      <td>41.547083</td>\n",
              "      <td>28496.388850</td>\n",
              "    </tr>\n",
              "    <tr>\n",
              "      <th>2011-01-01 01:00:00</th>\n",
              "      <td>33.08</td>\n",
              "      <td>19.04</td>\n",
              "      <td>55.89</td>\n",
              "      <td>7.0</td>\n",
              "      <td>1</td>\n",
              "      <td>0</td>\n",
              "      <td>1</td>\n",
              "      <td>33.290</td>\n",
              "      <td>37.6775</td>\n",
              "      <td>37.82375</td>\n",
              "      <td>15.080</td>\n",
              "      <td>15.5000</td>\n",
              "      <td>15.36875</td>\n",
              "      <td>48.972500</td>\n",
              "      <td>42.097917</td>\n",
              "      <td>41.547083</td>\n",
              "      <td>27662.443480</td>\n",
              "    </tr>\n",
              "    <tr>\n",
              "      <th>2011-01-01 02:00:00</th>\n",
              "      <td>33.08</td>\n",
              "      <td>17.96</td>\n",
              "      <td>53.36</td>\n",
              "      <td>9.0</td>\n",
              "      <td>1</td>\n",
              "      <td>0</td>\n",
              "      <td>2</td>\n",
              "      <td>33.290</td>\n",
              "      <td>37.6775</td>\n",
              "      <td>37.82375</td>\n",
              "      <td>15.080</td>\n",
              "      <td>15.5000</td>\n",
              "      <td>15.36875</td>\n",
              "      <td>48.972500</td>\n",
              "      <td>42.097917</td>\n",
              "      <td>41.547083</td>\n",
              "      <td>27250.044715</td>\n",
              "    </tr>\n",
              "    <tr>\n",
              "      <th>2011-01-01 03:00:00</th>\n",
              "      <td>32.00</td>\n",
              "      <td>19.04</td>\n",
              "      <td>58.37</td>\n",
              "      <td>7.0</td>\n",
              "      <td>1</td>\n",
              "      <td>0</td>\n",
              "      <td>3</td>\n",
              "      <td>33.290</td>\n",
              "      <td>37.6775</td>\n",
              "      <td>37.82375</td>\n",
              "      <td>15.080</td>\n",
              "      <td>15.5000</td>\n",
              "      <td>15.36875</td>\n",
              "      <td>48.972500</td>\n",
              "      <td>42.097917</td>\n",
              "      <td>41.547083</td>\n",
              "      <td>26783.226081</td>\n",
              "    </tr>\n",
              "    <tr>\n",
              "      <th>2011-01-01 04:00:00</th>\n",
              "      <td>30.02</td>\n",
              "      <td>19.04</td>\n",
              "      <td>63.24</td>\n",
              "      <td>7.0</td>\n",
              "      <td>1</td>\n",
              "      <td>0</td>\n",
              "      <td>4</td>\n",
              "      <td>33.290</td>\n",
              "      <td>37.6775</td>\n",
              "      <td>37.82375</td>\n",
              "      <td>15.080</td>\n",
              "      <td>15.5000</td>\n",
              "      <td>15.36875</td>\n",
              "      <td>48.972500</td>\n",
              "      <td>42.097917</td>\n",
              "      <td>41.547083</td>\n",
              "      <td>26676.468490</td>\n",
              "    </tr>\n",
              "    <tr>\n",
              "      <th>...</th>\n",
              "      <td>...</td>\n",
              "      <td>...</td>\n",
              "      <td>...</td>\n",
              "      <td>...</td>\n",
              "      <td>...</td>\n",
              "      <td>...</td>\n",
              "      <td>...</td>\n",
              "      <td>...</td>\n",
              "      <td>...</td>\n",
              "      <td>...</td>\n",
              "      <td>...</td>\n",
              "      <td>...</td>\n",
              "      <td>...</td>\n",
              "      <td>...</td>\n",
              "      <td>...</td>\n",
              "      <td>...</td>\n",
              "      <td>...</td>\n",
              "    </tr>\n",
              "    <tr>\n",
              "      <th>2014-12-31 19:00:00</th>\n",
              "      <td>19.94</td>\n",
              "      <td>19.94</td>\n",
              "      <td>100.00</td>\n",
              "      <td>0.0</td>\n",
              "      <td>0</td>\n",
              "      <td>11</td>\n",
              "      <td>19</td>\n",
              "      <td>19.940</td>\n",
              "      <td>21.7025</td>\n",
              "      <td>29.29250</td>\n",
              "      <td>19.745</td>\n",
              "      <td>21.6050</td>\n",
              "      <td>24.89000</td>\n",
              "      <td>98.115000</td>\n",
              "      <td>98.560417</td>\n",
              "      <td>87.335208</td>\n",
              "      <td>48373.161288</td>\n",
              "    </tr>\n",
              "    <tr>\n",
              "      <th>2014-12-31 20:00:00</th>\n",
              "      <td>21.02</td>\n",
              "      <td>19.94</td>\n",
              "      <td>95.51</td>\n",
              "      <td>5.0</td>\n",
              "      <td>0</td>\n",
              "      <td>11</td>\n",
              "      <td>20</td>\n",
              "      <td>20.030</td>\n",
              "      <td>21.4550</td>\n",
              "      <td>28.66625</td>\n",
              "      <td>19.745</td>\n",
              "      <td>21.3125</td>\n",
              "      <td>24.78500</td>\n",
              "      <td>98.055000</td>\n",
              "      <td>98.373333</td>\n",
              "      <td>88.577292</td>\n",
              "      <td>46976.297844</td>\n",
              "    </tr>\n",
              "    <tr>\n",
              "      <th>2014-12-31 21:00:00</th>\n",
              "      <td>21.02</td>\n",
              "      <td>19.94</td>\n",
              "      <td>95.51</td>\n",
              "      <td>4.0</td>\n",
              "      <td>0</td>\n",
              "      <td>11</td>\n",
              "      <td>21</td>\n",
              "      <td>20.120</td>\n",
              "      <td>21.1625</td>\n",
              "      <td>28.08500</td>\n",
              "      <td>19.820</td>\n",
              "      <td>20.9750</td>\n",
              "      <td>24.72125</td>\n",
              "      <td>97.995000</td>\n",
              "      <td>98.186250</td>\n",
              "      <td>89.821250</td>\n",
              "      <td>45404.436667</td>\n",
              "    </tr>\n",
              "    <tr>\n",
              "      <th>2014-12-31 22:00:00</th>\n",
              "      <td>21.02</td>\n",
              "      <td>19.94</td>\n",
              "      <td>95.51</td>\n",
              "      <td>3.0</td>\n",
              "      <td>0</td>\n",
              "      <td>11</td>\n",
              "      <td>22</td>\n",
              "      <td>20.210</td>\n",
              "      <td>20.9525</td>\n",
              "      <td>27.52250</td>\n",
              "      <td>19.865</td>\n",
              "      <td>20.7200</td>\n",
              "      <td>24.63500</td>\n",
              "      <td>97.935000</td>\n",
              "      <td>97.999167</td>\n",
              "      <td>91.003958</td>\n",
              "      <td>43800.794552</td>\n",
              "    </tr>\n",
              "    <tr>\n",
              "      <th>2014-12-31 23:00:00</th>\n",
              "      <td>21.20</td>\n",
              "      <td>21.20</td>\n",
              "      <td>100.00</td>\n",
              "      <td>5.0</td>\n",
              "      <td>0</td>\n",
              "      <td>11</td>\n",
              "      <td>23</td>\n",
              "      <td>20.315</td>\n",
              "      <td>20.8025</td>\n",
              "      <td>26.98625</td>\n",
              "      <td>20.045</td>\n",
              "      <td>20.5700</td>\n",
              "      <td>24.59750</td>\n",
              "      <td>98.249167</td>\n",
              "      <td>97.999167</td>\n",
              "      <td>92.283958</td>\n",
              "      <td>42055.295929</td>\n",
              "    </tr>\n",
              "  </tbody>\n",
              "</table>\n",
              "<p>35064 rows × 17 columns</p>\n",
              "</div>"
            ],
            "text/plain": [
              "                      tmpf   dwpf    relh  ...  relh_MA_24  relh_MA_48           MWh\n",
              "valid_date                                 ...                                      \n",
              "2011-01-01 00:00:00  32.00  17.96   55.72  ...   42.097917   41.547083  28496.388850\n",
              "2011-01-01 01:00:00  33.08  19.04   55.89  ...   42.097917   41.547083  27662.443480\n",
              "2011-01-01 02:00:00  33.08  17.96   53.36  ...   42.097917   41.547083  27250.044715\n",
              "2011-01-01 03:00:00  32.00  19.04   58.37  ...   42.097917   41.547083  26783.226081\n",
              "2011-01-01 04:00:00  30.02  19.04   63.24  ...   42.097917   41.547083  26676.468490\n",
              "...                    ...    ...     ...  ...         ...         ...           ...\n",
              "2014-12-31 19:00:00  19.94  19.94  100.00  ...   98.560417   87.335208  48373.161288\n",
              "2014-12-31 20:00:00  21.02  19.94   95.51  ...   98.373333   88.577292  46976.297844\n",
              "2014-12-31 21:00:00  21.02  19.94   95.51  ...   98.186250   89.821250  45404.436667\n",
              "2014-12-31 22:00:00  21.02  19.94   95.51  ...   97.999167   91.003958  43800.794552\n",
              "2014-12-31 23:00:00  21.20  21.20  100.00  ...   97.999167   92.283958  42055.295929\n",
              "\n",
              "[35064 rows x 17 columns]"
            ]
          },
          "metadata": {
            "tags": []
          },
          "execution_count": 65
        }
      ]
    },
    {
      "cell_type": "code",
      "metadata": {
        "colab": {
          "base_uri": "https://localhost:8080/",
          "height": 602
        },
        "id": "-ROvSpcwRtyi",
        "outputId": "09ce1efd-4db6-4344-f733-e5566cdcc146"
      },
      "source": [
        "merged_data.loc['2015-01-01 00:00:00':'2015-12-31 23:59:59']"
      ],
      "execution_count": null,
      "outputs": [
        {
          "output_type": "execute_result",
          "data": {
            "text/html": [
              "<div>\n",
              "<style scoped>\n",
              "    .dataframe tbody tr th:only-of-type {\n",
              "        vertical-align: middle;\n",
              "    }\n",
              "\n",
              "    .dataframe tbody tr th {\n",
              "        vertical-align: top;\n",
              "    }\n",
              "\n",
              "    .dataframe thead th {\n",
              "        text-align: right;\n",
              "    }\n",
              "</style>\n",
              "<table border=\"1\" class=\"dataframe\">\n",
              "  <thead>\n",
              "    <tr style=\"text-align: right;\">\n",
              "      <th></th>\n",
              "      <th>tmpf</th>\n",
              "      <th>dwpf</th>\n",
              "      <th>relh</th>\n",
              "      <th>sknt</th>\n",
              "      <th>weekend_indi</th>\n",
              "      <th>month</th>\n",
              "      <th>hour</th>\n",
              "      <th>tmpf_MA_12</th>\n",
              "      <th>tmpf_MA_24</th>\n",
              "      <th>tmpf_MA_48</th>\n",
              "      <th>dwpf_MA_12</th>\n",
              "      <th>dwpf_MA_24</th>\n",
              "      <th>dwpf_MA_48</th>\n",
              "      <th>relh_MA_12</th>\n",
              "      <th>relh_MA_24</th>\n",
              "      <th>relh_MA_48</th>\n",
              "      <th>MWh</th>\n",
              "    </tr>\n",
              "    <tr>\n",
              "      <th>valid_date</th>\n",
              "      <th></th>\n",
              "      <th></th>\n",
              "      <th></th>\n",
              "      <th></th>\n",
              "      <th></th>\n",
              "      <th></th>\n",
              "      <th></th>\n",
              "      <th></th>\n",
              "      <th></th>\n",
              "      <th></th>\n",
              "      <th></th>\n",
              "      <th></th>\n",
              "      <th></th>\n",
              "      <th></th>\n",
              "      <th></th>\n",
              "      <th></th>\n",
              "      <th></th>\n",
              "    </tr>\n",
              "  </thead>\n",
              "  <tbody>\n",
              "    <tr>\n",
              "      <th>2015-01-01 00:00:00</th>\n",
              "      <td>21.02</td>\n",
              "      <td>21.02</td>\n",
              "      <td>100.00</td>\n",
              "      <td>5.0</td>\n",
              "      <td>0</td>\n",
              "      <td>0</td>\n",
              "      <td>0</td>\n",
              "      <td>20.405</td>\n",
              "      <td>20.7200</td>\n",
              "      <td>26.46500</td>\n",
              "      <td>20.135</td>\n",
              "      <td>20.4875</td>\n",
              "      <td>24.55625</td>\n",
              "      <td>98.563333</td>\n",
              "      <td>97.999167</td>\n",
              "      <td>93.536042</td>\n",
              "      <td>40707.660350</td>\n",
              "    </tr>\n",
              "    <tr>\n",
              "      <th>2015-01-01 01:00:00</th>\n",
              "      <td>21.92</td>\n",
              "      <td>21.02</td>\n",
              "      <td>96.26</td>\n",
              "      <td>3.0</td>\n",
              "      <td>0</td>\n",
              "      <td>0</td>\n",
              "      <td>1</td>\n",
              "      <td>20.570</td>\n",
              "      <td>20.6750</td>\n",
              "      <td>26.00375</td>\n",
              "      <td>20.225</td>\n",
              "      <td>20.4050</td>\n",
              "      <td>24.49250</td>\n",
              "      <td>98.565833</td>\n",
              "      <td>98.028750</td>\n",
              "      <td>94.603750</td>\n",
              "      <td>39624.861027</td>\n",
              "    </tr>\n",
              "    <tr>\n",
              "      <th>2015-01-01 02:00:00</th>\n",
              "      <td>21.92</td>\n",
              "      <td>21.02</td>\n",
              "      <td>96.26</td>\n",
              "      <td>4.0</td>\n",
              "      <td>0</td>\n",
              "      <td>0</td>\n",
              "      <td>2</td>\n",
              "      <td>20.735</td>\n",
              "      <td>20.6300</td>\n",
              "      <td>25.54250</td>\n",
              "      <td>20.315</td>\n",
              "      <td>20.3225</td>\n",
              "      <td>24.45125</td>\n",
              "      <td>98.254167</td>\n",
              "      <td>97.872917</td>\n",
              "      <td>95.712917</td>\n",
              "      <td>39013.544802</td>\n",
              "    </tr>\n",
              "    <tr>\n",
              "      <th>2015-01-01 03:00:00</th>\n",
              "      <td>21.92</td>\n",
              "      <td>21.92</td>\n",
              "      <td>96.26</td>\n",
              "      <td>4.0</td>\n",
              "      <td>0</td>\n",
              "      <td>0</td>\n",
              "      <td>3</td>\n",
              "      <td>20.900</td>\n",
              "      <td>20.6300</td>\n",
              "      <td>25.12250</td>\n",
              "      <td>20.480</td>\n",
              "      <td>20.3225</td>\n",
              "      <td>24.42875</td>\n",
              "      <td>97.942500</td>\n",
              "      <td>97.717083</td>\n",
              "      <td>96.751458</td>\n",
              "      <td>38566.541927</td>\n",
              "    </tr>\n",
              "    <tr>\n",
              "      <th>2015-01-01 04:00:00</th>\n",
              "      <td>23.00</td>\n",
              "      <td>21.92</td>\n",
              "      <td>95.55</td>\n",
              "      <td>5.0</td>\n",
              "      <td>0</td>\n",
              "      <td>0</td>\n",
              "      <td>4</td>\n",
              "      <td>21.155</td>\n",
              "      <td>20.6750</td>\n",
              "      <td>24.89375</td>\n",
              "      <td>20.645</td>\n",
              "      <td>20.3225</td>\n",
              "      <td>24.36500</td>\n",
              "      <td>97.571667</td>\n",
              "      <td>97.687500</td>\n",
              "      <td>97.298750</td>\n",
              "      <td>38488.338511</td>\n",
              "    </tr>\n",
              "    <tr>\n",
              "      <th>...</th>\n",
              "      <td>...</td>\n",
              "      <td>...</td>\n",
              "      <td>...</td>\n",
              "      <td>...</td>\n",
              "      <td>...</td>\n",
              "      <td>...</td>\n",
              "      <td>...</td>\n",
              "      <td>...</td>\n",
              "      <td>...</td>\n",
              "      <td>...</td>\n",
              "      <td>...</td>\n",
              "      <td>...</td>\n",
              "      <td>...</td>\n",
              "      <td>...</td>\n",
              "      <td>...</td>\n",
              "      <td>...</td>\n",
              "      <td>...</td>\n",
              "    </tr>\n",
              "    <tr>\n",
              "      <th>2015-12-30 20:00:00</th>\n",
              "      <td>44.96</td>\n",
              "      <td>33.98</td>\n",
              "      <td>65.18</td>\n",
              "      <td>4.0</td>\n",
              "      <td>0</td>\n",
              "      <td>11</td>\n",
              "      <td>20</td>\n",
              "      <td>50.675</td>\n",
              "      <td>43.3025</td>\n",
              "      <td>40.63625</td>\n",
              "      <td>32.915</td>\n",
              "      <td>32.0825</td>\n",
              "      <td>31.70375</td>\n",
              "      <td>51.993333</td>\n",
              "      <td>67.491667</td>\n",
              "      <td>72.653958</td>\n",
              "      <td>39674.167296</td>\n",
              "    </tr>\n",
              "    <tr>\n",
              "      <th>2015-12-30 21:00:00</th>\n",
              "      <td>42.98</td>\n",
              "      <td>33.08</td>\n",
              "      <td>67.81</td>\n",
              "      <td>6.0</td>\n",
              "      <td>0</td>\n",
              "      <td>11</td>\n",
              "      <td>21</td>\n",
              "      <td>51.005</td>\n",
              "      <td>43.5950</td>\n",
              "      <td>40.82375</td>\n",
              "      <td>33.170</td>\n",
              "      <td>32.0825</td>\n",
              "      <td>31.76750</td>\n",
              "      <td>51.822500</td>\n",
              "      <td>66.602083</td>\n",
              "      <td>72.290833</td>\n",
              "      <td>39485.829257</td>\n",
              "    </tr>\n",
              "    <tr>\n",
              "      <th>2015-12-30 22:00:00</th>\n",
              "      <td>41.00</td>\n",
              "      <td>33.98</td>\n",
              "      <td>75.88</td>\n",
              "      <td>7.0</td>\n",
              "      <td>0</td>\n",
              "      <td>11</td>\n",
              "      <td>22</td>\n",
              "      <td>50.585</td>\n",
              "      <td>43.7600</td>\n",
              "      <td>40.98875</td>\n",
              "      <td>33.335</td>\n",
              "      <td>32.1200</td>\n",
              "      <td>31.85000</td>\n",
              "      <td>53.330833</td>\n",
              "      <td>66.204167</td>\n",
              "      <td>72.030625</td>\n",
              "      <td>38711.458864</td>\n",
              "    </tr>\n",
              "    <tr>\n",
              "      <th>2015-12-30 23:00:00</th>\n",
              "      <td>41.00</td>\n",
              "      <td>33.98</td>\n",
              "      <td>75.88</td>\n",
              "      <td>8.0</td>\n",
              "      <td>0</td>\n",
              "      <td>11</td>\n",
              "      <td>23</td>\n",
              "      <td>49.745</td>\n",
              "      <td>43.9250</td>\n",
              "      <td>41.15375</td>\n",
              "      <td>33.500</td>\n",
              "      <td>32.1575</td>\n",
              "      <td>31.95500</td>\n",
              "      <td>55.666667</td>\n",
              "      <td>65.806250</td>\n",
              "      <td>71.849792</td>\n",
              "      <td>37254.930151</td>\n",
              "    </tr>\n",
              "    <tr>\n",
              "      <th>2015-12-31 00:00:00</th>\n",
              "      <td>39.92</td>\n",
              "      <td>33.98</td>\n",
              "      <td>79.12</td>\n",
              "      <td>5.0</td>\n",
              "      <td>0</td>\n",
              "      <td>11</td>\n",
              "      <td>0</td>\n",
              "      <td>48.485</td>\n",
              "      <td>44.0075</td>\n",
              "      <td>41.29625</td>\n",
              "      <td>33.830</td>\n",
              "      <td>32.1950</td>\n",
              "      <td>32.06000</td>\n",
              "      <td>59.077500</td>\n",
              "      <td>65.667083</td>\n",
              "      <td>71.736458</td>\n",
              "      <td>35517.364870</td>\n",
              "    </tr>\n",
              "  </tbody>\n",
              "</table>\n",
              "<p>8737 rows × 17 columns</p>\n",
              "</div>"
            ],
            "text/plain": [
              "                      tmpf   dwpf    relh  ...  relh_MA_24  relh_MA_48           MWh\n",
              "valid_date                                 ...                                      \n",
              "2015-01-01 00:00:00  21.02  21.02  100.00  ...   97.999167   93.536042  40707.660350\n",
              "2015-01-01 01:00:00  21.92  21.02   96.26  ...   98.028750   94.603750  39624.861027\n",
              "2015-01-01 02:00:00  21.92  21.02   96.26  ...   97.872917   95.712917  39013.544802\n",
              "2015-01-01 03:00:00  21.92  21.92   96.26  ...   97.717083   96.751458  38566.541927\n",
              "2015-01-01 04:00:00  23.00  21.92   95.55  ...   97.687500   97.298750  38488.338511\n",
              "...                    ...    ...     ...  ...         ...         ...           ...\n",
              "2015-12-30 20:00:00  44.96  33.98   65.18  ...   67.491667   72.653958  39674.167296\n",
              "2015-12-30 21:00:00  42.98  33.08   67.81  ...   66.602083   72.290833  39485.829257\n",
              "2015-12-30 22:00:00  41.00  33.98   75.88  ...   66.204167   72.030625  38711.458864\n",
              "2015-12-30 23:00:00  41.00  33.98   75.88  ...   65.806250   71.849792  37254.930151\n",
              "2015-12-31 00:00:00  39.92  33.98   79.12  ...   65.667083   71.736458  35517.364870\n",
              "\n",
              "[8737 rows x 17 columns]"
            ]
          },
          "metadata": {
            "tags": []
          },
          "execution_count": 66
        }
      ]
    },
    {
      "cell_type": "markdown",
      "metadata": {
        "id": "9Bqh9ikwZSp6"
      },
      "source": [
        "# Exporatory Data Analysis"
      ]
    },
    {
      "cell_type": "markdown",
      "metadata": {
        "id": "u_B22rnVumyY"
      },
      "source": [
        "## Various Plots wrt Date and Energy"
      ]
    },
    {
      "cell_type": "markdown",
      "metadata": {
        "id": "O0NtUk-Zvb6y"
      },
      "source": [
        "### tmpf"
      ]
    },
    {
      "cell_type": "code",
      "metadata": {
        "colab": {
          "base_uri": "https://localhost:8080/",
          "height": 265
        },
        "id": "PdXyDdLzvJlo",
        "outputId": "8098db7e-bb80-4a24-afe2-3fd1e7c45af3"
      },
      "source": [
        "merged_data.reset_index(inplace=True)\n",
        "fig, ax = plt.subplots()\n",
        "\n",
        "ax.plot(merged_data.valid_date, merged_data.MWh, color='blue')\n",
        "\n",
        "ax2 = ax.twinx()\n",
        "\n",
        "ax2.plot(merged_data.valid_date, merged_data.tmpf, color='red')\n",
        "\n",
        "plt.show()"
      ],
      "execution_count": null,
      "outputs": [
        {
          "output_type": "display_data",
          "data": {
            "image/png": "[encoded data removed]",
            "text/plain": [
              "<Figure size 432x288 with 2 Axes>"
            ]
          },
          "metadata": {
            "tags": [],
            "needs_background": "light"
          }
        }
      ]
    },
    {
      "cell_type": "markdown",
      "metadata": {
        "id": "tHYKI2Mxbeda"
      },
      "source": [
        "When we plot the temperature versus energy plot, we see that the peaks and troughs are similar between both. This shows that the tempoerature increases and decreases with energy. With higher temperature, higher energy consumption is shown since Texas has hot climate and air conditioners use this higher energy."
      ]
    },
    {
      "cell_type": "markdown",
      "metadata": {
        "id": "G_Tpd6E8vgRd"
      },
      "source": [
        "### sknt"
      ]
    },
    {
      "cell_type": "code",
      "metadata": {
        "colab": {
          "base_uri": "https://localhost:8080/",
          "height": 265
        },
        "id": "1a4-T-CXvlic",
        "outputId": "e29a4429-a810-4f2f-b5ad-c0314e7ed7c5"
      },
      "source": [
        "fig, ax = plt.subplots()\n",
        "\n",
        "\n",
        "ax.plot(merged_data.valid_date, merged_data.MWh, color='blue')\n",
        "ax2 = ax.twinx()\n",
        "\n",
        "ax2.plot(merged_data.valid_date, merged_data.sknt, color='red')\n",
        "\n",
        "plt.show()"
      ],
      "execution_count": null,
      "outputs": [
        {
          "output_type": "display_data",
          "data": {
            "image/png": "[encoded data removed]",
            "text/plain": [
              "<Figure size 432x288 with 2 Axes>"
            ]
          },
          "metadata": {
            "tags": [],
            "needs_background": "light"
          }
        }
      ]
    },
    {
      "cell_type": "markdown",
      "metadata": {
        "id": "4G19rDiIc5dQ"
      },
      "source": [
        "For wind speed (SKNT), there is not much correlatuon with respect to energy consumption. We can see that higher energy consumption is during low wind speeds as well as high wind speeds. "
      ]
    },
    {
      "cell_type": "markdown",
      "metadata": {
        "id": "yeObND1RvtwW"
      },
      "source": [
        "### relh"
      ]
    },
    {
      "cell_type": "code",
      "metadata": {
        "colab": {
          "base_uri": "https://localhost:8080/",
          "height": 265
        },
        "id": "SYVOQ0K9vtZG",
        "outputId": "99c8181f-5a84-4a97-e8aa-ab8fc2a61c45"
      },
      "source": [
        "fig, ax = plt.subplots()\n",
        "\n",
        "\n",
        "ax.plot(merged_data.valid_date, merged_data.MWh, color='blue')\n",
        "\n",
        "\n",
        "ax2 = ax.twinx()\n",
        "\n",
        "\n",
        "ax2.plot(merged_data.valid_date, merged_data.relh, color='red')\n",
        "\n",
        "plt.show()"
      ],
      "execution_count": null,
      "outputs": [
        {
          "output_type": "display_data",
          "data": {
            "image/png": "[encoded data removed]",
            "text/plain": [
              "<Figure size 432x288 with 2 Axes>"
            ]
          },
          "metadata": {
            "tags": [],
            "needs_background": "light"
          }
        }
      ]
    },
    {
      "cell_type": "markdown",
      "metadata": {
        "id": "CoK_ybGmdRuU"
      },
      "source": [
        "With respect to relative humidity, there seems to be no correlation at all with energy consumption."
      ]
    },
    {
      "cell_type": "markdown",
      "metadata": {
        "id": "8TbT-Rwiv8rh"
      },
      "source": [
        "###dwpf"
      ]
    },
    {
      "cell_type": "code",
      "metadata": {
        "colab": {
          "base_uri": "https://localhost:8080/",
          "height": 265
        },
        "id": "u41zfgFbv-i7",
        "outputId": "807cb0c7-6563-4f1a-a464-2e1c39e00744"
      },
      "source": [
        "fig, ax = plt.subplots()\n",
        "\n",
        "\n",
        "ax.plot(merged_data.valid_date, merged_data.MWh, color='blue')\n",
        "\n",
        "\n",
        "ax2 = ax.twinx()\n",
        "\n",
        "\n",
        "ax2.plot(merged_data.valid_date, merged_data.dwpf, color='red')\n",
        "\n",
        "plt.show()"
      ],
      "execution_count": null,
      "outputs": [
        {
          "output_type": "display_data",
          "data": {
            "image/png": "[encoded data removed]",
            "text/plain": [
              "<Figure size 432x288 with 2 Axes>"
            ]
          },
          "metadata": {
            "tags": [],
            "needs_background": "light"
          }
        }
      ]
    },
    {
      "cell_type": "markdown",
      "metadata": {
        "id": "FKVaWvIeeGsL"
      },
      "source": [
        "A higher dew point leads to higher power consumption, whereas lower dew point leads to lower power consumption. A higher dew point means that temperature is very cold at those points as water forms droplets from air. This means more power is required to keep warm."
      ]
    },
    {
      "cell_type": "markdown",
      "metadata": {
        "id": "S2OEI2rjZ7it"
      },
      "source": [
        "## Data average according to Hours of day"
      ]
    },
    {
      "cell_type": "code",
      "metadata": {
        "id": "r6DnMluKZs-a"
      },
      "source": [
        "MWh_hour = merged_data.pivot_table(index=['hour'], values=['MWh'], aggfunc='mean')\n",
        "tmpf_hour = merged_data.pivot_table(index=['hour'], values=['tmpf'], aggfunc='mean')\n",
        "relh_hour = merged_data.pivot_table(index=['hour'], values=['relh'], aggfunc='mean')\n",
        "dwpf_hour = merged_data.pivot_table(index=['hour'], values=['dwpf'], aggfunc='mean')\n",
        "sknt_hour = merged_data.pivot_table(index=['hour'], values=['sknt'], aggfunc='mean')"
      ],
      "execution_count": null,
      "outputs": []
    },
    {
      "cell_type": "code",
      "metadata": {
        "colab": {
          "base_uri": "https://localhost:8080/",
          "height": 766
        },
        "id": "XNVKRJPGa0es",
        "outputId": "f3e4bc84-de07-4372-a338-ac69a21b6d9c"
      },
      "source": [
        "hour_data = pd.concat([MWh_hour,tmpf_hour,relh_hour,dwpf_hour,sknt_hour],axis=1)\n",
        "hour_data"
      ],
      "execution_count": null,
      "outputs": [
        {
          "output_type": "execute_result",
          "data": {
            "text/html": [
              "<div>\n",
              "<style scoped>\n",
              "    .dataframe tbody tr th:only-of-type {\n",
              "        vertical-align: middle;\n",
              "    }\n",
              "\n",
              "    .dataframe tbody tr th {\n",
              "        vertical-align: top;\n",
              "    }\n",
              "\n",
              "    .dataframe thead th {\n",
              "        text-align: right;\n",
              "    }\n",
              "</style>\n",
              "<table border=\"1\" class=\"dataframe\">\n",
              "  <thead>\n",
              "    <tr style=\"text-align: right;\">\n",
              "      <th></th>\n",
              "      <th>MWh</th>\n",
              "      <th>tmpf</th>\n",
              "      <th>relh</th>\n",
              "      <th>dwpf</th>\n",
              "      <th>sknt</th>\n",
              "    </tr>\n",
              "    <tr>\n",
              "      <th>hour</th>\n",
              "      <th></th>\n",
              "      <th></th>\n",
              "      <th></th>\n",
              "      <th></th>\n",
              "      <th></th>\n",
              "    </tr>\n",
              "  </thead>\n",
              "  <tbody>\n",
              "    <tr>\n",
              "      <th>0</th>\n",
              "      <td>35651.668784</td>\n",
              "      <td>63.042892</td>\n",
              "      <td>51.425515</td>\n",
              "      <td>42.212968</td>\n",
              "      <td>10.159912</td>\n",
              "    </tr>\n",
              "    <tr>\n",
              "      <th>1</th>\n",
              "      <td>33298.742285</td>\n",
              "      <td>61.871551</td>\n",
              "      <td>53.493205</td>\n",
              "      <td>42.434707</td>\n",
              "      <td>9.988493</td>\n",
              "    </tr>\n",
              "    <tr>\n",
              "      <th>2</th>\n",
              "      <td>31779.484842</td>\n",
              "      <td>60.908395</td>\n",
              "      <td>55.328690</td>\n",
              "      <td>42.588964</td>\n",
              "      <td>9.563836</td>\n",
              "    </tr>\n",
              "    <tr>\n",
              "      <th>3</th>\n",
              "      <td>30836.841342</td>\n",
              "      <td>59.927649</td>\n",
              "      <td>56.791041</td>\n",
              "      <td>42.519868</td>\n",
              "      <td>9.375890</td>\n",
              "    </tr>\n",
              "    <tr>\n",
              "      <th>4</th>\n",
              "      <td>30387.144039</td>\n",
              "      <td>58.991529</td>\n",
              "      <td>58.177600</td>\n",
              "      <td>42.372899</td>\n",
              "      <td>8.947945</td>\n",
              "    </tr>\n",
              "    <tr>\n",
              "      <th>5</th>\n",
              "      <td>30590.008852</td>\n",
              "      <td>58.127003</td>\n",
              "      <td>59.464619</td>\n",
              "      <td>42.154959</td>\n",
              "      <td>8.752877</td>\n",
              "    </tr>\n",
              "    <tr>\n",
              "      <th>6</th>\n",
              "      <td>31981.902880</td>\n",
              "      <td>57.358411</td>\n",
              "      <td>60.640192</td>\n",
              "      <td>41.986115</td>\n",
              "      <td>8.583014</td>\n",
              "    </tr>\n",
              "    <tr>\n",
              "      <th>7</th>\n",
              "      <td>34399.334349</td>\n",
              "      <td>56.557775</td>\n",
              "      <td>61.919479</td>\n",
              "      <td>41.831660</td>\n",
              "      <td>8.360548</td>\n",
              "    </tr>\n",
              "    <tr>\n",
              "      <th>8</th>\n",
              "      <td>35462.590651</td>\n",
              "      <td>56.795485</td>\n",
              "      <td>61.785764</td>\n",
              "      <td>41.972625</td>\n",
              "      <td>8.303562</td>\n",
              "    </tr>\n",
              "    <tr>\n",
              "      <th>9</th>\n",
              "      <td>36330.787622</td>\n",
              "      <td>60.584975</td>\n",
              "      <td>56.014482</td>\n",
              "      <td>42.440636</td>\n",
              "      <td>8.569315</td>\n",
              "    </tr>\n",
              "    <tr>\n",
              "      <th>10</th>\n",
              "      <td>37760.009764</td>\n",
              "      <td>65.347649</td>\n",
              "      <td>48.517068</td>\n",
              "      <td>42.270400</td>\n",
              "      <td>8.898082</td>\n",
              "    </tr>\n",
              "    <tr>\n",
              "      <th>11</th>\n",
              "      <td>39253.873909</td>\n",
              "      <td>69.350433</td>\n",
              "      <td>41.993293</td>\n",
              "      <td>41.207266</td>\n",
              "      <td>8.821370</td>\n",
              "    </tr>\n",
              "    <tr>\n",
              "      <th>12</th>\n",
              "      <td>40519.228785</td>\n",
              "      <td>72.440942</td>\n",
              "      <td>37.150701</td>\n",
              "      <td>40.009732</td>\n",
              "      <td>8.692603</td>\n",
              "    </tr>\n",
              "    <tr>\n",
              "      <th>13</th>\n",
              "      <td>41578.319862</td>\n",
              "      <td>74.911123</td>\n",
              "      <td>33.426981</td>\n",
              "      <td>38.869896</td>\n",
              "      <td>8.745205</td>\n",
              "    </tr>\n",
              "    <tr>\n",
              "      <th>14</th>\n",
              "      <td>42597.401720</td>\n",
              "      <td>76.684340</td>\n",
              "      <td>30.852082</td>\n",
              "      <td>38.019386</td>\n",
              "      <td>8.953425</td>\n",
              "    </tr>\n",
              "    <tr>\n",
              "      <th>15</th>\n",
              "      <td>43339.684792</td>\n",
              "      <td>77.880121</td>\n",
              "      <td>29.258690</td>\n",
              "      <td>37.412307</td>\n",
              "      <td>9.287671</td>\n",
              "    </tr>\n",
              "    <tr>\n",
              "      <th>16</th>\n",
              "      <td>43896.624817</td>\n",
              "      <td>78.420362</td>\n",
              "      <td>28.603299</td>\n",
              "      <td>37.061556</td>\n",
              "      <td>9.601096</td>\n",
              "    </tr>\n",
              "    <tr>\n",
              "      <th>17</th>\n",
              "      <td>44277.126738</td>\n",
              "      <td>78.079792</td>\n",
              "      <td>29.136575</td>\n",
              "      <td>37.005249</td>\n",
              "      <td>9.983562</td>\n",
              "    </tr>\n",
              "    <tr>\n",
              "      <th>18</th>\n",
              "      <td>44474.287863</td>\n",
              "      <td>76.250685</td>\n",
              "      <td>31.562510</td>\n",
              "      <td>37.585677</td>\n",
              "      <td>10.145753</td>\n",
              "    </tr>\n",
              "    <tr>\n",
              "      <th>19</th>\n",
              "      <td>44318.693457</td>\n",
              "      <td>73.616647</td>\n",
              "      <td>34.908652</td>\n",
              "      <td>38.328866</td>\n",
              "      <td>10.007123</td>\n",
              "    </tr>\n",
              "    <tr>\n",
              "      <th>20</th>\n",
              "      <td>43527.684228</td>\n",
              "      <td>70.821775</td>\n",
              "      <td>38.620537</td>\n",
              "      <td>39.291868</td>\n",
              "      <td>9.898630</td>\n",
              "    </tr>\n",
              "    <tr>\n",
              "      <th>21</th>\n",
              "      <td>42852.056082</td>\n",
              "      <td>67.937929</td>\n",
              "      <td>42.744268</td>\n",
              "      <td>40.357293</td>\n",
              "      <td>9.766027</td>\n",
              "    </tr>\n",
              "    <tr>\n",
              "      <th>22</th>\n",
              "      <td>41391.083529</td>\n",
              "      <td>65.916351</td>\n",
              "      <td>46.100564</td>\n",
              "      <td>41.210795</td>\n",
              "      <td>9.873425</td>\n",
              "    </tr>\n",
              "    <tr>\n",
              "      <th>23</th>\n",
              "      <td>38663.707974</td>\n",
              "      <td>64.339715</td>\n",
              "      <td>48.987425</td>\n",
              "      <td>41.793107</td>\n",
              "      <td>10.085479</td>\n",
              "    </tr>\n",
              "  </tbody>\n",
              "</table>\n",
              "</div>"
            ],
            "text/plain": [
              "               MWh       tmpf       relh       dwpf       sknt\n",
              "hour                                                          \n",
              "0     35651.668784  63.042892  51.425515  42.212968  10.159912\n",
              "1     33298.742285  61.871551  53.493205  42.434707   9.988493\n",
              "2     31779.484842  60.908395  55.328690  42.588964   9.563836\n",
              "3     30836.841342  59.927649  56.791041  42.519868   9.375890\n",
              "4     30387.144039  58.991529  58.177600  42.372899   8.947945\n",
              "5     30590.008852  58.127003  59.464619  42.154959   8.752877\n",
              "6     31981.902880  57.358411  60.640192  41.986115   8.583014\n",
              "7     34399.334349  56.557775  61.919479  41.831660   8.360548\n",
              "8     35462.590651  56.795485  61.785764  41.972625   8.303562\n",
              "9     36330.787622  60.584975  56.014482  42.440636   8.569315\n",
              "10    37760.009764  65.347649  48.517068  42.270400   8.898082\n",
              "11    39253.873909  69.350433  41.993293  41.207266   8.821370\n",
              "12    40519.228785  72.440942  37.150701  40.009732   8.692603\n",
              "13    41578.319862  74.911123  33.426981  38.869896   8.745205\n",
              "14    42597.401720  76.684340  30.852082  38.019386   8.953425\n",
              "15    43339.684792  77.880121  29.258690  37.412307   9.287671\n",
              "16    43896.624817  78.420362  28.603299  37.061556   9.601096\n",
              "17    44277.126738  78.079792  29.136575  37.005249   9.983562\n",
              "18    44474.287863  76.250685  31.562510  37.585677  10.145753\n",
              "19    44318.693457  73.616647  34.908652  38.328866  10.007123\n",
              "20    43527.684228  70.821775  38.620537  39.291868   9.898630\n",
              "21    42852.056082  67.937929  42.744268  40.357293   9.766027\n",
              "22    41391.083529  65.916351  46.100564  41.210795   9.873425\n",
              "23    38663.707974  64.339715  48.987425  41.793107  10.085479"
            ]
          },
          "metadata": {
            "tags": []
          },
          "execution_count": 188
        }
      ]
    },
    {
      "cell_type": "markdown",
      "metadata": {
        "id": "MYR81hSraElh"
      },
      "source": [
        "## Data average according to Months of Year"
      ]
    },
    {
      "cell_type": "code",
      "metadata": {
        "id": "-iTotIXxaKTy"
      },
      "source": [
        "MWh_month = merged_data.pivot_table(index=['month'], values=['MWh'], aggfunc='mean')\n",
        "tmpf_month = merged_data.pivot_table(index=['month'], values=['tmpf'], aggfunc='mean')\n",
        "relh_month = merged_data.pivot_table(index=['month'], values=['relh'], aggfunc='mean')\n",
        "dwpf_month = merged_data.pivot_table(index=['month'], values=['dwpf'], aggfunc='mean')\n",
        "sknt_month = merged_data.pivot_table(index=['month'], values=['sknt'], aggfunc='mean')"
      ],
      "execution_count": null,
      "outputs": []
    },
    {
      "cell_type": "code",
      "metadata": {
        "colab": {
          "base_uri": "https://localhost:8080/",
          "height": 421
        },
        "id": "WvQZNL3FagiV",
        "outputId": "ad363f96-f439-49ce-b8e4-ce715c167b8a"
      },
      "source": [
        "month_data=pd.concat([MWh_month,tmpf_month,relh_month,dwpf_month,sknt_month],axis=1)\n",
        "month_data"
      ],
      "execution_count": null,
      "outputs": [
        {
          "output_type": "execute_result",
          "data": {
            "text/html": [
              "<div>\n",
              "<style scoped>\n",
              "    .dataframe tbody tr th:only-of-type {\n",
              "        vertical-align: middle;\n",
              "    }\n",
              "\n",
              "    .dataframe tbody tr th {\n",
              "        vertical-align: top;\n",
              "    }\n",
              "\n",
              "    .dataframe thead th {\n",
              "        text-align: right;\n",
              "    }\n",
              "</style>\n",
              "<table border=\"1\" class=\"dataframe\">\n",
              "  <thead>\n",
              "    <tr style=\"text-align: right;\">\n",
              "      <th></th>\n",
              "      <th>MWh</th>\n",
              "      <th>tmpf</th>\n",
              "      <th>relh</th>\n",
              "      <th>dwpf</th>\n",
              "      <th>sknt</th>\n",
              "    </tr>\n",
              "    <tr>\n",
              "      <th>month</th>\n",
              "      <th></th>\n",
              "      <th></th>\n",
              "      <th></th>\n",
              "      <th></th>\n",
              "      <th></th>\n",
              "    </tr>\n",
              "  </thead>\n",
              "  <tbody>\n",
              "    <tr>\n",
              "      <th>0</th>\n",
              "      <td>35593.185824</td>\n",
              "      <td>47.022161</td>\n",
              "      <td>47.868382</td>\n",
              "      <td>24.398726</td>\n",
              "      <td>8.343280</td>\n",
              "    </tr>\n",
              "    <tr>\n",
              "      <th>1</th>\n",
              "      <td>34575.789578</td>\n",
              "      <td>50.973404</td>\n",
              "      <td>45.190393</td>\n",
              "      <td>24.645266</td>\n",
              "      <td>9.362293</td>\n",
              "    </tr>\n",
              "    <tr>\n",
              "      <th>2</th>\n",
              "      <td>32029.173024</td>\n",
              "      <td>60.663510</td>\n",
              "      <td>39.965128</td>\n",
              "      <td>29.430579</td>\n",
              "      <td>9.580888</td>\n",
              "    </tr>\n",
              "    <tr>\n",
              "      <th>3</th>\n",
              "      <td>33557.197647</td>\n",
              "      <td>69.662100</td>\n",
              "      <td>32.919661</td>\n",
              "      <td>31.954000</td>\n",
              "      <td>10.272222</td>\n",
              "    </tr>\n",
              "    <tr>\n",
              "      <th>4</th>\n",
              "      <td>37364.127204</td>\n",
              "      <td>74.733210</td>\n",
              "      <td>40.214962</td>\n",
              "      <td>41.529839</td>\n",
              "      <td>10.321505</td>\n",
              "    </tr>\n",
              "    <tr>\n",
              "      <th>5</th>\n",
              "      <td>44961.158268</td>\n",
              "      <td>83.245450</td>\n",
              "      <td>44.418039</td>\n",
              "      <td>55.133200</td>\n",
              "      <td>11.583333</td>\n",
              "    </tr>\n",
              "    <tr>\n",
              "      <th>6</th>\n",
              "      <td>47071.682187</td>\n",
              "      <td>82.599392</td>\n",
              "      <td>47.338094</td>\n",
              "      <td>58.222516</td>\n",
              "      <td>9.568280</td>\n",
              "    </tr>\n",
              "    <tr>\n",
              "      <th>7</th>\n",
              "      <td>48866.274524</td>\n",
              "      <td>84.065559</td>\n",
              "      <td>42.709917</td>\n",
              "      <td>56.435651</td>\n",
              "      <td>8.474194</td>\n",
              "    </tr>\n",
              "    <tr>\n",
              "      <th>8</th>\n",
              "      <td>42694.063064</td>\n",
              "      <td>76.508350</td>\n",
              "      <td>52.117711</td>\n",
              "      <td>54.000750</td>\n",
              "      <td>8.414444</td>\n",
              "    </tr>\n",
              "    <tr>\n",
              "      <th>9</th>\n",
              "      <td>35088.432460</td>\n",
              "      <td>68.105726</td>\n",
              "      <td>50.916183</td>\n",
              "      <td>45.848871</td>\n",
              "      <td>8.564516</td>\n",
              "    </tr>\n",
              "    <tr>\n",
              "      <th>10</th>\n",
              "      <td>32558.322167</td>\n",
              "      <td>56.060732</td>\n",
              "      <td>50.769745</td>\n",
              "      <td>34.478857</td>\n",
              "      <td>8.874896</td>\n",
              "    </tr>\n",
              "    <tr>\n",
              "      <th>11</th>\n",
              "      <td>34884.527392</td>\n",
              "      <td>48.466178</td>\n",
              "      <td>53.931252</td>\n",
              "      <td>29.312415</td>\n",
              "      <td>8.384907</td>\n",
              "    </tr>\n",
              "  </tbody>\n",
              "</table>\n",
              "</div>"
            ],
            "text/plain": [
              "                MWh       tmpf       relh       dwpf       sknt\n",
              "month                                                          \n",
              "0      35593.185824  47.022161  47.868382  24.398726   8.343280\n",
              "1      34575.789578  50.973404  45.190393  24.645266   9.362293\n",
              "2      32029.173024  60.663510  39.965128  29.430579   9.580888\n",
              "3      33557.197647  69.662100  32.919661  31.954000  10.272222\n",
              "4      37364.127204  74.733210  40.214962  41.529839  10.321505\n",
              "5      44961.158268  83.245450  44.418039  55.133200  11.583333\n",
              "6      47071.682187  82.599392  47.338094  58.222516   9.568280\n",
              "7      48866.274524  84.065559  42.709917  56.435651   8.474194\n",
              "8      42694.063064  76.508350  52.117711  54.000750   8.414444\n",
              "9      35088.432460  68.105726  50.916183  45.848871   8.564516\n",
              "10     32558.322167  56.060732  50.769745  34.478857   8.874896\n",
              "11     34884.527392  48.466178  53.931252  29.312415   8.384907"
            ]
          },
          "metadata": {
            "tags": []
          },
          "execution_count": 185
        }
      ]
    },
    {
      "cell_type": "markdown",
      "metadata": {
        "id": "51-_mrLYbsvX"
      },
      "source": [
        "## Energy Consuption hourly and Monthly"
      ]
    },
    {
      "cell_type": "code",
      "metadata": {
        "colab": {
          "base_uri": "https://localhost:8080/",
          "height": 368
        },
        "id": "3ix-SWTsbrb7",
        "outputId": "1c8ba2b1-c9d2-4ebf-a3f9-3bbae37067af"
      },
      "source": [
        "plt.figure(figsize=(15,5))\n",
        "plt.subplot(121)\n",
        "plt.plot(month_data['MWh'],color=\"red\")\n",
        "plt.title('MWh(Monthly)')\n",
        "\n",
        "plt.subplot(122)\n",
        "plt.plot(hour_data['MWh'],color=\"blue\")\n",
        "plt.title('MWh(hourly)')\n",
        "plt.tight_layout()\n",
        "plt.show()"
      ],
      "execution_count": null,
      "outputs": [
        {
          "output_type": "display_data",
          "data": {
            "image/png": "[encoded data removed]",
            "text/plain": [
              "<Figure size 1080x360 with 2 Axes>"
            ]
          },
          "metadata": {
            "tags": [],
            "needs_background": "light"
          }
        }
      ]
    },
    {
      "cell_type": "markdown",
      "metadata": {
        "id": "-BI1gWxhX_OX"
      },
      "source": [
        "# Modeling"
      ]
    },
    {
      "cell_type": "code",
      "metadata": {
        "id": "wbHTQs1gGk-3"
      },
      "source": [
        "# split data into X and y\n",
        "Y = merged_data['MWh']\n",
        "X = merged_data.drop(['MWh'], axis=1)"
      ],
      "execution_count": null,
      "outputs": []
    },
    {
      "cell_type": "code",
      "metadata": {
        "colab": {
          "base_uri": "https://localhost:8080/",
          "height": 602
        },
        "id": "nOsVUgmhHEoF",
        "outputId": "a9a4a117-2d7e-46c3-cf2d-8a30e88040db"
      },
      "source": [
        "X"
      ],
      "execution_count": null,
      "outputs": [
        {
          "output_type": "execute_result",
          "data": {
            "text/html": [
              "<div>\n",
              "<style scoped>\n",
              "    .dataframe tbody tr th:only-of-type {\n",
              "        vertical-align: middle;\n",
              "    }\n",
              "\n",
              "    .dataframe tbody tr th {\n",
              "        vertical-align: top;\n",
              "    }\n",
              "\n",
              "    .dataframe thead th {\n",
              "        text-align: right;\n",
              "    }\n",
              "</style>\n",
              "<table border=\"1\" class=\"dataframe\">\n",
              "  <thead>\n",
              "    <tr style=\"text-align: right;\">\n",
              "      <th></th>\n",
              "      <th>tmpf</th>\n",
              "      <th>dwpf</th>\n",
              "      <th>relh</th>\n",
              "      <th>sknt</th>\n",
              "      <th>weekend_indi</th>\n",
              "      <th>tmpf_MA_12</th>\n",
              "      <th>tmpf_MA_24</th>\n",
              "      <th>tmpf_MA_48</th>\n",
              "      <th>dwpf_MA_12</th>\n",
              "      <th>dwpf_MA_24</th>\n",
              "      <th>dwpf_MA_48</th>\n",
              "      <th>relh_MA_12</th>\n",
              "      <th>relh_MA_24</th>\n",
              "      <th>relh_MA_48</th>\n",
              "      <th>month</th>\n",
              "      <th>hour</th>\n",
              "    </tr>\n",
              "    <tr>\n",
              "      <th>valid_date</th>\n",
              "      <th></th>\n",
              "      <th></th>\n",
              "      <th></th>\n",
              "      <th></th>\n",
              "      <th></th>\n",
              "      <th></th>\n",
              "      <th></th>\n",
              "      <th></th>\n",
              "      <th></th>\n",
              "      <th></th>\n",
              "      <th></th>\n",
              "      <th></th>\n",
              "      <th></th>\n",
              "      <th></th>\n",
              "      <th></th>\n",
              "      <th></th>\n",
              "    </tr>\n",
              "  </thead>\n",
              "  <tbody>\n",
              "    <tr>\n",
              "      <th>2011-01-01 00:00:00</th>\n",
              "      <td>32.00</td>\n",
              "      <td>17.96</td>\n",
              "      <td>55.72</td>\n",
              "      <td>8.0</td>\n",
              "      <td>1</td>\n",
              "      <td>33.290</td>\n",
              "      <td>37.6775</td>\n",
              "      <td>37.82375</td>\n",
              "      <td>15.080</td>\n",
              "      <td>15.5000</td>\n",
              "      <td>15.36875</td>\n",
              "      <td>48.972500</td>\n",
              "      <td>42.097917</td>\n",
              "      <td>41.547083</td>\n",
              "      <td>0</td>\n",
              "      <td>0</td>\n",
              "    </tr>\n",
              "    <tr>\n",
              "      <th>2011-01-01 01:00:00</th>\n",
              "      <td>33.08</td>\n",
              "      <td>19.04</td>\n",
              "      <td>55.89</td>\n",
              "      <td>7.0</td>\n",
              "      <td>1</td>\n",
              "      <td>33.290</td>\n",
              "      <td>37.6775</td>\n",
              "      <td>37.82375</td>\n",
              "      <td>15.080</td>\n",
              "      <td>15.5000</td>\n",
              "      <td>15.36875</td>\n",
              "      <td>48.972500</td>\n",
              "      <td>42.097917</td>\n",
              "      <td>41.547083</td>\n",
              "      <td>0</td>\n",
              "      <td>1</td>\n",
              "    </tr>\n",
              "    <tr>\n",
              "      <th>2011-01-01 02:00:00</th>\n",
              "      <td>33.08</td>\n",
              "      <td>17.96</td>\n",
              "      <td>53.36</td>\n",
              "      <td>9.0</td>\n",
              "      <td>1</td>\n",
              "      <td>33.290</td>\n",
              "      <td>37.6775</td>\n",
              "      <td>37.82375</td>\n",
              "      <td>15.080</td>\n",
              "      <td>15.5000</td>\n",
              "      <td>15.36875</td>\n",
              "      <td>48.972500</td>\n",
              "      <td>42.097917</td>\n",
              "      <td>41.547083</td>\n",
              "      <td>0</td>\n",
              "      <td>2</td>\n",
              "    </tr>\n",
              "    <tr>\n",
              "      <th>2011-01-01 03:00:00</th>\n",
              "      <td>32.00</td>\n",
              "      <td>19.04</td>\n",
              "      <td>58.37</td>\n",
              "      <td>7.0</td>\n",
              "      <td>1</td>\n",
              "      <td>33.290</td>\n",
              "      <td>37.6775</td>\n",
              "      <td>37.82375</td>\n",
              "      <td>15.080</td>\n",
              "      <td>15.5000</td>\n",
              "      <td>15.36875</td>\n",
              "      <td>48.972500</td>\n",
              "      <td>42.097917</td>\n",
              "      <td>41.547083</td>\n",
              "      <td>0</td>\n",
              "      <td>3</td>\n",
              "    </tr>\n",
              "    <tr>\n",
              "      <th>2011-01-01 04:00:00</th>\n",
              "      <td>30.02</td>\n",
              "      <td>19.04</td>\n",
              "      <td>63.24</td>\n",
              "      <td>7.0</td>\n",
              "      <td>1</td>\n",
              "      <td>33.290</td>\n",
              "      <td>37.6775</td>\n",
              "      <td>37.82375</td>\n",
              "      <td>15.080</td>\n",
              "      <td>15.5000</td>\n",
              "      <td>15.36875</td>\n",
              "      <td>48.972500</td>\n",
              "      <td>42.097917</td>\n",
              "      <td>41.547083</td>\n",
              "      <td>0</td>\n",
              "      <td>4</td>\n",
              "    </tr>\n",
              "    <tr>\n",
              "      <th>...</th>\n",
              "      <td>...</td>\n",
              "      <td>...</td>\n",
              "      <td>...</td>\n",
              "      <td>...</td>\n",
              "      <td>...</td>\n",
              "      <td>...</td>\n",
              "      <td>...</td>\n",
              "      <td>...</td>\n",
              "      <td>...</td>\n",
              "      <td>...</td>\n",
              "      <td>...</td>\n",
              "      <td>...</td>\n",
              "      <td>...</td>\n",
              "      <td>...</td>\n",
              "      <td>...</td>\n",
              "      <td>...</td>\n",
              "    </tr>\n",
              "    <tr>\n",
              "      <th>2015-12-30 20:00:00</th>\n",
              "      <td>44.96</td>\n",
              "      <td>33.98</td>\n",
              "      <td>65.18</td>\n",
              "      <td>4.0</td>\n",
              "      <td>0</td>\n",
              "      <td>50.675</td>\n",
              "      <td>43.3025</td>\n",
              "      <td>40.63625</td>\n",
              "      <td>32.915</td>\n",
              "      <td>32.0825</td>\n",
              "      <td>31.70375</td>\n",
              "      <td>51.993333</td>\n",
              "      <td>67.491667</td>\n",
              "      <td>72.653958</td>\n",
              "      <td>11</td>\n",
              "      <td>20</td>\n",
              "    </tr>\n",
              "    <tr>\n",
              "      <th>2015-12-30 21:00:00</th>\n",
              "      <td>42.98</td>\n",
              "      <td>33.08</td>\n",
              "      <td>67.81</td>\n",
              "      <td>6.0</td>\n",
              "      <td>0</td>\n",
              "      <td>51.005</td>\n",
              "      <td>43.5950</td>\n",
              "      <td>40.82375</td>\n",
              "      <td>33.170</td>\n",
              "      <td>32.0825</td>\n",
              "      <td>31.76750</td>\n",
              "      <td>51.822500</td>\n",
              "      <td>66.602083</td>\n",
              "      <td>72.290833</td>\n",
              "      <td>11</td>\n",
              "      <td>21</td>\n",
              "    </tr>\n",
              "    <tr>\n",
              "      <th>2015-12-30 22:00:00</th>\n",
              "      <td>41.00</td>\n",
              "      <td>33.98</td>\n",
              "      <td>75.88</td>\n",
              "      <td>7.0</td>\n",
              "      <td>0</td>\n",
              "      <td>50.585</td>\n",
              "      <td>43.7600</td>\n",
              "      <td>40.98875</td>\n",
              "      <td>33.335</td>\n",
              "      <td>32.1200</td>\n",
              "      <td>31.85000</td>\n",
              "      <td>53.330833</td>\n",
              "      <td>66.204167</td>\n",
              "      <td>72.030625</td>\n",
              "      <td>11</td>\n",
              "      <td>22</td>\n",
              "    </tr>\n",
              "    <tr>\n",
              "      <th>2015-12-30 23:00:00</th>\n",
              "      <td>41.00</td>\n",
              "      <td>33.98</td>\n",
              "      <td>75.88</td>\n",
              "      <td>8.0</td>\n",
              "      <td>0</td>\n",
              "      <td>49.745</td>\n",
              "      <td>43.9250</td>\n",
              "      <td>41.15375</td>\n",
              "      <td>33.500</td>\n",
              "      <td>32.1575</td>\n",
              "      <td>31.95500</td>\n",
              "      <td>55.666667</td>\n",
              "      <td>65.806250</td>\n",
              "      <td>71.849792</td>\n",
              "      <td>11</td>\n",
              "      <td>23</td>\n",
              "    </tr>\n",
              "    <tr>\n",
              "      <th>2015-12-31 00:00:00</th>\n",
              "      <td>39.92</td>\n",
              "      <td>33.98</td>\n",
              "      <td>79.12</td>\n",
              "      <td>5.0</td>\n",
              "      <td>0</td>\n",
              "      <td>48.485</td>\n",
              "      <td>44.0075</td>\n",
              "      <td>41.29625</td>\n",
              "      <td>33.830</td>\n",
              "      <td>32.1950</td>\n",
              "      <td>32.06000</td>\n",
              "      <td>59.077500</td>\n",
              "      <td>65.667083</td>\n",
              "      <td>71.736458</td>\n",
              "      <td>11</td>\n",
              "      <td>0</td>\n",
              "    </tr>\n",
              "  </tbody>\n",
              "</table>\n",
              "<p>43801 rows × 16 columns</p>\n",
              "</div>"
            ],
            "text/plain": [
              "                      tmpf   dwpf   relh  ...  relh_MA_48  month  hour\n",
              "valid_date                                ...                         \n",
              "2011-01-01 00:00:00  32.00  17.96  55.72  ...   41.547083      0     0\n",
              "2011-01-01 01:00:00  33.08  19.04  55.89  ...   41.547083      0     1\n",
              "2011-01-01 02:00:00  33.08  17.96  53.36  ...   41.547083      0     2\n",
              "2011-01-01 03:00:00  32.00  19.04  58.37  ...   41.547083      0     3\n",
              "2011-01-01 04:00:00  30.02  19.04  63.24  ...   41.547083      0     4\n",
              "...                    ...    ...    ...  ...         ...    ...   ...\n",
              "2015-12-30 20:00:00  44.96  33.98  65.18  ...   72.653958     11    20\n",
              "2015-12-30 21:00:00  42.98  33.08  67.81  ...   72.290833     11    21\n",
              "2015-12-30 22:00:00  41.00  33.98  75.88  ...   72.030625     11    22\n",
              "2015-12-30 23:00:00  41.00  33.98  75.88  ...   71.849792     11    23\n",
              "2015-12-31 00:00:00  39.92  33.98  79.12  ...   71.736458     11     0\n",
              "\n",
              "[43801 rows x 16 columns]"
            ]
          },
          "metadata": {
            "tags": []
          },
          "execution_count": 191
        }
      ]
    },
    {
      "cell_type": "code",
      "metadata": {
        "colab": {
          "base_uri": "https://localhost:8080/"
        },
        "id": "V0m5kU3cRW6W",
        "outputId": "ae4b2583-ed1d-4ea2-ad83-628eefbdf00a"
      },
      "source": [
        "Y"
      ],
      "execution_count": null,
      "outputs": [
        {
          "output_type": "execute_result",
          "data": {
            "text/plain": [
              "valid_date\n",
              "2011-01-01 00:00:00    28496.388850\n",
              "2011-01-01 01:00:00    27662.443480\n",
              "2011-01-01 02:00:00    27250.044715\n",
              "2011-01-01 03:00:00    26783.226081\n",
              "2011-01-01 04:00:00    26676.468490\n",
              "                           ...     \n",
              "2015-12-30 20:00:00    39674.167296\n",
              "2015-12-30 21:00:00    39485.829257\n",
              "2015-12-30 22:00:00    38711.458864\n",
              "2015-12-30 23:00:00    37254.930151\n",
              "2015-12-31 00:00:00    35517.364870\n",
              "Name: MWh, Length: 43801, dtype: float64"
            ]
          },
          "metadata": {
            "tags": []
          },
          "execution_count": 192
        }
      ]
    },
    {
      "cell_type": "code",
      "metadata": {
        "id": "Ql9rVnMoHKz8"
      },
      "source": [
        "X_train = X['2011-01-01':'2014-12-31']\n",
        "X_test = X['2015-01-01':'2015-12-31'] \n",
        "y_train = Y['2011-01-01':'2014-12-31']\n",
        "y_test = Y['2015-01-01':'2015-12-31']"
      ],
      "execution_count": null,
      "outputs": []
    },
    {
      "cell_type": "code",
      "metadata": {
        "id": "R8j_Z1NNHxM3"
      },
      "source": [
        "from numpy import array\n",
        "\n",
        "# split a multivariate sequence into samples\n",
        "def split_sequences(sequences, n_steps):\n",
        "\tX, Y = list(), list()\n",
        "\tfor i in np.arange(len(sequences)): # be careful of this line!\n",
        "\t\t# find the end of this pattern\n",
        "\t\tend_ix = i + n_steps\n",
        "\t\t# check if we are beyond the dataset\n",
        "\t\tif end_ix > len(sequences):\n",
        "\t\t\tbreak\n",
        "\t\t# gather input and output parts of the pattern\n",
        "\t\tseq_x, seq_y = sequences[i:end_ix, :-1], sequences[end_ix-1, -1]\n",
        "\t\tX.append(seq_x)\n",
        "\t\tY.append(seq_y)\n",
        "\treturn np.array(X), np.array(Y)"
      ],
      "execution_count": null,
      "outputs": []
    },
    {
      "cell_type": "code",
      "metadata": {
        "id": "aMtUjvahH99S"
      },
      "source": [
        "# all we need to do is decide on is n_steps (what our lookback period is)\n",
        "# since we have a bunch of data, why not n_steps=10? then try 30 later on.\n",
        "n_steps = 50\n",
        "raw_seq = np.array(merged_data) #make sure your data is stored as a numpy array!\n",
        "# let's ignore the date column and just use the temperature data\n",
        "X, Y = split_sequences(raw_seq, n_steps=10)"
      ],
      "execution_count": null,
      "outputs": []
    },
    {
      "cell_type": "code",
      "metadata": {
        "colab": {
          "base_uri": "https://localhost:8080/"
        },
        "id": "TNR4AzAOIcXX",
        "outputId": "d1e11365-e209-472b-9926-3b6c8ff404f8"
      },
      "source": [
        "print(X.shape)\n",
        "print(Y.shape)"
      ],
      "execution_count": null,
      "outputs": [
        {
          "output_type": "stream",
          "text": [
            "(43792, 10, 16)\n",
            "(43792,)\n"
          ],
          "name": "stdout"
        }
      ]
    },
    {
      "cell_type": "code",
      "metadata": {
        "colab": {
          "base_uri": "https://localhost:8080/"
        },
        "id": "FZ2X1_V9RyPi",
        "outputId": "608e876f-e7eb-4c73-b2e4-dcfe28662ad3"
      },
      "source": [
        "35064/43801 #split between train and test data"
      ],
      "execution_count": null,
      "outputs": [
        {
          "output_type": "execute_result",
          "data": {
            "text/plain": [
              "0.8005296682724139"
            ]
          },
          "metadata": {
            "tags": []
          },
          "execution_count": 197
        }
      ]
    },
    {
      "cell_type": "code",
      "metadata": {
        "id": "dfcss7jjInJX"
      },
      "source": [
        "train_pct_index = int(0.80055 * len(X))\n",
        "X_train, X_test = X[:train_pct_index], X[train_pct_index:]\n",
        "y_train, y_test = Y[:train_pct_index], Y[train_pct_index:]"
      ],
      "execution_count": null,
      "outputs": []
    },
    {
      "cell_type": "code",
      "metadata": {
        "colab": {
          "base_uri": "https://localhost:8080/"
        },
        "id": "jj5jVZOAIryK",
        "outputId": "cdd7a159-2ca3-48f0-b1f0-bb586b5ac373"
      },
      "source": [
        "print(X.shape, X_train.shape, X_test.shape)\n",
        "print(Y.shape, y_train.shape, y_test.shape)"
      ],
      "execution_count": null,
      "outputs": [
        {
          "output_type": "stream",
          "text": [
            "(43792, 10, 16) (35057, 10, 16) (8735, 10, 16)\n",
            "(43792,) (35057,) (8735,)\n"
          ],
          "name": "stdout"
        }
      ]
    },
    {
      "cell_type": "code",
      "metadata": {
        "colab": {
          "base_uri": "https://localhost:8080/"
        },
        "id": "Z4SKvRoxI000",
        "outputId": "d97fe026-e612-497d-9bd8-29c2a96764de"
      },
      "source": [
        "n_features = X.shape[2]\n",
        "n_steps = X.shape[1]\n",
        "\n",
        "print(n_steps, n_features)"
      ],
      "execution_count": null,
      "outputs": [
        {
          "output_type": "stream",
          "text": [
            "10 16\n"
          ],
          "name": "stdout"
        }
      ]
    },
    {
      "cell_type": "code",
      "metadata": {
        "colab": {
          "base_uri": "https://localhost:8080/"
        },
        "id": "pHMTaToWUEke",
        "outputId": "211efcc9-cf23-47e2-a491-d5f837b05675"
      },
      "source": [
        "from keras.layers import Bidirectional\n",
        "n_features = X.shape[2] # 31 green dot = 31 feature\n",
        "n_steps = X.shape[1] # these are time steps = there are 10!\n",
        "\n",
        "model = Sequential()\n",
        "model.add((LSTM(30, return_sequences=True, activation='relu', input_shape=(n_steps, n_features))))\n",
        "model.add((Bidirectional(LSTM(30, return_sequences=True,activation='relu'))))\n",
        "model.add((Dense(50,activation='relu')))\n",
        "model.add(Dense(1))\n",
        "model.compile(optimizer='adam', loss='mse',metrics=['mae'])\n",
        "model.summary()\n",
        "\n",
        "es = EarlyStopping(monitor='val_mae', mode='min', \n",
        "                   patience=20, \n",
        "                   verbose=1,\n",
        "                   restore_best_weights=True)\n",
        "\n",
        "# fit model (uses early stopping)\n",
        "history = model.fit(X_train, y_train, \n",
        "          epochs=500, \n",
        "          batch_size=5, \n",
        "          validation_split=0.2, # val is a random 20% of the data since we set shuffle = True\n",
        "          verbose=1,\n",
        "          callbacks=[es],\n",
        "          shuffle=True)"
      ],
      "execution_count": null,
      "outputs": [
        {
          "output_type": "stream",
          "text": [
            "Model: \"sequential_4\"\n",
            "_________________________________________________________________\n",
            "Layer (type)                 Output Shape              Param #   \n",
            "=================================================================\n",
            "lstm_5 (LSTM)                (None, 10, 30)            5640      \n",
            "_________________________________________________________________\n",
            "bidirectional_1 (Bidirection (None, 10, 60)            14640     \n",
            "_________________________________________________________________\n",
            "dense_5 (Dense)              (None, 10, 50)            3050      \n",
            "_________________________________________________________________\n",
            "dense_6 (Dense)              (None, 10, 1)             51        \n",
            "=================================================================\n",
            "Total params: 23,381\n",
            "Trainable params: 23,381\n",
            "Non-trainable params: 0\n",
            "_________________________________________________________________\n",
            "Epoch 1/500\n",
            "5609/5609 [==============================] - 48s 8ms/step - loss: 202187923.5465 - mae: 9896.1572 - val_loss: 26472236.0000 - val_mae: 4020.5479\n",
            "Epoch 2/500\n",
            "5609/5609 [==============================] - 45s 8ms/step - loss: 31951388.6032 - mae: 4339.8343 - val_loss: 14908017.0000 - val_mae: 3003.4529\n",
            "Epoch 3/500\n",
            "5609/5609 [==============================] - 45s 8ms/step - loss: 18487939.0752 - mae: 3300.1738 - val_loss: 15150025.0000 - val_mae: 3035.7659\n",
            "Epoch 4/500\n",
            "5609/5609 [==============================] - 45s 8ms/step - loss: 14879609.5590 - mae: 2962.4757 - val_loss: 16785472.0000 - val_mae: 3251.4546\n",
            "Epoch 5/500\n",
            "5609/5609 [==============================] - 43s 8ms/step - loss: 12735611.1250 - mae: 2735.9795 - val_loss: 10911209.0000 - val_mae: 2554.5728\n",
            "Epoch 6/500\n",
            "5609/5609 [==============================] - 44s 8ms/step - loss: 11950602.6896 - mae: 2651.9491 - val_loss: 12171521.0000 - val_mae: 2723.3672\n",
            "Epoch 7/500\n",
            "5609/5609 [==============================] - 44s 8ms/step - loss: 11986082.9461 - mae: 2648.1303 - val_loss: 11208665.0000 - val_mae: 2597.7266\n",
            "Epoch 8/500\n",
            "5609/5609 [==============================] - 44s 8ms/step - loss: 10943880.3666 - mae: 2540.4912 - val_loss: 9676751.0000 - val_mae: 2383.8049\n",
            "Epoch 9/500\n",
            "5609/5609 [==============================] - 44s 8ms/step - loss: 10265397.7772 - mae: 2454.5627 - val_loss: 9994711.0000 - val_mae: 2414.1226\n",
            "Epoch 10/500\n",
            "5609/5609 [==============================] - 44s 8ms/step - loss: 9921472.5608 - mae: 2412.1220 - val_loss: 10905926.0000 - val_mae: 2485.5071\n",
            "Epoch 11/500\n",
            "5609/5609 [==============================] - 44s 8ms/step - loss: 10034765.9599 - mae: 2429.5879 - val_loss: 10904755.0000 - val_mae: 2624.6736\n",
            "Epoch 12/500\n",
            "5609/5609 [==============================] - 44s 8ms/step - loss: 9482335.9307 - mae: 2354.9477 - val_loss: 10074255.0000 - val_mae: 2463.5642\n",
            "Epoch 13/500\n",
            "5609/5609 [==============================] - 44s 8ms/step - loss: 9627256.6012 - mae: 2370.4349 - val_loss: 11324587.0000 - val_mae: 2685.0034\n",
            "Epoch 14/500\n",
            "5609/5609 [==============================] - 45s 8ms/step - loss: 9158389.5159 - mae: 2315.1469 - val_loss: 8922652.0000 - val_mae: 2286.6587\n",
            "Epoch 15/500\n",
            "5609/5609 [==============================] - 44s 8ms/step - loss: 9166202.7980 - mae: 2303.9792 - val_loss: 10205533.0000 - val_mae: 2427.1709\n",
            "Epoch 16/500\n",
            "5609/5609 [==============================] - 44s 8ms/step - loss: 8884803.8031 - mae: 2271.4262 - val_loss: 14498360.0000 - val_mae: 2973.3086\n",
            "Epoch 17/500\n",
            "5609/5609 [==============================] - 44s 8ms/step - loss: 13411117.6547 - mae: 2824.0368 - val_loss: 9010767.0000 - val_mae: 2319.3320\n",
            "Epoch 18/500\n",
            "5609/5609 [==============================] - 44s 8ms/step - loss: 9284362.4555 - mae: 2332.7037 - val_loss: 8837991.0000 - val_mae: 2313.0056\n",
            "Epoch 19/500\n",
            "5609/5609 [==============================] - 44s 8ms/step - loss: 8874534.8138 - mae: 2281.6398 - val_loss: 8536534.0000 - val_mae: 2264.8027\n",
            "Epoch 20/500\n",
            "5609/5609 [==============================] - 44s 8ms/step - loss: 8595100.0155 - mae: 2239.7265 - val_loss: 12456100.0000 - val_mae: 2681.6665\n",
            "Epoch 21/500\n",
            "5609/5609 [==============================] - 44s 8ms/step - loss: 8598571.5283 - mae: 2244.9059 - val_loss: 9417017.0000 - val_mae: 2366.8152\n",
            "Epoch 22/500\n",
            "5609/5609 [==============================] - 44s 8ms/step - loss: 8418060.1193 - mae: 2208.8087 - val_loss: 8897186.0000 - val_mae: 2268.4434\n",
            "Epoch 23/500\n",
            "5609/5609 [==============================] - 44s 8ms/step - loss: 8112983.1167 - mae: 2162.9177 - val_loss: 9257179.0000 - val_mae: 2338.9089\n",
            "Epoch 24/500\n",
            "5609/5609 [==============================] - 44s 8ms/step - loss: 8531697.3672 - mae: 2226.9435 - val_loss: 7633794.0000 - val_mae: 2111.7341\n",
            "Epoch 25/500\n",
            "5609/5609 [==============================] - 45s 8ms/step - loss: 8021705.5368 - mae: 2159.5954 - val_loss: 8813957.0000 - val_mae: 2261.3752\n",
            "Epoch 26/500\n",
            "5609/5609 [==============================] - 44s 8ms/step - loss: 7929280.6184 - mae: 2141.7835 - val_loss: 9030593.0000 - val_mae: 2278.9277\n",
            "Epoch 27/500\n",
            "5609/5609 [==============================] - 45s 8ms/step - loss: 8098918.1230 - mae: 2163.0562 - val_loss: 8122103.5000 - val_mae: 2199.3149\n",
            "Epoch 28/500\n",
            "5609/5609 [==============================] - 44s 8ms/step - loss: 8075817.5094 - mae: 2170.5720 - val_loss: 7231792.5000 - val_mae: 2064.9241\n",
            "Epoch 29/500\n",
            "5609/5609 [==============================] - 44s 8ms/step - loss: 7871411.9567 - mae: 2149.0855 - val_loss: 9493756.0000 - val_mae: 2444.5298\n",
            "Epoch 30/500\n",
            "5609/5609 [==============================] - 43s 8ms/step - loss: 7777944.5495 - mae: 2127.7237 - val_loss: 10022600.0000 - val_mae: 2510.9031\n",
            "Epoch 31/500\n",
            "5609/5609 [==============================] - 44s 8ms/step - loss: 7653663.9238 - mae: 2115.4751 - val_loss: 9222014.0000 - val_mae: 2406.4624\n",
            "Epoch 32/500\n",
            "5609/5609 [==============================] - 43s 8ms/step - loss: 7616533.0141 - mae: 2100.8746 - val_loss: 9278789.0000 - val_mae: 2396.9165\n",
            "Epoch 33/500\n",
            "5609/5609 [==============================] - 43s 8ms/step - loss: 7497359.3457 - mae: 2088.0706 - val_loss: 8611159.0000 - val_mae: 2304.4871\n",
            "Epoch 34/500\n",
            "5609/5609 [==============================] - 44s 8ms/step - loss: 7484789.7432 - mae: 2079.5554 - val_loss: 8878682.0000 - val_mae: 2325.7744\n",
            "Epoch 35/500\n",
            "5609/5609 [==============================] - 43s 8ms/step - loss: 7535652.4144 - mae: 2107.3161 - val_loss: 8725819.0000 - val_mae: 2320.6770\n",
            "Epoch 36/500\n",
            "5609/5609 [==============================] - 44s 8ms/step - loss: 9095966.4160 - mae: 2295.7651 - val_loss: 7355315.0000 - val_mae: 2107.3750\n",
            "Epoch 37/500\n",
            "5609/5609 [==============================] - 44s 8ms/step - loss: 8081605.1490 - mae: 2165.7044 - val_loss: 9695555.0000 - val_mae: 2404.9709\n",
            "Epoch 38/500\n",
            "5609/5609 [==============================] - 45s 8ms/step - loss: 8373927.6607 - mae: 2188.7203 - val_loss: 7720801.5000 - val_mae: 2133.0227\n",
            "Epoch 39/500\n",
            "5609/5609 [==============================] - 44s 8ms/step - loss: 8234620.5795 - mae: 2187.0928 - val_loss: 14818212.0000 - val_mae: 3034.5444\n",
            "Epoch 40/500\n",
            "5609/5609 [==============================] - 44s 8ms/step - loss: 7941924.1045 - mae: 2143.8691 - val_loss: 9655982.0000 - val_mae: 2359.4131\n",
            "Epoch 41/500\n",
            "5609/5609 [==============================] - 44s 8ms/step - loss: 8111508.3872 - mae: 2181.1026 - val_loss: 7888402.0000 - val_mae: 2213.0547\n",
            "Epoch 42/500\n",
            "5609/5609 [==============================] - 44s 8ms/step - loss: 8100539.8312 - mae: 2165.6982 - val_loss: 8339970.5000 - val_mae: 2210.2400\n",
            "Epoch 43/500\n",
            "5609/5609 [==============================] - 44s 8ms/step - loss: 7619510.0464 - mae: 2110.4195 - val_loss: 7657545.0000 - val_mae: 2155.3494\n",
            "Epoch 44/500\n",
            "5609/5609 [==============================] - 44s 8ms/step - loss: 7446664.7085 - mae: 2087.5410 - val_loss: 9929926.0000 - val_mae: 2396.7678\n",
            "Epoch 45/500\n",
            "5609/5609 [==============================] - 44s 8ms/step - loss: 7612049.8052 - mae: 2104.9639 - val_loss: 7872158.5000 - val_mae: 2154.1787\n",
            "Epoch 46/500\n",
            "5609/5609 [==============================] - 44s 8ms/step - loss: 7688343.9016 - mae: 2121.1953 - val_loss: 8465628.0000 - val_mae: 2255.5559\n",
            "Epoch 47/500\n",
            "5609/5609 [==============================] - 43s 8ms/step - loss: 9191393.1054 - mae: 2307.1598 - val_loss: 8400541.0000 - val_mae: 2221.6245\n",
            "Epoch 48/500\n",
            "5609/5609 [==============================] - 44s 8ms/step - loss: 8614201.1588 - mae: 2227.6721 - val_loss: 11527982.0000 - val_mae: 2650.7498\n",
            "Restoring model weights from the end of the best epoch.\n",
            "Epoch 00048: early stopping\n"
          ],
          "name": "stdout"
        }
      ]
    },
    {
      "cell_type": "markdown",
      "metadata": {
        "id": "X4Dh6F4zV0Nn"
      },
      "source": [
        "# Analysis"
      ]
    },
    {
      "cell_type": "markdown",
      "metadata": {
        "id": "J3tPq9Lewtq5"
      },
      "source": [
        "## Energy Consuption for 2011"
      ]
    },
    {
      "cell_type": "code",
      "metadata": {
        "colab": {
          "base_uri": "https://localhost:8080/",
          "height": 607
        },
        "id": "n-9dGTGJq-ko",
        "outputId": "c10680f3-2724-42c9-b114-16d6764600e1"
      },
      "source": [
        "YEAR_END_INDEX = 24*365\n",
        "plt.figure(figsize=(20,10))\n",
        "plt.plot(merged_data['valid_date'][:YEAR_END_INDEX], merged_data['MWh'][:YEAR_END_INDEX])\n",
        "plt.title('Energy Consumption (One Year)')\n",
        "plt.ylabel('Energy Consumption (MW)')\n",
        "plt.show()"
      ],
      "execution_count": null,
      "outputs": [
        {
          "output_type": "display_data",
          "data": {
            "image/png": "[encoded data removed]",
            "text/plain": [
              "<Figure size 1440x720 with 1 Axes>"
            ]
          },
          "metadata": {
            "tags": [],
            "needs_background": "light"
          }
        }
      ]
    },
    {
      "cell_type": "markdown",
      "metadata": {
        "id": "ja0dqOn7l3aP"
      },
      "source": [
        "## Training"
      ]
    },
    {
      "cell_type": "code",
      "metadata": {
        "colab": {
          "base_uri": "https://localhost:8080/",
          "height": 615
        },
        "id": "N8TGJmG7tVFF",
        "outputId": "fce3d0a4-d802-4df4-b410-a6d4a08cdda3"
      },
      "source": [
        "# show scatterplots of actual vs. predicted for train and test\n",
        "# make a prediction\n",
        "pred = model.predict(X_train)# the pred\n",
        "\n",
        "# calculate MSE for the baseline model\n",
        "from sklearn.metrics import mean_absolute_error\n",
        "print('MAE of the model is: ', mean_absolute_error(y_train, pred[: ,0, 0]))\n",
        "\n",
        "actual = y_train # the actual\n",
        "plt.scatter(x=actual, y=pred[: ,0, 0])\n",
        "x = np.linspace(0,25) # 45 degree line from 0 to 25 (axes are the same)\n",
        "plt.plot(x, x, color='red')\n",
        "plt.suptitle('Train Results')\n",
        "plt.xlabel('Actual')\n",
        "plt.ylabel('Predicted')\n",
        "plt.show()\n",
        "# looks pretty good!\n",
        "\n",
        "# show timeseries plot on the train and validation data\n",
        "plt.plot(np.arange(X_train.shape[0]), y_train, color='blue') # actual data\n",
        "plt.plot(np.arange(X_train.shape[0]), pred[: ,0, 0], color='red') # predicted data\n",
        "plt.suptitle('Test Results')\n",
        "plt.xlabel('Time')\n",
        "plt.ylabel('Energy')\n",
        "plt.show()"
      ],
      "execution_count": null,
      "outputs": [
        {
          "output_type": "stream",
          "text": [
            "MAE of the model is:  2178.4383742536356\n"
          ],
          "name": "stdout"
        },
        {
          "output_type": "display_data",
          "data": {
            "image/png": "[encoded data removed]",
            "text/plain": [
              "<Figure size 432x288 with 1 Axes>"
            ]
          },
          "metadata": {
            "tags": [],
            "needs_background": "light"
          }
        },
        {
          "output_type": "display_data",
          "data": {
            "image/png": "[encoded data removed]",
            "text/plain": [
              "<Figure size 432x288 with 1 Axes>"
            ]
          },
          "metadata": {
            "tags": [],
            "needs_background": "light"
          }
        }
      ]
    },
    {
      "cell_type": "markdown",
      "metadata": {
        "id": "dzj3eCybl7By"
      },
      "source": [
        "## Test"
      ]
    },
    {
      "cell_type": "code",
      "metadata": {
        "colab": {
          "base_uri": "https://localhost:8080/",
          "height": 615
        },
        "id": "wAUPUO0Ys4SE",
        "outputId": "5d8f366a-5bcf-4798-93b4-1f7dda09d105"
      },
      "source": [
        "# show scatterplots of actual vs. predicted for train and test\n",
        "# make a prediction\n",
        "pred = model.predict(X_test)# the pred\n",
        "\n",
        "# calculate MSE for the baseline model\n",
        "from sklearn.metrics import mean_absolute_error\n",
        "print('MAE of the MODEL is: ', mean_absolute_error(y_test, pred[: ,0, 0]))\n",
        "\n",
        "actual = y_test # the actual\n",
        "plt.scatter(x=actual, y=pred[: ,0, 0])\n",
        "x = np.linspace(0,25) # 45 degree line from 0 to 25 (axes are the same)\n",
        "plt.plot(x, x, color='red')\n",
        "plt.suptitle('Test Results')\n",
        "plt.xlabel('Actual')\n",
        "plt.ylabel('Predicted')\n",
        "plt.show()\n",
        "\n",
        "# show timeseries plot on the train and validation data\n",
        "plt.plot(np.arange(X_test.shape[0]), y_test, color='blue') # actual data\n",
        "plt.plot(np.arange(X_test.shape[0]), pred[: ,0, 0], color='red') # predicted data\n",
        "plt.suptitle('Test Results')\n",
        "plt.xlabel('Time')\n",
        "plt.ylabel('Energy')\n",
        "plt.show()"
      ],
      "execution_count": null,
      "outputs": [
        {
          "output_type": "stream",
          "text": [
            "MAE of the MODEL is:  2267.0211454546507\n"
          ],
          "name": "stdout"
        },
        {
          "output_type": "display_data",
          "data": {
            "image/png": "[encoded data removed]",
            "text/plain": [
              "<Figure size 432x288 with 1 Axes>"
            ]
          },
          "metadata": {
            "tags": [],
            "needs_background": "light"
          }
        },
        {
          "output_type": "display_data",
          "data": {
            "image/png": "[encoded data removed]",
            "text/plain": [
              "<Figure size 432x288 with 1 Axes>"
            ]
          },
          "metadata": {
            "tags": [],
            "needs_background": "light"
          }
        }
      ]
    },
    {
      "cell_type": "markdown",
      "metadata": {
        "id": "_rkBJAf9mdjD"
      },
      "source": [
        "## Insights:\n",
        "\n",
        "1. We tried various models as a part of our analysis but have included Bidirectional LSTM Model here, as it was our best model in terms of MAE( Mean Absolute Error). The MAE of the model(test) is 2267.02.(Best is 2064)\n",
        "\n",
        "2. We have observed that MAE for both the training and train set is near about.(for test it is 2178.44).\n",
        "\n",
        "3. The energy varies between 20K and 70K megawatts during the entire year.\n",
        "\n",
        "4. From the energy consuption graph(monthly), it can deduced that their is a more consuption of energy between the month August and October and it decline after that.\n",
        "\n",
        "5. From the energy consuption graph(hourly), it can deduced that their is a more consuption of energy during late afternoon and early evening(i.e. 15:00-19:00) and it decline after that.\n",
        "\n",
        "6. We have built the time series plot and from it can be observed that the data is closely following the actual data and there is no overfitting issues here.\n",
        "\n",
        "7. Closely monitoring the model and incorporating some changes in the model( type, layers, epoches) it can be used in real time to prevent such power outages in future.\n",
        "\n",
        "8. We can also observe that with increase in Air Temperature in Fahrenheit, typically the energy consuption is increasing."
      ]
    }
  ]
}